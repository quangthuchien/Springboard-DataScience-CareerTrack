{
 "cells": [
  {
   "cell_type": "markdown",
   "metadata": {},
   "source": [
    "# Milestone Report"
   ]
  },
  {
   "cell_type": "markdown",
   "metadata": {},
   "source": [
    "## Introduction"
   ]
  },
  {
   "cell_type": "markdown",
   "metadata": {},
   "source": [
    "My friend and I want to create a new boardgame. We have a concept but were unsure which game mechanisms to use or if number of players or playtime has any effect on making people prefer it over others. Using dataset scrapped from gameboardgeek website, I aim to find out what about a game that makes it good. From where, hopefully we can make decisions on which approach we want to take for developing our game.\n",
    "\n",
    "The dataset that is used in this project is hosted at:\n",
    "\n",
    "https://github.com/quangthuchien/Springboard-DataScience-CareerTrack/blob/master/Capstone%20project%201%20-%20Boardgames/Data/boardgame.csv\n",
    "\n",
    "The spider script that is used for this set is hosted at:\n",
    "\n",
    "https://github.com/quangthuchien/Springboard-DataScience-CareerTrack/blob/master/Capstone%20project%201%20-%20Boardgames/Spider/spider.py"
   ]
  },
  {
   "cell_type": "markdown",
   "metadata": {},
   "source": [
    "Note: Code for this project analysis can be found here:\n",
    "\n",
    "https://github.com/quangthuchien/Springboard-DataScience-CareerTrack/blob/master/Capstone%20project%201%20-%20Boardgames/Milestone%20Report.ipynb"
   ]
  },
  {
   "cell_type": "markdown",
   "metadata": {},
   "source": [
    "## Deep Diver"
   ]
  },
  {
   "cell_type": "markdown",
   "metadata": {},
   "source": [
    "### Important fields and information"
   ]
  },
  {
   "cell_type": "markdown",
   "metadata": {},
   "source": [
    "For this project, we are looking at how well-recieved a game is. This is quantify by looking at average ratings each borad games get. This is the essential information needed. There are several other rating system on boradgamgeek such as 'geek rate' or 'Bayes' rating' but to keep it simple, I choose 'average rating\" which is on a scale of 1-10 knowing that I could always come back and double check with other rating system.\n",
    "\n",
    "Beside rating, there are also a few other information that is important to look at. Most of these correlated with our questions regarding our game making decisions such as: number of players, playing time, game mechanisms and game categories\n",
    "\n",
    "The complete list of data available is as followed:id, category, geek_rate, classificationtype, minage, avg_rate, family, title, minplayers, playingtime, yearpublished, usersrated, maxplayers, page, itemnumber, bayesaverage, mechanism, num_votes, maxplaytime, type, minplaytime\n"
   ]
  },
  {
   "cell_type": "markdown",
   "metadata": {},
   "source": [
    "### Limitations"
   ]
  },
  {
   "cell_type": "markdown",
   "metadata": {},
   "source": [
    "Information available on gameboardgeek is user generated, similar Wikipedia, therefore, some information are missing and incomplete or just wrong. Gameboardgeek admins try hard to make sure the database is as clean as possible, it's likely that we have to clean the data up before it is ready for analyzed. \n",
    "\n",
    "Also, it is note worthy that these ratings are rated by people who used this website, which means there could be bias built-in. What if the people who rated games on gameboardgeek are different from people who don't in same important manner?\n",
    "\n",
    "Moreover, with this dataset, we don't know the number of people own the games and the number of people who actually rated it. This missing information makes it hard to accuraly compare ratings between games. For example, game A were rated 8/10 by one person who doesn't own the game but heard about it from friends. This rating misleads us to think that game A is good when in actuality the actually rating should have been a lot lower if we could get better and more data points. Similarly, game B was rated 3/10 by one person who simply just doesn't like the game graphic. In this case, we ignore game B when it could be a really good game. \n",
    "\n",
    "Morever, there are not information on people who rated these games such as gender and age. I wouldn't not be able to tell if a game is rated high among teens and low among people in there 40's. "
   ]
  },
  {
   "cell_type": "markdown",
   "metadata": {},
   "source": [
    "### Cleaning and Wrangling"
   ]
  },
  {
   "cell_type": "markdown",
   "metadata": {},
   "source": [
    "This dataset is scrapped froma website so it's quite clean to begin with. As expected, there are many missing data so I need to drop those records. In this process, the number of records went from 96,693 to 8,636 which is a massively ammount of data being dropped. I'm concerned that that this new dataset might not be representatives of the whole population. However, 8,636 records is still a good amount of games to do analysis on.\n",
    "\n",
    "The biggest wrangling problem for this set is that not all column is numeric. Information such as game mechanisms and game types are in lists, seperated by commas. A game can have multiple mechanism and multiple types. For this, I brute force it by creating creating two series. One contains all game mechanisms and the other contains all game types. Then I convert these to series into boolean column with 1's and 0's"
   ]
  },
  {
   "cell_type": "markdown",
   "metadata": {},
   "source": [
    "Here is the code I used for category:"
   ]
  },
  {
   "cell_type": "raw",
   "metadata": {},
   "source": [
    "category = ['Abstract Strategy','Action / Dexterity','Adventure','Age of Reason','American Civil War',\n",
    "            'American Indian Wars','American Revolutionary War','American West','Ancient','Animals',\n",
    "            'Arabian','Aviation / Flight','Bluffing','Book','Card Game',\"Children's Game\",'City Building',\n",
    "            'Civil War','Civilization','Collectible Components','Comic Book / Strip','Deduction','Dice',\n",
    "            'Economic','Educational','Electronic','Environmental','Expansion for Base-game','Exploration',\n",
    "            'Fan Expansion','Fantasy','Farming','Fighting','Game System','Horror','Humor','Industry / Manufacturing',\n",
    "            'Korean War','Mafia','Math','Mature / Adult','Maze','Medical','Medieval','Memory','Miniatures',\n",
    "            'Modern Warfare','Movies / TV / Radio theme','Murder/Mystery','Music','Mythology','Napoleonic',\n",
    "            'Nautical','Negotiation','Novel-based','Number','Party Game','Pike and Shot','Pirates','Political',\n",
    "            'Post-Napoleonic','Prehistoric','Print & Play','Puzzle','Racing','Real-time','Religious','Renaissance',\n",
    "            'Science Fiction','Space Exploration','Spies/Secret Agents','Sports','Territory Building','Trains',\n",
    "            'Transportation','Travel','Trivia','Video Game Theme','Vietnam War','Wargame','Word Game','World War I',\n",
    "            'World War II','Zombies']"
   ]
  },
  {
   "cell_type": "raw",
   "metadata": {},
   "source": [
    "for cat in category:\n",
    "    for index, row in game.iterrows():\n",
    "        if cat in game.loc[index,'category']:\n",
    "            game.loc[index,cat] = 1\n",
    "        else:\n",
    "            game.loc[index,cat] = 0 "
   ]
  },
  {
   "cell_type": "markdown",
   "metadata": {},
   "source": [
    "For game mechanism, I usually similar method to achieve the final data set "
   ]
  },
  {
   "cell_type": "markdown",
   "metadata": {},
   "source": [
    "### Other data set"
   ]
  },
  {
   "cell_type": "markdown",
   "metadata": {},
   "source": [
    "There are two other data set from Kaggle and one data set I scrapped from gameboardgeek prior to the current one. Here are the links to them:\n",
    "\n",
    "https://www.kaggle.com/mrpantherson/board-game-data\n",
    "\n",
    "https://www.kaggle.com/gabrio/board-games-dataset\n",
    "\n",
    "https://github.com/quangthuchien/Springboard-DataScience-CareerTrack/blob/master/Capstone%20project%201%20-%20Boardgames/Data/games.csv\n",
    "\n",
    "However, they are not quite what I'm looking for which is the reasons why I had to scrapped the data for myself"
   ]
  },
  {
   "cell_type": "markdown",
   "metadata": {},
   "source": [
    "## Preliminary Exploration"
   ]
  },
  {
   "cell_type": "markdown",
   "metadata": {},
   "source": [
    "Any preliminary exploration you’ve performed and your initial findings. Test the hypotheses one at a time. Often, the data story emerges as a result of a sequence of testing hypothesis e.g. You first tested if X was true, and because it wasn't, you tried Y, which turned out to be true."
   ]
  },
  {
   "cell_type": "markdown",
   "metadata": {},
   "source": [
    "Note: All details analysis are in this notebook:\n",
    "\n",
    "https://github.com/quangthuchien/Springboard-DataScience-CareerTrack/blob/master/Capstone%20project%201%20-%20Boardgames/Milestone%20Report.ipynb\n",
    "        "
   ]
  },
  {
   "cell_type": "markdown",
   "metadata": {},
   "source": [
    "Using data collected, I started to plot rating versus other metrics to unconver any initial correlations. I expected to see come correlations with playing time, number of players, etc. but to my surprised, there is no correlations. The scatter plot looks \"scattered\" without any trace of a trend. Doing hypothesis testing comfirms my susspision that there is no significant differences between any of groups of playing time or group of nubmer of players. "
   ]
  },
  {
   "cell_type": "markdown",
   "metadata": {},
   "source": [
    "A snippet of the code I wrote for this process:"
   ]
  },
  {
   "cell_type": "raw",
   "metadata": {},
   "source": [
    "#create a list of games that requires max 2 players to play\n",
    "two_players = bg[bg.maxplayers <= 2]\n",
    "two_players = two_players.avg_rate.sort_values()\n",
    "fit = st.norm.pdf(two_players, np.mean(two_players), np.std(two_players)) \n",
    "pl.plot(two_players,fit,'-o')\n",
    "pl.hist(two_players,normed=True)    \n",
    "pl.show() \n",
    "two_players.describe()"
   ]
  },
  {
   "cell_type": "raw",
   "metadata": {},
   "source": [
    "#create a list of games that requires max 5-10 players to play\n",
    "bg = game\n",
    "ten_players = bg[bg.maxplayers <= 10]\n",
    "ten_players = ten_players[ten_players.maxplayers > 5]\n",
    "ten_players = ten_players.avg_rate.sort_values()\n",
    "fit = st.norm.pdf(ten_players, np.mean(ten_players), np.std(ten_players)) \n",
    "pl.plot(ten_players,fit,'-o')\n",
    "pl.hist(ten_players,normed=True)    \n",
    "pl.show() \n",
    "ten_players.describe()"
   ]
  },
  {
   "cell_type": "raw",
   "metadata": {},
   "source": [
    "s_two=0.836317\n",
    "s_ten=0.851435\n",
    "n= 1895\n",
    "x_two=6.735309\n",
    "x_ten=6.599367\n",
    "\n",
    "SE_twoten= round((((s_two**2)+(s_ten**2))/n)**0.5,2)\n",
    "#SE\n",
    "x_diff=round(x_two-x_ten,2)\n",
    "#x_diff\n",
    "\n",
    "Z= round(((x_diff - 0)/SE_twoten),2)\n",
    "#Z\n",
    "\n",
    "#two tailes\n",
    "p_values = st.norm.sf(abs(Z))*2\n",
    "print (\"p values = \",p_values)\n",
    "print( \"P values is \", round(p_values *100,2),\"%\")\n",
    "if p_values >= 0.05:\n",
    "    print (\"There is a significant different between two population\")\n",
    "else:\n",
    "    print (\"There is NOT a significant different between two population\")"
   ]
  },
  {
   "cell_type": "markdown",
   "metadata": {},
   "source": [
    "At this point, I moved on to looking at game mechanisms and types."
   ]
  },
  {
   "cell_type": "markdown",
   "metadata": {},
   "source": [
    "It seems like there is a significant differences in rating that for both game mechanisms and game types. \n"
   ]
  },
  {
   "cell_type": "markdown",
   "metadata": {},
   "source": [
    "For game mechanism, the highest rated mechanism is \"Deck / Pool Building\" with avergage rating of 7.36% while the lowest rated mechanism is \"Roll / Spin and Move\" with average rating at 5.79%. The p values between these two groups is 8.01% which is significant. "
   ]
  },
  {
   "cell_type": "markdown",
   "metadata": {},
   "source": [
    "For game types, the highest rated type is \"Expansion for Base-game\" with avergage rating of 7.29 while the lowest rated mechanism is \"Children's Game\" with average rating at 5.55%. However, both of the highest and lowest rated groups are not what I intended to do because I want to make a new game whose target consumers are teeenagers and adults. Therfore, I choose to compare the second best versus the second worst which is \"Industry / Manufacturing\" averaging at 7.28 and \"Number\" averaging at 5.65, respectively. The p values between these two groups is 43.54% which is significant. "
   ]
  },
  {
   "cell_type": "code",
   "execution_count": null,
   "metadata": {
    "collapsed": true
   },
   "outputs": [],
   "source": []
  },
  {
   "cell_type": "markdown",
   "metadata": {},
   "source": [
    "## Next Step"
   ]
  },
  {
   "cell_type": "markdown",
   "metadata": {},
   "source": [
    "With the new exploration is game mechanisms and types, I would like to compare more between groups of mechanisms and types. I also could combine these two informations with playing time and number of players to see if there is any correlation with this way"
   ]
  },
  {
   "cell_type": "code",
   "execution_count": null,
   "metadata": {
    "collapsed": true
   },
   "outputs": [],
   "source": []
  },
  {
   "cell_type": "code",
   "execution_count": null,
   "metadata": {
    "collapsed": true
   },
   "outputs": [],
   "source": []
  },
  {
   "cell_type": "code",
   "execution_count": null,
   "metadata": {
    "collapsed": true
   },
   "outputs": [],
   "source": []
  },
  {
   "cell_type": "code",
   "execution_count": null,
   "metadata": {
    "collapsed": true
   },
   "outputs": [],
   "source": []
  },
  {
   "cell_type": "code",
   "execution_count": null,
   "metadata": {
    "collapsed": true
   },
   "outputs": [],
   "source": []
  },
  {
   "cell_type": "code",
   "execution_count": null,
   "metadata": {
    "collapsed": true
   },
   "outputs": [],
   "source": []
  },
  {
   "cell_type": "code",
   "execution_count": null,
   "metadata": {
    "collapsed": true
   },
   "outputs": [],
   "source": []
  },
  {
   "cell_type": "code",
   "execution_count": null,
   "metadata": {
    "collapsed": true
   },
   "outputs": [],
   "source": []
  },
  {
   "cell_type": "code",
   "execution_count": null,
   "metadata": {
    "collapsed": true
   },
   "outputs": [],
   "source": []
  },
  {
   "cell_type": "code",
   "execution_count": null,
   "metadata": {
    "collapsed": true
   },
   "outputs": [],
   "source": []
  },
  {
   "cell_type": "code",
   "execution_count": null,
   "metadata": {
    "collapsed": true
   },
   "outputs": [],
   "source": []
  },
  {
   "cell_type": "code",
   "execution_count": null,
   "metadata": {
    "collapsed": true
   },
   "outputs": [],
   "source": []
  },
  {
   "cell_type": "code",
   "execution_count": null,
   "metadata": {
    "collapsed": true
   },
   "outputs": [],
   "source": []
  },
  {
   "cell_type": "code",
   "execution_count": null,
   "metadata": {
    "collapsed": true
   },
   "outputs": [],
   "source": []
  },
  {
   "cell_type": "code",
   "execution_count": null,
   "metadata": {
    "collapsed": true
   },
   "outputs": [],
   "source": []
  },
  {
   "cell_type": "code",
   "execution_count": null,
   "metadata": {
    "collapsed": true
   },
   "outputs": [],
   "source": []
  },
  {
   "cell_type": "code",
   "execution_count": null,
   "metadata": {
    "collapsed": true
   },
   "outputs": [],
   "source": []
  },
  {
   "cell_type": "code",
   "execution_count": null,
   "metadata": {
    "collapsed": true
   },
   "outputs": [],
   "source": []
  },
  {
   "cell_type": "code",
   "execution_count": null,
   "metadata": {
    "collapsed": true
   },
   "outputs": [],
   "source": []
  },
  {
   "cell_type": "code",
   "execution_count": null,
   "metadata": {
    "collapsed": true
   },
   "outputs": [],
   "source": []
  },
  {
   "cell_type": "code",
   "execution_count": null,
   "metadata": {
    "collapsed": true
   },
   "outputs": [],
   "source": []
  },
  {
   "cell_type": "code",
   "execution_count": null,
   "metadata": {
    "collapsed": true
   },
   "outputs": [],
   "source": []
  },
  {
   "cell_type": "code",
   "execution_count": null,
   "metadata": {
    "collapsed": true
   },
   "outputs": [],
   "source": []
  },
  {
   "cell_type": "code",
   "execution_count": null,
   "metadata": {
    "collapsed": true
   },
   "outputs": [],
   "source": []
  },
  {
   "cell_type": "code",
   "execution_count": null,
   "metadata": {
    "collapsed": true
   },
   "outputs": [],
   "source": []
  },
  {
   "cell_type": "code",
   "execution_count": null,
   "metadata": {
    "collapsed": true
   },
   "outputs": [],
   "source": []
  },
  {
   "cell_type": "code",
   "execution_count": null,
   "metadata": {
    "collapsed": true
   },
   "outputs": [],
   "source": []
  },
  {
   "cell_type": "code",
   "execution_count": null,
   "metadata": {
    "collapsed": true
   },
   "outputs": [],
   "source": []
  },
  {
   "cell_type": "code",
   "execution_count": null,
   "metadata": {
    "collapsed": true
   },
   "outputs": [],
   "source": []
  },
  {
   "cell_type": "code",
   "execution_count": null,
   "metadata": {
    "collapsed": true
   },
   "outputs": [],
   "source": []
  },
  {
   "cell_type": "code",
   "execution_count": null,
   "metadata": {
    "collapsed": true
   },
   "outputs": [],
   "source": []
  },
  {
   "cell_type": "code",
   "execution_count": null,
   "metadata": {
    "collapsed": true
   },
   "outputs": [],
   "source": []
  }
 ],
 "metadata": {
  "kernelspec": {
   "display_name": "Python 3",
   "language": "python",
   "name": "python3"
  },
  "language_info": {
   "codemirror_mode": {
    "name": "ipython",
    "version": 3
   },
   "file_extension": ".py",
   "mimetype": "text/x-python",
   "name": "python",
   "nbconvert_exporter": "python",
   "pygments_lexer": "ipython3",
   "version": "3.6.0"
  }
 },
 "nbformat": 4,
 "nbformat_minor": 2
}
