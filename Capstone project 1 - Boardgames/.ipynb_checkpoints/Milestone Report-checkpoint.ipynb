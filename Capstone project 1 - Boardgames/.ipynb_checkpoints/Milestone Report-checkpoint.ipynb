{
 "cells": [
  {
   "cell_type": "markdown",
   "metadata": {},
   "source": [
    "# Capestone Project 1 - Boardgames"
   ]
  },
  {
   "cell_type": "code",
   "execution_count": null,
   "metadata": {
    "collapsed": true
   },
   "outputs": [],
   "source": []
  },
  {
   "cell_type": "code",
   "execution_count": null,
   "metadata": {
    "collapsed": false
   },
   "outputs": [],
   "source": []
  },
  {
   "cell_type": "markdown",
   "metadata": {},
   "source": [
    "Project idea is inspired from board games dateset by Mrpantherson: https://www.kaggle.com/mrpantherson/board-game-data)\n",
    "Data is collected from gameboardgeek website using a modified python script. The original scrapperi is hosted at: https://github.com/ThaWeatherman/scrapers/tree/master/boardgamegeek"
   ]
  },
  {
   "cell_type": "code",
   "execution_count": null,
   "metadata": {
    "collapsed": false
   },
   "outputs": [],
   "source": []
  },
  {
   "cell_type": "code",
   "execution_count": 1,
   "metadata": {
    "collapsed": true
   },
   "outputs": [],
   "source": [
    "import pandas as pd\n",
    "import numpy as np   \n",
    "%matplotlib inline\n",
    "import matplotlib.pyplot as plt\n",
    "import pylab as pl\n",
    "from scipy import stats as st"
   ]
  },
  {
   "cell_type": "code",
   "execution_count": null,
   "metadata": {
    "collapsed": false
   },
   "outputs": [],
   "source": []
  },
  {
   "cell_type": "code",
   "execution_count": 2,
   "metadata": {
    "collapsed": false,
    "slideshow": {
     "slide_type": "-"
    }
   },
   "outputs": [],
   "source": [
    "#read csv file scrapped from Boardgamesgeek. It's a large file so it will take time to load.\n",
    "url= \"https://raw.githubusercontent.com/quangthuchien/Springboard-DataScience-CareerTrack/master/Capstone%20project%201%20-%20Boardgames/Data/boardgame.csv\"\n",
    "raw = pd.read_csv(url, encoding='utf-8')\n",
    "\n"
   ]
  },
  {
   "cell_type": "code",
   "execution_count": null,
   "metadata": {
    "collapsed": true
   },
   "outputs": [],
   "source": []
  },
  {
   "cell_type": "markdown",
   "metadata": {
    "collapsed": true
   },
   "source": [
    "## Data Wrangling"
   ]
  },
  {
   "cell_type": "code",
   "execution_count": 3,
   "metadata": {
    "collapsed": false
   },
   "outputs": [
    {
     "data": {
      "text/html": [
       "<div>\n",
       "<table border=\"1\" class=\"dataframe\">\n",
       "  <thead>\n",
       "    <tr style=\"text-align: right;\">\n",
       "      <th></th>\n",
       "      <th>category</th>\n",
       "      <th>geek_rate</th>\n",
       "      <th>classificationtype</th>\n",
       "      <th>minage</th>\n",
       "      <th>avg_rate</th>\n",
       "      <th>family</th>\n",
       "      <th>title</th>\n",
       "      <th>minplayers</th>\n",
       "      <th>playingtime</th>\n",
       "      <th>yearpublished</th>\n",
       "      <th>...</th>\n",
       "      <th>maxplayers</th>\n",
       "      <th>page</th>\n",
       "      <th>itemnumber</th>\n",
       "      <th>bayesaverage</th>\n",
       "      <th>mechanism</th>\n",
       "      <th>num_votes</th>\n",
       "      <th>maxplaytime</th>\n",
       "      <th>type</th>\n",
       "      <th>id</th>\n",
       "      <th>minplaytime</th>\n",
       "    </tr>\n",
       "  </thead>\n",
       "  <tbody>\n",
       "    <tr>\n",
       "      <th>0</th>\n",
       "      <td>Environmental,Medical</td>\n",
       "      <td>8.493</td>\n",
       "      <td>thematic,strategygames</td>\n",
       "      <td>13.0</td>\n",
       "      <td>8.67</td>\n",
       "      <td>Campaign Games,Legacy,Pandemic</td>\n",
       "      <td>Pandemic Legacy: Season 1</td>\n",
       "      <td>2.0</td>\n",
       "      <td>60.0</td>\n",
       "      <td>2015.0</td>\n",
       "      <td>...</td>\n",
       "      <td>4.0</td>\n",
       "      <td>1</td>\n",
       "      <td>1</td>\n",
       "      <td>8.49325</td>\n",
       "      <td>Action Point Allowance System,Co-operative Pla...</td>\n",
       "      <td>18791.0</td>\n",
       "      <td>60.0</td>\n",
       "      <td>boardgame</td>\n",
       "      <td>161936</td>\n",
       "      <td>60.0</td>\n",
       "    </tr>\n",
       "    <tr>\n",
       "      <th>1</th>\n",
       "      <td>Card Game,Civilization,Economic</td>\n",
       "      <td>8.310</td>\n",
       "      <td>strategygames</td>\n",
       "      <td>14.0</td>\n",
       "      <td>8.71</td>\n",
       "      <td>Tableau Building</td>\n",
       "      <td>Through the Ages: A New Story of Civilization</td>\n",
       "      <td>2.0</td>\n",
       "      <td>240.0</td>\n",
       "      <td>2015.0</td>\n",
       "      <td>...</td>\n",
       "      <td>4.0</td>\n",
       "      <td>1</td>\n",
       "      <td>2</td>\n",
       "      <td>8.30967</td>\n",
       "      <td>Action Point Allowance System,Auction/Bidding,...</td>\n",
       "      <td>7757.0</td>\n",
       "      <td>240.0</td>\n",
       "      <td>boardgame</td>\n",
       "      <td>182028</td>\n",
       "      <td>180.0</td>\n",
       "    </tr>\n",
       "    <tr>\n",
       "      <th>2</th>\n",
       "      <td>Modern Warfare,Political,Wargame</td>\n",
       "      <td>8.220</td>\n",
       "      <td>wargames,strategygames</td>\n",
       "      <td>13.0</td>\n",
       "      <td>8.36</td>\n",
       "      <td>Country: Russia,Country: USA</td>\n",
       "      <td>Twilight Struggle</td>\n",
       "      <td>2.0</td>\n",
       "      <td>180.0</td>\n",
       "      <td>2005.0</td>\n",
       "      <td>...</td>\n",
       "      <td>2.0</td>\n",
       "      <td>1</td>\n",
       "      <td>3</td>\n",
       "      <td>8.21954</td>\n",
       "      <td>Area Control / Area Influence,Campaign / Battl...</td>\n",
       "      <td>27834.0</td>\n",
       "      <td>180.0</td>\n",
       "      <td>boardgame</td>\n",
       "      <td>12333</td>\n",
       "      <td>180.0</td>\n",
       "    </tr>\n",
       "    <tr>\n",
       "      <th>3</th>\n",
       "      <td>Adventure,Economic,Exploration,Fantasy,Fightin...</td>\n",
       "      <td>8.160</td>\n",
       "      <td>thematic,strategygames</td>\n",
       "      <td>12.0</td>\n",
       "      <td>9.06</td>\n",
       "      <td>Campaign Games,Crowdfunding: Kickstarter,Legac...</td>\n",
       "      <td>Gloomhaven</td>\n",
       "      <td>1.0</td>\n",
       "      <td>150.0</td>\n",
       "      <td>2017.0</td>\n",
       "      <td>...</td>\n",
       "      <td>4.0</td>\n",
       "      <td>1</td>\n",
       "      <td>4</td>\n",
       "      <td>8.15998</td>\n",
       "      <td>Action / Movement Programming,Campaign / Battl...</td>\n",
       "      <td>4282.0</td>\n",
       "      <td>150.0</td>\n",
       "      <td>boardgame</td>\n",
       "      <td>174430</td>\n",
       "      <td>90.0</td>\n",
       "    </tr>\n",
       "    <tr>\n",
       "      <th>4</th>\n",
       "      <td>Dice,Fighting,Movies / TV / Radio theme,Scienc...</td>\n",
       "      <td>8.153</td>\n",
       "      <td>thematic</td>\n",
       "      <td>14.0</td>\n",
       "      <td>8.52</td>\n",
       "      <td>Components: Miniatures,Fantasy Flight Big Box,...</td>\n",
       "      <td>Star Wars: Rebellion</td>\n",
       "      <td>2.0</td>\n",
       "      <td>240.0</td>\n",
       "      <td>2016.0</td>\n",
       "      <td>...</td>\n",
       "      <td>4.0</td>\n",
       "      <td>1</td>\n",
       "      <td>5</td>\n",
       "      <td>8.15348</td>\n",
       "      <td>Area Control / Area Influence,Area Movement,Di...</td>\n",
       "      <td>9168.0</td>\n",
       "      <td>240.0</td>\n",
       "      <td>boardgame</td>\n",
       "      <td>187645</td>\n",
       "      <td>180.0</td>\n",
       "    </tr>\n",
       "  </tbody>\n",
       "</table>\n",
       "<p>5 rows × 21 columns</p>\n",
       "</div>"
      ],
      "text/plain": [
       "                                            category  geek_rate  \\\n",
       "0                              Environmental,Medical      8.493   \n",
       "1                    Card Game,Civilization,Economic      8.310   \n",
       "2                   Modern Warfare,Political,Wargame      8.220   \n",
       "3  Adventure,Economic,Exploration,Fantasy,Fightin...      8.160   \n",
       "4  Dice,Fighting,Movies / TV / Radio theme,Scienc...      8.153   \n",
       "\n",
       "       classificationtype  minage  avg_rate  \\\n",
       "0  thematic,strategygames    13.0      8.67   \n",
       "1           strategygames    14.0      8.71   \n",
       "2  wargames,strategygames    13.0      8.36   \n",
       "3  thematic,strategygames    12.0      9.06   \n",
       "4                thematic    14.0      8.52   \n",
       "\n",
       "                                              family  \\\n",
       "0                     Campaign Games,Legacy,Pandemic   \n",
       "1                                   Tableau Building   \n",
       "2                       Country: Russia,Country: USA   \n",
       "3  Campaign Games,Crowdfunding: Kickstarter,Legac...   \n",
       "4  Components: Miniatures,Fantasy Flight Big Box,...   \n",
       "\n",
       "                                           title  minplayers  playingtime  \\\n",
       "0                      Pandemic Legacy: Season 1         2.0         60.0   \n",
       "1  Through the Ages: A New Story of Civilization         2.0        240.0   \n",
       "2                              Twilight Struggle         2.0        180.0   \n",
       "3                                     Gloomhaven         1.0        150.0   \n",
       "4                           Star Wars: Rebellion         2.0        240.0   \n",
       "\n",
       "   yearpublished     ...       maxplayers  page  itemnumber  bayesaverage  \\\n",
       "0         2015.0     ...              4.0     1           1       8.49325   \n",
       "1         2015.0     ...              4.0     1           2       8.30967   \n",
       "2         2005.0     ...              2.0     1           3       8.21954   \n",
       "3         2017.0     ...              4.0     1           4       8.15998   \n",
       "4         2016.0     ...              4.0     1           5       8.15348   \n",
       "\n",
       "                                           mechanism num_votes  maxplaytime  \\\n",
       "0  Action Point Allowance System,Co-operative Pla...   18791.0         60.0   \n",
       "1  Action Point Allowance System,Auction/Bidding,...    7757.0        240.0   \n",
       "2  Area Control / Area Influence,Campaign / Battl...   27834.0        180.0   \n",
       "3  Action / Movement Programming,Campaign / Battl...    4282.0        150.0   \n",
       "4  Area Control / Area Influence,Area Movement,Di...    9168.0        240.0   \n",
       "\n",
       "        type      id  minplaytime  \n",
       "0  boardgame  161936         60.0  \n",
       "1  boardgame  182028        180.0  \n",
       "2  boardgame   12333        180.0  \n",
       "3  boardgame  174430         90.0  \n",
       "4  boardgame  187645        180.0  \n",
       "\n",
       "[5 rows x 21 columns]"
      ]
     },
     "execution_count": 3,
     "metadata": {},
     "output_type": "execute_result"
    }
   ],
   "source": [
    "#check out what the data look likes\n",
    "raw.head()"
   ]
  },
  {
   "cell_type": "code",
   "execution_count": 4,
   "metadata": {
    "collapsed": false
   },
   "outputs": [
    {
     "data": {
      "text/plain": [
       "category               object\n",
       "geek_rate             float64\n",
       "classificationtype     object\n",
       "minage                float64\n",
       "avg_rate              float64\n",
       "family                 object\n",
       "title                  object\n",
       "minplayers            float64\n",
       "playingtime           float64\n",
       "yearpublished         float64\n",
       "usersrated              int64\n",
       "maxplayers            float64\n",
       "page                    int64\n",
       "itemnumber              int64\n",
       "bayesaverage          float64\n",
       "mechanism              object\n",
       "num_votes             float64\n",
       "maxplaytime           float64\n",
       "type                   object\n",
       "id                      int64\n",
       "minplaytime           float64\n",
       "dtype: object"
      ]
     },
     "execution_count": 4,
     "metadata": {},
     "output_type": "execute_result"
    }
   ],
   "source": [
    "#check data types\n",
    "raw.dtypes"
   ]
  },
  {
   "cell_type": "code",
   "execution_count": 6,
   "metadata": {
    "collapsed": false
   },
   "outputs": [
    {
     "data": {
      "text/plain": [
       "(96693, 21)"
      ]
     },
     "execution_count": 6,
     "metadata": {},
     "output_type": "execute_result"
    }
   ],
   "source": [
    "#how many data point do we have\n",
    "raw.shape"
   ]
  },
  {
   "cell_type": "code",
   "execution_count": 7,
   "metadata": {
    "collapsed": false
   },
   "outputs": [
    {
     "data": {
      "text/plain": [
       "(8636, 21)"
      ]
     },
     "execution_count": 7,
     "metadata": {},
     "output_type": "execute_result"
    }
   ],
   "source": [
    "#Remove null values\n",
    "pd.isnull(raw).any()\n",
    "df = raw.dropna()\n",
    "df.shape"
   ]
  },
  {
   "cell_type": "markdown",
   "metadata": {},
   "source": [
    "The number of data point that is removed which significant which can potentially cause bias. Let's press on for now"
   ]
  },
  {
   "cell_type": "code",
   "execution_count": 8,
   "metadata": {
    "collapsed": false
   },
   "outputs": [
    {
     "name": "stderr",
     "output_type": "stream",
     "text": [
      "/Users/quangthuchien/anaconda/lib/python3.6/site-packages/pandas/core/indexing.py:477: SettingWithCopyWarning: \n",
      "A value is trying to be set on a copy of a slice from a DataFrame.\n",
      "Try using .loc[row_indexer,col_indexer] = value instead\n",
      "\n",
      "See the caveats in the documentation: http://pandas.pydata.org/pandas-docs/stable/indexing.html#indexing-view-versus-copy\n",
      "  self.obj[item] = s\n"
     ]
    }
   ],
   "source": [
    "#Convert some floats into integers\n",
    "df.loc[:,'yearpublished'] = df.yearpublished.astype(int)\n",
    "df.loc[:,'minplayers'] = df.minplayers.astype(int)\n",
    "df.loc[:,'maxplayers'] = df.maxplayers.astype(int)\n",
    "df.loc[:,'minage'] = df.minage.astype(int)\n",
    "df.loc[:,'playingtime'] = df.playingtime.astype(int)\n",
    "df.loc[:,'minplaytime'] = df.minplaytime.astype(int)"
   ]
  },
  {
   "cell_type": "code",
   "execution_count": 9,
   "metadata": {
    "collapsed": false
   },
   "outputs": [
    {
     "data": {
      "text/html": [
       "<div>\n",
       "<table border=\"1\" class=\"dataframe\">\n",
       "  <thead>\n",
       "    <tr style=\"text-align: right;\">\n",
       "      <th></th>\n",
       "      <th>category</th>\n",
       "      <th>geek_rate</th>\n",
       "      <th>classificationtype</th>\n",
       "      <th>minage</th>\n",
       "      <th>avg_rate</th>\n",
       "      <th>family</th>\n",
       "      <th>title</th>\n",
       "      <th>minplayers</th>\n",
       "      <th>playingtime</th>\n",
       "      <th>yearpublished</th>\n",
       "      <th>...</th>\n",
       "      <th>maxplayers</th>\n",
       "      <th>page</th>\n",
       "      <th>itemnumber</th>\n",
       "      <th>bayesaverage</th>\n",
       "      <th>mechanism</th>\n",
       "      <th>num_votes</th>\n",
       "      <th>maxplaytime</th>\n",
       "      <th>type</th>\n",
       "      <th>id</th>\n",
       "      <th>minplaytime</th>\n",
       "    </tr>\n",
       "  </thead>\n",
       "  <tbody>\n",
       "    <tr>\n",
       "      <th>0</th>\n",
       "      <td>Environmental,Medical</td>\n",
       "      <td>8.493</td>\n",
       "      <td>thematic,strategygames</td>\n",
       "      <td>13</td>\n",
       "      <td>8.67</td>\n",
       "      <td>Campaign Games,Legacy,Pandemic</td>\n",
       "      <td>Pandemic Legacy: Season 1</td>\n",
       "      <td>2</td>\n",
       "      <td>60</td>\n",
       "      <td>2015</td>\n",
       "      <td>...</td>\n",
       "      <td>4</td>\n",
       "      <td>1</td>\n",
       "      <td>1</td>\n",
       "      <td>8.49325</td>\n",
       "      <td>Action Point Allowance System,Co-operative Pla...</td>\n",
       "      <td>18791.0</td>\n",
       "      <td>60.0</td>\n",
       "      <td>boardgame</td>\n",
       "      <td>161936</td>\n",
       "      <td>60</td>\n",
       "    </tr>\n",
       "    <tr>\n",
       "      <th>1</th>\n",
       "      <td>Card Game,Civilization,Economic</td>\n",
       "      <td>8.310</td>\n",
       "      <td>strategygames</td>\n",
       "      <td>14</td>\n",
       "      <td>8.71</td>\n",
       "      <td>Tableau Building</td>\n",
       "      <td>Through the Ages: A New Story of Civilization</td>\n",
       "      <td>2</td>\n",
       "      <td>240</td>\n",
       "      <td>2015</td>\n",
       "      <td>...</td>\n",
       "      <td>4</td>\n",
       "      <td>1</td>\n",
       "      <td>2</td>\n",
       "      <td>8.30967</td>\n",
       "      <td>Action Point Allowance System,Auction/Bidding,...</td>\n",
       "      <td>7757.0</td>\n",
       "      <td>240.0</td>\n",
       "      <td>boardgame</td>\n",
       "      <td>182028</td>\n",
       "      <td>180</td>\n",
       "    </tr>\n",
       "    <tr>\n",
       "      <th>2</th>\n",
       "      <td>Modern Warfare,Political,Wargame</td>\n",
       "      <td>8.220</td>\n",
       "      <td>wargames,strategygames</td>\n",
       "      <td>13</td>\n",
       "      <td>8.36</td>\n",
       "      <td>Country: Russia,Country: USA</td>\n",
       "      <td>Twilight Struggle</td>\n",
       "      <td>2</td>\n",
       "      <td>180</td>\n",
       "      <td>2005</td>\n",
       "      <td>...</td>\n",
       "      <td>2</td>\n",
       "      <td>1</td>\n",
       "      <td>3</td>\n",
       "      <td>8.21954</td>\n",
       "      <td>Area Control / Area Influence,Campaign / Battl...</td>\n",
       "      <td>27834.0</td>\n",
       "      <td>180.0</td>\n",
       "      <td>boardgame</td>\n",
       "      <td>12333</td>\n",
       "      <td>180</td>\n",
       "    </tr>\n",
       "    <tr>\n",
       "      <th>3</th>\n",
       "      <td>Adventure,Economic,Exploration,Fantasy,Fightin...</td>\n",
       "      <td>8.160</td>\n",
       "      <td>thematic,strategygames</td>\n",
       "      <td>12</td>\n",
       "      <td>9.06</td>\n",
       "      <td>Campaign Games,Crowdfunding: Kickstarter,Legac...</td>\n",
       "      <td>Gloomhaven</td>\n",
       "      <td>1</td>\n",
       "      <td>150</td>\n",
       "      <td>2017</td>\n",
       "      <td>...</td>\n",
       "      <td>4</td>\n",
       "      <td>1</td>\n",
       "      <td>4</td>\n",
       "      <td>8.15998</td>\n",
       "      <td>Action / Movement Programming,Campaign / Battl...</td>\n",
       "      <td>4282.0</td>\n",
       "      <td>150.0</td>\n",
       "      <td>boardgame</td>\n",
       "      <td>174430</td>\n",
       "      <td>90</td>\n",
       "    </tr>\n",
       "    <tr>\n",
       "      <th>4</th>\n",
       "      <td>Dice,Fighting,Movies / TV / Radio theme,Scienc...</td>\n",
       "      <td>8.153</td>\n",
       "      <td>thematic</td>\n",
       "      <td>14</td>\n",
       "      <td>8.52</td>\n",
       "      <td>Components: Miniatures,Fantasy Flight Big Box,...</td>\n",
       "      <td>Star Wars: Rebellion</td>\n",
       "      <td>2</td>\n",
       "      <td>240</td>\n",
       "      <td>2016</td>\n",
       "      <td>...</td>\n",
       "      <td>4</td>\n",
       "      <td>1</td>\n",
       "      <td>5</td>\n",
       "      <td>8.15348</td>\n",
       "      <td>Area Control / Area Influence,Area Movement,Di...</td>\n",
       "      <td>9168.0</td>\n",
       "      <td>240.0</td>\n",
       "      <td>boardgame</td>\n",
       "      <td>187645</td>\n",
       "      <td>180</td>\n",
       "    </tr>\n",
       "  </tbody>\n",
       "</table>\n",
       "<p>5 rows × 21 columns</p>\n",
       "</div>"
      ],
      "text/plain": [
       "                                            category  geek_rate  \\\n",
       "0                              Environmental,Medical      8.493   \n",
       "1                    Card Game,Civilization,Economic      8.310   \n",
       "2                   Modern Warfare,Political,Wargame      8.220   \n",
       "3  Adventure,Economic,Exploration,Fantasy,Fightin...      8.160   \n",
       "4  Dice,Fighting,Movies / TV / Radio theme,Scienc...      8.153   \n",
       "\n",
       "       classificationtype  minage  avg_rate  \\\n",
       "0  thematic,strategygames      13      8.67   \n",
       "1           strategygames      14      8.71   \n",
       "2  wargames,strategygames      13      8.36   \n",
       "3  thematic,strategygames      12      9.06   \n",
       "4                thematic      14      8.52   \n",
       "\n",
       "                                              family  \\\n",
       "0                     Campaign Games,Legacy,Pandemic   \n",
       "1                                   Tableau Building   \n",
       "2                       Country: Russia,Country: USA   \n",
       "3  Campaign Games,Crowdfunding: Kickstarter,Legac...   \n",
       "4  Components: Miniatures,Fantasy Flight Big Box,...   \n",
       "\n",
       "                                           title  minplayers  playingtime  \\\n",
       "0                      Pandemic Legacy: Season 1           2           60   \n",
       "1  Through the Ages: A New Story of Civilization           2          240   \n",
       "2                              Twilight Struggle           2          180   \n",
       "3                                     Gloomhaven           1          150   \n",
       "4                           Star Wars: Rebellion           2          240   \n",
       "\n",
       "   yearpublished     ...       maxplayers  page  itemnumber  bayesaverage  \\\n",
       "0           2015     ...                4     1           1       8.49325   \n",
       "1           2015     ...                4     1           2       8.30967   \n",
       "2           2005     ...                2     1           3       8.21954   \n",
       "3           2017     ...                4     1           4       8.15998   \n",
       "4           2016     ...                4     1           5       8.15348   \n",
       "\n",
       "                                           mechanism num_votes  maxplaytime  \\\n",
       "0  Action Point Allowance System,Co-operative Pla...   18791.0         60.0   \n",
       "1  Action Point Allowance System,Auction/Bidding,...    7757.0        240.0   \n",
       "2  Area Control / Area Influence,Campaign / Battl...   27834.0        180.0   \n",
       "3  Action / Movement Programming,Campaign / Battl...    4282.0        150.0   \n",
       "4  Area Control / Area Influence,Area Movement,Di...    9168.0        240.0   \n",
       "\n",
       "        type      id  minplaytime  \n",
       "0  boardgame  161936           60  \n",
       "1  boardgame  182028          180  \n",
       "2  boardgame   12333          180  \n",
       "3  boardgame  174430           90  \n",
       "4  boardgame  187645          180  \n",
       "\n",
       "[5 rows x 21 columns]"
      ]
     },
     "execution_count": 9,
     "metadata": {},
     "output_type": "execute_result"
    }
   ],
   "source": [
    "df.head()"
   ]
  },
  {
   "cell_type": "code",
   "execution_count": 10,
   "metadata": {
    "collapsed": false
   },
   "outputs": [
    {
     "data": {
      "text/html": [
       "<div>\n",
       "<table border=\"1\" class=\"dataframe\">\n",
       "  <thead>\n",
       "    <tr style=\"text-align: right;\">\n",
       "      <th></th>\n",
       "      <th>category</th>\n",
       "      <th>mechanism</th>\n",
       "      <th>minage</th>\n",
       "      <th>avg_rate</th>\n",
       "      <th>title</th>\n",
       "      <th>minplayers</th>\n",
       "      <th>maxplayers</th>\n",
       "      <th>playingtime</th>\n",
       "      <th>yearpublished</th>\n",
       "    </tr>\n",
       "  </thead>\n",
       "  <tbody>\n",
       "    <tr>\n",
       "      <th>0</th>\n",
       "      <td>Environmental,Medical</td>\n",
       "      <td>Action Point Allowance System,Co-operative Pla...</td>\n",
       "      <td>13</td>\n",
       "      <td>8.67</td>\n",
       "      <td>Pandemic Legacy: Season 1</td>\n",
       "      <td>2</td>\n",
       "      <td>4</td>\n",
       "      <td>60</td>\n",
       "      <td>2015</td>\n",
       "    </tr>\n",
       "    <tr>\n",
       "      <th>1</th>\n",
       "      <td>Card Game,Civilization,Economic</td>\n",
       "      <td>Action Point Allowance System,Auction/Bidding,...</td>\n",
       "      <td>14</td>\n",
       "      <td>8.71</td>\n",
       "      <td>Through the Ages: A New Story of Civilization</td>\n",
       "      <td>2</td>\n",
       "      <td>4</td>\n",
       "      <td>240</td>\n",
       "      <td>2015</td>\n",
       "    </tr>\n",
       "    <tr>\n",
       "      <th>2</th>\n",
       "      <td>Modern Warfare,Political,Wargame</td>\n",
       "      <td>Area Control / Area Influence,Campaign / Battl...</td>\n",
       "      <td>13</td>\n",
       "      <td>8.36</td>\n",
       "      <td>Twilight Struggle</td>\n",
       "      <td>2</td>\n",
       "      <td>2</td>\n",
       "      <td>180</td>\n",
       "      <td>2005</td>\n",
       "    </tr>\n",
       "    <tr>\n",
       "      <th>3</th>\n",
       "      <td>Adventure,Economic,Exploration,Fantasy,Fightin...</td>\n",
       "      <td>Action / Movement Programming,Campaign / Battl...</td>\n",
       "      <td>12</td>\n",
       "      <td>9.06</td>\n",
       "      <td>Gloomhaven</td>\n",
       "      <td>1</td>\n",
       "      <td>4</td>\n",
       "      <td>150</td>\n",
       "      <td>2017</td>\n",
       "    </tr>\n",
       "    <tr>\n",
       "      <th>4</th>\n",
       "      <td>Dice,Fighting,Movies / TV / Radio theme,Scienc...</td>\n",
       "      <td>Area Control / Area Influence,Area Movement,Di...</td>\n",
       "      <td>14</td>\n",
       "      <td>8.52</td>\n",
       "      <td>Star Wars: Rebellion</td>\n",
       "      <td>2</td>\n",
       "      <td>4</td>\n",
       "      <td>240</td>\n",
       "      <td>2016</td>\n",
       "    </tr>\n",
       "  </tbody>\n",
       "</table>\n",
       "</div>"
      ],
      "text/plain": [
       "                                            category  \\\n",
       "0                              Environmental,Medical   \n",
       "1                    Card Game,Civilization,Economic   \n",
       "2                   Modern Warfare,Political,Wargame   \n",
       "3  Adventure,Economic,Exploration,Fantasy,Fightin...   \n",
       "4  Dice,Fighting,Movies / TV / Radio theme,Scienc...   \n",
       "\n",
       "                                           mechanism  minage  avg_rate  \\\n",
       "0  Action Point Allowance System,Co-operative Pla...      13      8.67   \n",
       "1  Action Point Allowance System,Auction/Bidding,...      14      8.71   \n",
       "2  Area Control / Area Influence,Campaign / Battl...      13      8.36   \n",
       "3  Action / Movement Programming,Campaign / Battl...      12      9.06   \n",
       "4  Area Control / Area Influence,Area Movement,Di...      14      8.52   \n",
       "\n",
       "                                           title  minplayers  maxplayers  \\\n",
       "0                      Pandemic Legacy: Season 1           2           4   \n",
       "1  Through the Ages: A New Story of Civilization           2           4   \n",
       "2                              Twilight Struggle           2           2   \n",
       "3                                     Gloomhaven           1           4   \n",
       "4                           Star Wars: Rebellion           2           4   \n",
       "\n",
       "   playingtime  yearpublished  \n",
       "0           60           2015  \n",
       "1          240           2015  \n",
       "2          180           2005  \n",
       "3          150           2017  \n",
       "4          240           2016  "
      ]
     },
     "execution_count": 10,
     "metadata": {},
     "output_type": "execute_result"
    }
   ],
   "source": [
    "#select only data that is needed\n",
    "game = df.loc[:,['category','mechanism','minage','avg_rate','title',\n",
    "                 'minplayers','maxplayers','playingtime','yearpublished']]\n",
    "\n",
    "game.head()"
   ]
  },
  {
   "cell_type": "code",
   "execution_count": 11,
   "metadata": {
    "collapsed": true
   },
   "outputs": [],
   "source": [
    "#declare all categories\n",
    "category = ['Abstract Strategy','Action / Dexterity','Adventure','Age of Reason','American Civil War',\n",
    "            'American Indian Wars','American Revolutionary War','American West','Ancient','Animals',\n",
    "            'Arabian','Aviation / Flight','Bluffing','Book','Card Game',\"Children's Game\",'City Building',\n",
    "            'Civil War','Civilization','Collectible Components','Comic Book / Strip','Deduction','Dice',\n",
    "            'Economic','Educational','Electronic','Environmental','Expansion for Base-game','Exploration',\n",
    "            'Fan Expansion','Fantasy','Farming','Fighting','Game System','Horror','Humor','Industry / Manufacturing',\n",
    "            'Korean War','Mafia','Math','Mature / Adult','Maze','Medical','Medieval','Memory','Miniatures',\n",
    "            'Modern Warfare','Movies / TV / Radio theme','Murder/Mystery','Music','Mythology','Napoleonic',\n",
    "            'Nautical','Negotiation','Novel-based','Number','Party Game','Pike and Shot','Pirates','Political',\n",
    "            'Post-Napoleonic','Prehistoric','Print & Play','Puzzle','Racing','Real-time','Religious','Renaissance',\n",
    "            'Science Fiction','Space Exploration','Spies/Secret Agents','Sports','Territory Building','Trains',\n",
    "            'Transportation','Travel','Trivia','Video Game Theme','Vietnam War','Wargame','Word Game','World War I',\n",
    "            'World War II','Zombies']"
   ]
  },
  {
   "cell_type": "code",
   "execution_count": 12,
   "metadata": {
    "collapsed": true
   },
   "outputs": [],
   "source": [
    "#declare all mechanism\n",
    "mechanism = ['Acting','Action / Movement Programming','Action Point Allowance System','Area Control / Area Influence',\n",
    "             'Area Enclosure','Area Movement','Area-Impulse','Auction/Bidding','Betting/Wagering',\n",
    "             'Campaign / Battle Card Driven','Card Drafting','Chit-Pull System','Co-operative Play',\n",
    "             'Commodity Speculation','Crayon Rail System','Deck / Pool Building','Dice Rolling','Grid Movement',\n",
    "             'Hand Management','Hex-and-Counter','Line Drawing','Memory','Modular Board','Paper-and-Pencil',\n",
    "             'Partnerships','Pattern Building','Pattern Recognition','Pick-up and Deliver','Player Elimination',\n",
    "             'Point to Point Movement','Press Your Luck','Rock-Paper-Scissors','Role Playing','Roll / Spin and Move',\n",
    "             'Route/Network Building','Secret Unit Deployment','Set Collection','Simulation',\n",
    "             'Simultaneous Action Selection','Singing','Stock Holding','Storytelling','Take That','Tile Placement',\n",
    "             'Time Track','Trading','Trick-taking','Variable Phase Order','Variable Player Powers','Voting',\n",
    "             'Worker Placement']"
   ]
  },
  {
   "cell_type": "code",
   "execution_count": 13,
   "metadata": {
    "collapsed": false
   },
   "outputs": [
    {
     "data": {
      "text/html": [
       "<div>\n",
       "<table border=\"1\" class=\"dataframe\">\n",
       "  <thead>\n",
       "    <tr style=\"text-align: right;\">\n",
       "      <th></th>\n",
       "      <th>category</th>\n",
       "      <th>mechanism</th>\n",
       "      <th>minage</th>\n",
       "      <th>avg_rate</th>\n",
       "      <th>title</th>\n",
       "      <th>minplayers</th>\n",
       "      <th>maxplayers</th>\n",
       "      <th>playingtime</th>\n",
       "      <th>yearpublished</th>\n",
       "      <th>Abstract Strategy</th>\n",
       "      <th>...</th>\n",
       "      <th>Transportation</th>\n",
       "      <th>Travel</th>\n",
       "      <th>Trivia</th>\n",
       "      <th>Video Game Theme</th>\n",
       "      <th>Vietnam War</th>\n",
       "      <th>Wargame</th>\n",
       "      <th>Word Game</th>\n",
       "      <th>World War I</th>\n",
       "      <th>World War II</th>\n",
       "      <th>Zombies</th>\n",
       "    </tr>\n",
       "  </thead>\n",
       "  <tbody>\n",
       "    <tr>\n",
       "      <th>0</th>\n",
       "      <td>Environmental,Medical</td>\n",
       "      <td>Action Point Allowance System,Co-operative Pla...</td>\n",
       "      <td>13</td>\n",
       "      <td>8.67</td>\n",
       "      <td>Pandemic Legacy: Season 1</td>\n",
       "      <td>2</td>\n",
       "      <td>4</td>\n",
       "      <td>60</td>\n",
       "      <td>2015</td>\n",
       "      <td>0.0</td>\n",
       "      <td>...</td>\n",
       "      <td>0.0</td>\n",
       "      <td>0.0</td>\n",
       "      <td>0.0</td>\n",
       "      <td>0.0</td>\n",
       "      <td>0.0</td>\n",
       "      <td>0.0</td>\n",
       "      <td>0.0</td>\n",
       "      <td>0.0</td>\n",
       "      <td>0.0</td>\n",
       "      <td>0.0</td>\n",
       "    </tr>\n",
       "    <tr>\n",
       "      <th>1</th>\n",
       "      <td>Card Game,Civilization,Economic</td>\n",
       "      <td>Action Point Allowance System,Auction/Bidding,...</td>\n",
       "      <td>14</td>\n",
       "      <td>8.71</td>\n",
       "      <td>Through the Ages: A New Story of Civilization</td>\n",
       "      <td>2</td>\n",
       "      <td>4</td>\n",
       "      <td>240</td>\n",
       "      <td>2015</td>\n",
       "      <td>0.0</td>\n",
       "      <td>...</td>\n",
       "      <td>0.0</td>\n",
       "      <td>0.0</td>\n",
       "      <td>0.0</td>\n",
       "      <td>0.0</td>\n",
       "      <td>0.0</td>\n",
       "      <td>0.0</td>\n",
       "      <td>0.0</td>\n",
       "      <td>0.0</td>\n",
       "      <td>0.0</td>\n",
       "      <td>0.0</td>\n",
       "    </tr>\n",
       "    <tr>\n",
       "      <th>2</th>\n",
       "      <td>Modern Warfare,Political,Wargame</td>\n",
       "      <td>Area Control / Area Influence,Campaign / Battl...</td>\n",
       "      <td>13</td>\n",
       "      <td>8.36</td>\n",
       "      <td>Twilight Struggle</td>\n",
       "      <td>2</td>\n",
       "      <td>2</td>\n",
       "      <td>180</td>\n",
       "      <td>2005</td>\n",
       "      <td>0.0</td>\n",
       "      <td>...</td>\n",
       "      <td>0.0</td>\n",
       "      <td>0.0</td>\n",
       "      <td>0.0</td>\n",
       "      <td>0.0</td>\n",
       "      <td>0.0</td>\n",
       "      <td>1.0</td>\n",
       "      <td>0.0</td>\n",
       "      <td>0.0</td>\n",
       "      <td>0.0</td>\n",
       "      <td>0.0</td>\n",
       "    </tr>\n",
       "    <tr>\n",
       "      <th>3</th>\n",
       "      <td>Adventure,Economic,Exploration,Fantasy,Fightin...</td>\n",
       "      <td>Action / Movement Programming,Campaign / Battl...</td>\n",
       "      <td>12</td>\n",
       "      <td>9.06</td>\n",
       "      <td>Gloomhaven</td>\n",
       "      <td>1</td>\n",
       "      <td>4</td>\n",
       "      <td>150</td>\n",
       "      <td>2017</td>\n",
       "      <td>0.0</td>\n",
       "      <td>...</td>\n",
       "      <td>0.0</td>\n",
       "      <td>0.0</td>\n",
       "      <td>0.0</td>\n",
       "      <td>0.0</td>\n",
       "      <td>0.0</td>\n",
       "      <td>0.0</td>\n",
       "      <td>0.0</td>\n",
       "      <td>0.0</td>\n",
       "      <td>0.0</td>\n",
       "      <td>0.0</td>\n",
       "    </tr>\n",
       "    <tr>\n",
       "      <th>4</th>\n",
       "      <td>Dice,Fighting,Movies / TV / Radio theme,Scienc...</td>\n",
       "      <td>Area Control / Area Influence,Area Movement,Di...</td>\n",
       "      <td>14</td>\n",
       "      <td>8.52</td>\n",
       "      <td>Star Wars: Rebellion</td>\n",
       "      <td>2</td>\n",
       "      <td>4</td>\n",
       "      <td>240</td>\n",
       "      <td>2016</td>\n",
       "      <td>0.0</td>\n",
       "      <td>...</td>\n",
       "      <td>0.0</td>\n",
       "      <td>0.0</td>\n",
       "      <td>0.0</td>\n",
       "      <td>0.0</td>\n",
       "      <td>0.0</td>\n",
       "      <td>1.0</td>\n",
       "      <td>0.0</td>\n",
       "      <td>0.0</td>\n",
       "      <td>0.0</td>\n",
       "      <td>0.0</td>\n",
       "    </tr>\n",
       "  </tbody>\n",
       "</table>\n",
       "<p>5 rows × 93 columns</p>\n",
       "</div>"
      ],
      "text/plain": [
       "                                            category  \\\n",
       "0                              Environmental,Medical   \n",
       "1                    Card Game,Civilization,Economic   \n",
       "2                   Modern Warfare,Political,Wargame   \n",
       "3  Adventure,Economic,Exploration,Fantasy,Fightin...   \n",
       "4  Dice,Fighting,Movies / TV / Radio theme,Scienc...   \n",
       "\n",
       "                                           mechanism  minage  avg_rate  \\\n",
       "0  Action Point Allowance System,Co-operative Pla...      13      8.67   \n",
       "1  Action Point Allowance System,Auction/Bidding,...      14      8.71   \n",
       "2  Area Control / Area Influence,Campaign / Battl...      13      8.36   \n",
       "3  Action / Movement Programming,Campaign / Battl...      12      9.06   \n",
       "4  Area Control / Area Influence,Area Movement,Di...      14      8.52   \n",
       "\n",
       "                                           title  minplayers  maxplayers  \\\n",
       "0                      Pandemic Legacy: Season 1           2           4   \n",
       "1  Through the Ages: A New Story of Civilization           2           4   \n",
       "2                              Twilight Struggle           2           2   \n",
       "3                                     Gloomhaven           1           4   \n",
       "4                           Star Wars: Rebellion           2           4   \n",
       "\n",
       "   playingtime  yearpublished  Abstract Strategy   ...     Transportation  \\\n",
       "0           60           2015                0.0   ...                0.0   \n",
       "1          240           2015                0.0   ...                0.0   \n",
       "2          180           2005                0.0   ...                0.0   \n",
       "3          150           2017                0.0   ...                0.0   \n",
       "4          240           2016                0.0   ...                0.0   \n",
       "\n",
       "   Travel  Trivia  Video Game Theme  Vietnam War  Wargame  Word Game  \\\n",
       "0     0.0     0.0               0.0          0.0      0.0        0.0   \n",
       "1     0.0     0.0               0.0          0.0      0.0        0.0   \n",
       "2     0.0     0.0               0.0          0.0      1.0        0.0   \n",
       "3     0.0     0.0               0.0          0.0      0.0        0.0   \n",
       "4     0.0     0.0               0.0          0.0      1.0        0.0   \n",
       "\n",
       "   World War I  World War II  Zombies  \n",
       "0          0.0           0.0      0.0  \n",
       "1          0.0           0.0      0.0  \n",
       "2          0.0           0.0      0.0  \n",
       "3          0.0           0.0      0.0  \n",
       "4          0.0           0.0      0.0  \n",
       "\n",
       "[5 rows x 93 columns]"
      ]
     },
     "execution_count": 13,
     "metadata": {},
     "output_type": "execute_result"
    }
   ],
   "source": [
    "#format dataframe into a different strucure that is easier to work with\n",
    "for cat in category:\n",
    "    for index, row in game.iterrows():\n",
    "        if cat in game.loc[index,'category']:\n",
    "            game.loc[index,cat] = 1\n",
    "        else:\n",
    "            game.loc[index,cat] = 0    \n",
    "game.head() "
   ]
  },
  {
   "cell_type": "code",
   "execution_count": 14,
   "metadata": {
    "collapsed": false
   },
   "outputs": [
    {
     "data": {
      "text/html": [
       "<div>\n",
       "<table border=\"1\" class=\"dataframe\">\n",
       "  <thead>\n",
       "    <tr style=\"text-align: right;\">\n",
       "      <th></th>\n",
       "      <th>category</th>\n",
       "      <th>mechanism</th>\n",
       "      <th>minage</th>\n",
       "      <th>avg_rate</th>\n",
       "      <th>title</th>\n",
       "      <th>minplayers</th>\n",
       "      <th>maxplayers</th>\n",
       "      <th>playingtime</th>\n",
       "      <th>yearpublished</th>\n",
       "      <th>Abstract Strategy</th>\n",
       "      <th>...</th>\n",
       "      <th>Storytelling</th>\n",
       "      <th>Take That</th>\n",
       "      <th>Tile Placement</th>\n",
       "      <th>Time Track</th>\n",
       "      <th>Trading</th>\n",
       "      <th>Trick-taking</th>\n",
       "      <th>Variable Phase Order</th>\n",
       "      <th>Variable Player Powers</th>\n",
       "      <th>Voting</th>\n",
       "      <th>Worker Placement</th>\n",
       "    </tr>\n",
       "  </thead>\n",
       "  <tbody>\n",
       "    <tr>\n",
       "      <th>0</th>\n",
       "      <td>Environmental,Medical</td>\n",
       "      <td>Action Point Allowance System,Co-operative Pla...</td>\n",
       "      <td>13</td>\n",
       "      <td>8.67</td>\n",
       "      <td>Pandemic Legacy: Season 1</td>\n",
       "      <td>2</td>\n",
       "      <td>4</td>\n",
       "      <td>60</td>\n",
       "      <td>2015</td>\n",
       "      <td>0.0</td>\n",
       "      <td>...</td>\n",
       "      <td>0.0</td>\n",
       "      <td>0.0</td>\n",
       "      <td>0.0</td>\n",
       "      <td>0.0</td>\n",
       "      <td>1.0</td>\n",
       "      <td>0.0</td>\n",
       "      <td>0.0</td>\n",
       "      <td>1.0</td>\n",
       "      <td>0.0</td>\n",
       "      <td>0.0</td>\n",
       "    </tr>\n",
       "    <tr>\n",
       "      <th>1</th>\n",
       "      <td>Card Game,Civilization,Economic</td>\n",
       "      <td>Action Point Allowance System,Auction/Bidding,...</td>\n",
       "      <td>14</td>\n",
       "      <td>8.71</td>\n",
       "      <td>Through the Ages: A New Story of Civilization</td>\n",
       "      <td>2</td>\n",
       "      <td>4</td>\n",
       "      <td>240</td>\n",
       "      <td>2015</td>\n",
       "      <td>0.0</td>\n",
       "      <td>...</td>\n",
       "      <td>0.0</td>\n",
       "      <td>0.0</td>\n",
       "      <td>0.0</td>\n",
       "      <td>0.0</td>\n",
       "      <td>0.0</td>\n",
       "      <td>0.0</td>\n",
       "      <td>0.0</td>\n",
       "      <td>0.0</td>\n",
       "      <td>0.0</td>\n",
       "      <td>0.0</td>\n",
       "    </tr>\n",
       "    <tr>\n",
       "      <th>2</th>\n",
       "      <td>Modern Warfare,Political,Wargame</td>\n",
       "      <td>Area Control / Area Influence,Campaign / Battl...</td>\n",
       "      <td>13</td>\n",
       "      <td>8.36</td>\n",
       "      <td>Twilight Struggle</td>\n",
       "      <td>2</td>\n",
       "      <td>2</td>\n",
       "      <td>180</td>\n",
       "      <td>2005</td>\n",
       "      <td>0.0</td>\n",
       "      <td>...</td>\n",
       "      <td>0.0</td>\n",
       "      <td>0.0</td>\n",
       "      <td>0.0</td>\n",
       "      <td>0.0</td>\n",
       "      <td>0.0</td>\n",
       "      <td>0.0</td>\n",
       "      <td>0.0</td>\n",
       "      <td>0.0</td>\n",
       "      <td>0.0</td>\n",
       "      <td>0.0</td>\n",
       "    </tr>\n",
       "    <tr>\n",
       "      <th>3</th>\n",
       "      <td>Adventure,Economic,Exploration,Fantasy,Fightin...</td>\n",
       "      <td>Action / Movement Programming,Campaign / Battl...</td>\n",
       "      <td>12</td>\n",
       "      <td>9.06</td>\n",
       "      <td>Gloomhaven</td>\n",
       "      <td>1</td>\n",
       "      <td>4</td>\n",
       "      <td>150</td>\n",
       "      <td>2017</td>\n",
       "      <td>0.0</td>\n",
       "      <td>...</td>\n",
       "      <td>1.0</td>\n",
       "      <td>0.0</td>\n",
       "      <td>0.0</td>\n",
       "      <td>0.0</td>\n",
       "      <td>0.0</td>\n",
       "      <td>0.0</td>\n",
       "      <td>0.0</td>\n",
       "      <td>1.0</td>\n",
       "      <td>0.0</td>\n",
       "      <td>0.0</td>\n",
       "    </tr>\n",
       "    <tr>\n",
       "      <th>4</th>\n",
       "      <td>Dice,Fighting,Movies / TV / Radio theme,Scienc...</td>\n",
       "      <td>Area Control / Area Influence,Area Movement,Di...</td>\n",
       "      <td>14</td>\n",
       "      <td>8.52</td>\n",
       "      <td>Star Wars: Rebellion</td>\n",
       "      <td>2</td>\n",
       "      <td>4</td>\n",
       "      <td>240</td>\n",
       "      <td>2016</td>\n",
       "      <td>0.0</td>\n",
       "      <td>...</td>\n",
       "      <td>0.0</td>\n",
       "      <td>0.0</td>\n",
       "      <td>0.0</td>\n",
       "      <td>0.0</td>\n",
       "      <td>0.0</td>\n",
       "      <td>0.0</td>\n",
       "      <td>0.0</td>\n",
       "      <td>0.0</td>\n",
       "      <td>0.0</td>\n",
       "      <td>0.0</td>\n",
       "    </tr>\n",
       "  </tbody>\n",
       "</table>\n",
       "<p>5 rows × 143 columns</p>\n",
       "</div>"
      ],
      "text/plain": [
       "                                            category  \\\n",
       "0                              Environmental,Medical   \n",
       "1                    Card Game,Civilization,Economic   \n",
       "2                   Modern Warfare,Political,Wargame   \n",
       "3  Adventure,Economic,Exploration,Fantasy,Fightin...   \n",
       "4  Dice,Fighting,Movies / TV / Radio theme,Scienc...   \n",
       "\n",
       "                                           mechanism  minage  avg_rate  \\\n",
       "0  Action Point Allowance System,Co-operative Pla...      13      8.67   \n",
       "1  Action Point Allowance System,Auction/Bidding,...      14      8.71   \n",
       "2  Area Control / Area Influence,Campaign / Battl...      13      8.36   \n",
       "3  Action / Movement Programming,Campaign / Battl...      12      9.06   \n",
       "4  Area Control / Area Influence,Area Movement,Di...      14      8.52   \n",
       "\n",
       "                                           title  minplayers  maxplayers  \\\n",
       "0                      Pandemic Legacy: Season 1           2           4   \n",
       "1  Through the Ages: A New Story of Civilization           2           4   \n",
       "2                              Twilight Struggle           2           2   \n",
       "3                                     Gloomhaven           1           4   \n",
       "4                           Star Wars: Rebellion           2           4   \n",
       "\n",
       "   playingtime  yearpublished  Abstract Strategy        ...         \\\n",
       "0           60           2015                0.0        ...          \n",
       "1          240           2015                0.0        ...          \n",
       "2          180           2005                0.0        ...          \n",
       "3          150           2017                0.0        ...          \n",
       "4          240           2016                0.0        ...          \n",
       "\n",
       "   Storytelling  Take That  Tile Placement  Time Track  Trading  Trick-taking  \\\n",
       "0           0.0        0.0             0.0         0.0      1.0           0.0   \n",
       "1           0.0        0.0             0.0         0.0      0.0           0.0   \n",
       "2           0.0        0.0             0.0         0.0      0.0           0.0   \n",
       "3           1.0        0.0             0.0         0.0      0.0           0.0   \n",
       "4           0.0        0.0             0.0         0.0      0.0           0.0   \n",
       "\n",
       "   Variable Phase Order  Variable Player Powers  Voting  Worker Placement  \n",
       "0                   0.0                     1.0     0.0               0.0  \n",
       "1                   0.0                     0.0     0.0               0.0  \n",
       "2                   0.0                     0.0     0.0               0.0  \n",
       "3                   0.0                     1.0     0.0               0.0  \n",
       "4                   0.0                     0.0     0.0               0.0  \n",
       "\n",
       "[5 rows x 143 columns]"
      ]
     },
     "execution_count": 14,
     "metadata": {},
     "output_type": "execute_result"
    }
   ],
   "source": [
    "for mec in mechanism:\n",
    "    for index, row in game.iterrows():\n",
    "        if mec in game.loc[index,'mechanism']:\n",
    "            game.loc[index,mec] = 1\n",
    "        else:\n",
    "            game.loc[index,mec] = 0    \n",
    "game.head() "
   ]
  },
  {
   "cell_type": "code",
   "execution_count": 15,
   "metadata": {
    "collapsed": false
   },
   "outputs": [
    {
     "data": {
      "text/plain": [
       "(8636, 143)"
      ]
     },
     "execution_count": 15,
     "metadata": {},
     "output_type": "execute_result"
    }
   ],
   "source": [
    "game.shape"
   ]
  },
  {
   "cell_type": "markdown",
   "metadata": {},
   "source": [
    "## Preliminary Analysis"
   ]
  },
  {
   "cell_type": "code",
   "execution_count": 16,
   "metadata": {
    "collapsed": false
   },
   "outputs": [
    {
     "data": {
      "text/plain": [
       "<matplotlib.text.Text at 0x116f43470>"
      ]
     },
     "execution_count": 16,
     "metadata": {},
     "output_type": "execute_result"
    },
    {
     "data": {
      "image/png": "[encoded data removed]",
      "text/plain": [
       "<matplotlib.figure.Figure at 0x113a95940>"
      ]
     },
     "metadata": {},
     "output_type": "display_data"
    }
   ],
   "source": [
    "#plot number of games were published in each year\n",
    "g = game[game.yearpublished>1900]\n",
    "g.shape\n",
    "g.groupby(g.yearpublished // 10 * 10).size().plot(kind='bar')\n",
    "plt.ylabel('Number of games published')"
   ]
  },
  {
   "cell_type": "code",
   "execution_count": 17,
   "metadata": {
    "collapsed": false
   },
   "outputs": [
    {
     "data": {
      "text/plain": [
       "<matplotlib.text.Text at 0x115113f28>"
      ]
     },
     "execution_count": 17,
     "metadata": {},
     "output_type": "execute_result"
    },
    {
     "data": {
      "image/png": "[encoded data removed]",
      "text/plain": [
       "<matplotlib.figure.Figure at 0x1113f8940>"
      ]
     },
     "metadata": {},
     "output_type": "display_data"
    }
   ],
   "source": [
    "#plot number of game in each average rating point in the recent years\n",
    "g = game[game.yearpublished>1900]\n",
    "plt.hist(g.avg_rate, bins=[0, 1, 2, 3, 4, 5, 6, 7, 8, 9, 10]) \n",
    "plt.xlabel('Average rating points')\n",
    "plt.ylabel('Number of games')"
   ]
  },
  {
   "cell_type": "code",
   "execution_count": 18,
   "metadata": {
    "collapsed": false
   },
   "outputs": [
    {
     "data": {
      "text/plain": [
       "<matplotlib.text.Text at 0x11770b438>"
      ]
     },
     "execution_count": 18,
     "metadata": {},
     "output_type": "execute_result"
    },
    {
     "data": {
      "image/png": "[encoded data removed]",
      "text/plain": [
       "<matplotlib.figure.Figure at 0x116e96828>"
      ]
     },
     "metadata": {},
     "output_type": "display_data"
    }
   ],
   "source": [
    "#Plot average rating of all games in a particular year\n",
    "g = game[game.yearpublished>1900]\n",
    "g = g[['yearpublished', 'avg_rate']]\n",
    "g = g.groupby(g.yearpublished).mean()\n",
    "g.plot(kind='bar')\n",
    "plt.ylabel('Average rating')"
   ]
  },
  {
   "cell_type": "code",
   "execution_count": 19,
   "metadata": {
    "collapsed": false
   },
   "outputs": [
    {
     "data": {
      "text/plain": [
       "<matplotlib.text.Text at 0x118744a90>"
      ]
     },
     "execution_count": 19,
     "metadata": {},
     "output_type": "execute_result"
    },
    {
     "data": {
      "image/png": "[encoded data removed]",
      "text/plain": [
       "<matplotlib.figure.Figure at 0x11797dc18>"
      ]
     },
     "metadata": {},
     "output_type": "display_data"
    }
   ],
   "source": [
    "#How much play time for most games?\n",
    "g = game[game.yearpublished>1900]\n",
    "g = g[['playingtime', 'avg_rate']]\n",
    "g = g.groupby(g.playingtime).size()\n",
    "g = g.sort_values(ascending=False).head(20)\n",
    "g.plot(kind = 'bar')\n",
    "plt.xlabel('Playing time')\n",
    "plt.ylabel('Number of games')"
   ]
  },
  {
   "cell_type": "code",
   "execution_count": 20,
   "metadata": {
    "collapsed": false
   },
   "outputs": [
    {
     "data": {
      "text/plain": [
       "[<matplotlib.lines.Line2D at 0x118040358>]"
      ]
     },
     "execution_count": 20,
     "metadata": {},
     "output_type": "execute_result"
    },
    {
     "data": {
      "image/png": "[encoded data removed]",
      "text/plain": [
       "<matplotlib.figure.Figure at 0x11582a9e8>"
      ]
     },
     "metadata": {},
     "output_type": "display_data"
    }
   ],
   "source": [
    "#Playing time effects on ratings\n",
    "g = game[game.yearpublished>1900]\n",
    "plt.plot(g.playingtime, g.avg_rate, \"o\")"
   ]
  },
  {
   "cell_type": "code",
   "execution_count": 21,
   "metadata": {
    "collapsed": false
   },
   "outputs": [
    {
     "data": {
      "text/html": [
       "<div>\n",
       "<table border=\"1\" class=\"dataframe\">\n",
       "  <thead>\n",
       "    <tr style=\"text-align: right;\">\n",
       "      <th></th>\n",
       "      <th>category</th>\n",
       "      <th>mechanism</th>\n",
       "      <th>minage</th>\n",
       "      <th>avg_rate</th>\n",
       "      <th>title</th>\n",
       "      <th>minplayers</th>\n",
       "      <th>maxplayers</th>\n",
       "      <th>playingtime</th>\n",
       "      <th>yearpublished</th>\n",
       "      <th>Abstract Strategy</th>\n",
       "      <th>...</th>\n",
       "      <th>Storytelling</th>\n",
       "      <th>Take That</th>\n",
       "      <th>Tile Placement</th>\n",
       "      <th>Time Track</th>\n",
       "      <th>Trading</th>\n",
       "      <th>Trick-taking</th>\n",
       "      <th>Variable Phase Order</th>\n",
       "      <th>Variable Player Powers</th>\n",
       "      <th>Voting</th>\n",
       "      <th>Worker Placement</th>\n",
       "    </tr>\n",
       "  </thead>\n",
       "  <tbody>\n",
       "    <tr>\n",
       "      <th>2367</th>\n",
       "      <td>Wargame,World War I</td>\n",
       "      <td>Hex-and-Counter</td>\n",
       "      <td>0</td>\n",
       "      <td>7.98</td>\n",
       "      <td>1914: Offensive à outrance</td>\n",
       "      <td>2</td>\n",
       "      <td>4</td>\n",
       "      <td>17280</td>\n",
       "      <td>2013</td>\n",
       "      <td>0.0</td>\n",
       "      <td>...</td>\n",
       "      <td>0.0</td>\n",
       "      <td>0.0</td>\n",
       "      <td>0.0</td>\n",
       "      <td>0.0</td>\n",
       "      <td>0.0</td>\n",
       "      <td>0.0</td>\n",
       "      <td>0.0</td>\n",
       "      <td>0.0</td>\n",
       "      <td>0.0</td>\n",
       "      <td>0.0</td>\n",
       "    </tr>\n",
       "    <tr>\n",
       "      <th>81561</th>\n",
       "      <td>Wargame,World War II</td>\n",
       "      <td>Hex-and-Counter</td>\n",
       "      <td>16</td>\n",
       "      <td>7.77</td>\n",
       "      <td>Atlantic Wall: D-Day to Falaise</td>\n",
       "      <td>2</td>\n",
       "      <td>6</td>\n",
       "      <td>14400</td>\n",
       "      <td>2014</td>\n",
       "      <td>0.0</td>\n",
       "      <td>...</td>\n",
       "      <td>0.0</td>\n",
       "      <td>0.0</td>\n",
       "      <td>0.0</td>\n",
       "      <td>0.0</td>\n",
       "      <td>0.0</td>\n",
       "      <td>0.0</td>\n",
       "      <td>0.0</td>\n",
       "      <td>0.0</td>\n",
       "      <td>0.0</td>\n",
       "      <td>0.0</td>\n",
       "    </tr>\n",
       "    <tr>\n",
       "      <th>81821</th>\n",
       "      <td>Wargame,World War II</td>\n",
       "      <td>Dice Rolling,Hex-and-Counter,Simulation</td>\n",
       "      <td>12</td>\n",
       "      <td>6.87</td>\n",
       "      <td>Drang Nach Osten!</td>\n",
       "      <td>2</td>\n",
       "      <td>4</td>\n",
       "      <td>12000</td>\n",
       "      <td>1973</td>\n",
       "      <td>0.0</td>\n",
       "      <td>...</td>\n",
       "      <td>0.0</td>\n",
       "      <td>0.0</td>\n",
       "      <td>0.0</td>\n",
       "      <td>0.0</td>\n",
       "      <td>0.0</td>\n",
       "      <td>0.0</td>\n",
       "      <td>0.0</td>\n",
       "      <td>0.0</td>\n",
       "      <td>0.0</td>\n",
       "      <td>0.0</td>\n",
       "    </tr>\n",
       "    <tr>\n",
       "      <th>90333</th>\n",
       "      <td>Wargame,World War II</td>\n",
       "      <td>Hex-and-Counter</td>\n",
       "      <td>16</td>\n",
       "      <td>7.77</td>\n",
       "      <td>Atlantic Wall: D-Day to Falaise</td>\n",
       "      <td>2</td>\n",
       "      <td>6</td>\n",
       "      <td>14400</td>\n",
       "      <td>2014</td>\n",
       "      <td>0.0</td>\n",
       "      <td>...</td>\n",
       "      <td>0.0</td>\n",
       "      <td>0.0</td>\n",
       "      <td>0.0</td>\n",
       "      <td>0.0</td>\n",
       "      <td>0.0</td>\n",
       "      <td>0.0</td>\n",
       "      <td>0.0</td>\n",
       "      <td>0.0</td>\n",
       "      <td>0.0</td>\n",
       "      <td>0.0</td>\n",
       "    </tr>\n",
       "    <tr>\n",
       "      <th>90593</th>\n",
       "      <td>Wargame,World War II</td>\n",
       "      <td>Dice Rolling,Hex-and-Counter,Simulation</td>\n",
       "      <td>12</td>\n",
       "      <td>6.87</td>\n",
       "      <td>Drang Nach Osten!</td>\n",
       "      <td>2</td>\n",
       "      <td>4</td>\n",
       "      <td>12000</td>\n",
       "      <td>1973</td>\n",
       "      <td>0.0</td>\n",
       "      <td>...</td>\n",
       "      <td>0.0</td>\n",
       "      <td>0.0</td>\n",
       "      <td>0.0</td>\n",
       "      <td>0.0</td>\n",
       "      <td>0.0</td>\n",
       "      <td>0.0</td>\n",
       "      <td>0.0</td>\n",
       "      <td>0.0</td>\n",
       "      <td>0.0</td>\n",
       "      <td>0.0</td>\n",
       "    </tr>\n",
       "  </tbody>\n",
       "</table>\n",
       "<p>5 rows × 143 columns</p>\n",
       "</div>"
      ],
      "text/plain": [
       "                   category                                mechanism  minage  \\\n",
       "2367    Wargame,World War I                          Hex-and-Counter       0   \n",
       "81561  Wargame,World War II                          Hex-and-Counter      16   \n",
       "81821  Wargame,World War II  Dice Rolling,Hex-and-Counter,Simulation      12   \n",
       "90333  Wargame,World War II                          Hex-and-Counter      16   \n",
       "90593  Wargame,World War II  Dice Rolling,Hex-and-Counter,Simulation      12   \n",
       "\n",
       "       avg_rate                            title  minplayers  maxplayers  \\\n",
       "2367       7.98       1914: Offensive à outrance           2           4   \n",
       "81561      7.77  Atlantic Wall: D-Day to Falaise           2           6   \n",
       "81821      6.87                Drang Nach Osten!           2           4   \n",
       "90333      7.77  Atlantic Wall: D-Day to Falaise           2           6   \n",
       "90593      6.87                Drang Nach Osten!           2           4   \n",
       "\n",
       "       playingtime  yearpublished  Abstract Strategy        ...         \\\n",
       "2367         17280           2013                0.0        ...          \n",
       "81561        14400           2014                0.0        ...          \n",
       "81821        12000           1973                0.0        ...          \n",
       "90333        14400           2014                0.0        ...          \n",
       "90593        12000           1973                0.0        ...          \n",
       "\n",
       "       Storytelling  Take That  Tile Placement  Time Track  Trading  \\\n",
       "2367            0.0        0.0             0.0         0.0      0.0   \n",
       "81561           0.0        0.0             0.0         0.0      0.0   \n",
       "81821           0.0        0.0             0.0         0.0      0.0   \n",
       "90333           0.0        0.0             0.0         0.0      0.0   \n",
       "90593           0.0        0.0             0.0         0.0      0.0   \n",
       "\n",
       "       Trick-taking  Variable Phase Order  Variable Player Powers  Voting  \\\n",
       "2367            0.0                   0.0                     0.0     0.0   \n",
       "81561           0.0                   0.0                     0.0     0.0   \n",
       "81821           0.0                   0.0                     0.0     0.0   \n",
       "90333           0.0                   0.0                     0.0     0.0   \n",
       "90593           0.0                   0.0                     0.0     0.0   \n",
       "\n",
       "       Worker Placement  \n",
       "2367                0.0  \n",
       "81561               0.0  \n",
       "81821               0.0  \n",
       "90333               0.0  \n",
       "90593               0.0  \n",
       "\n",
       "[5 rows x 143 columns]"
      ]
     },
     "execution_count": 21,
     "metadata": {},
     "output_type": "execute_result"
    }
   ],
   "source": [
    "#There seems to be outliers. Most games dont need 10000 minutes (1.6 hours or a whole week continuously) to play!!\n",
    "g[g.playingtime>10000]"
   ]
  },
  {
   "cell_type": "code",
   "execution_count": 22,
   "metadata": {
    "collapsed": false
   },
   "outputs": [
    {
     "data": {
      "text/plain": [
       "[<matplotlib.lines.Line2D at 0x117cd3a58>]"
      ]
     },
     "execution_count": 22,
     "metadata": {},
     "output_type": "execute_result"
    },
    {
     "data": {
      "image/png": "[encoded data removed]",
      "text/plain": [
       "<matplotlib.figure.Figure at 0x118751358>"
      ]
     },
     "metadata": {},
     "output_type": "display_data"
    }
   ],
   "source": [
    "#After checking out the website\n",
    "#It seems that these numbers are not mistakes but some games really take that long to play.\n",
    "#Eventhough those game has quite high rating, I remove them from the plot so we can actually see other data points\n",
    "g = game[(game.yearpublished>1900)]\n",
    "g = g[g.playingtime <10000]\n",
    "plt.plot(g.playingtime, g.avg_rate, \"o\")"
   ]
  },
  {
   "cell_type": "code",
   "execution_count": 23,
   "metadata": {
    "collapsed": false
   },
   "outputs": [
    {
     "data": {
      "text/plain": [
       "[<matplotlib.lines.Line2D at 0x1177a4eb8>]"
      ]
     },
     "execution_count": 23,
     "metadata": {},
     "output_type": "execute_result"
    },
    {
     "data": {
      "image/png": "[encoded data removed]",
      "text/plain": [
       "<matplotlib.figure.Figure at 0x115af0198>"
      ]
     },
     "metadata": {},
     "output_type": "display_data"
    }
   ],
   "source": [
    "#It seems like after 1000minutes of playing time, most games have similar rating between 6-9\n",
    "#Let looks at games that takes less than 1000 minutes (16 hrs) to play\n",
    "g = game[(game.yearpublished>1900)]\n",
    "g = g[g.playingtime <1000]\n",
    "plt.plot(g.playingtime, g.avg_rate, \"o\")"
   ]
  },
  {
   "cell_type": "code",
   "execution_count": 24,
   "metadata": {
    "collapsed": false
   },
   "outputs": [
    {
     "data": {
      "text/plain": [
       "[<matplotlib.lines.Line2D at 0x116e3e978>]"
      ]
     },
     "execution_count": 24,
     "metadata": {},
     "output_type": "execute_result"
    },
    {
     "data": {
      "image/png": "[encoded data removed]",
      "text/plain": [
       "<matplotlib.figure.Figure at 0x1173f3160>"
      ]
     },
     "metadata": {},
     "output_type": "display_data"
    }
   ],
   "source": [
    "#I plan to have my game last around 30 minutes to an hour\n",
    "#I wonder what are the ratings for those games\n",
    "#and would it be beneficial to stretch it out or shorten it more\n",
    "g = game[(game.yearpublished>1900)]\n",
    "g = g[g.playingtime <120]\n",
    "g = g[g.playingtime > 15]\n",
    "plt.plot(g.playingtime, g.avg_rate, \"o\")"
   ]
  },
  {
   "cell_type": "code",
   "execution_count": 25,
   "metadata": {
    "collapsed": false
   },
   "outputs": [],
   "source": [
    "#There is no clear correlation between playing time and rating\n",
    "#I wonder what other factors that will affect rating instead.\n",
    "#I will need more data on game type and game mechanics\n",
    "#Meanwhile..."
   ]
  },
  {
   "cell_type": "code",
   "execution_count": null,
   "metadata": {
    "collapsed": true
   },
   "outputs": [],
   "source": []
  },
  {
   "cell_type": "markdown",
   "metadata": {},
   "source": [
    "## Inferential Statistics"
   ]
  },
  {
   "cell_type": "code",
   "execution_count": null,
   "metadata": {
    "collapsed": true
   },
   "outputs": [],
   "source": []
  },
  {
   "cell_type": "code",
   "execution_count": 26,
   "metadata": {
    "collapsed": false
   },
   "outputs": [
    {
     "data": {
      "image/png": "[encoded data removed]",
      "text/plain": [
       "<matplotlib.figure.Figure at 0x118159f98>"
      ]
     },
     "metadata": {},
     "output_type": "display_data"
    }
   ],
   "source": [
    "#See the distribution of current dataset\n",
    "#average ratings\n",
    "bg = game\n",
    "average_rating = bg.avg_rate.sort_values()\n",
    "fit = st.norm.pdf(average_rating, np.mean(average_rating), np.std(average_rating))  #fitting curve\n",
    "pl.plot(average_rating,fit,'-o')\n",
    "pl.hist(average_rating,normed=True)      #draw histogram of data\n",
    "pl.show()\n"
   ]
  },
  {
   "cell_type": "code",
   "execution_count": 27,
   "metadata": {
    "collapsed": false
   },
   "outputs": [
    {
     "data": {
      "image/png": "[encoded data removed]",
      "text/plain": [
       "<matplotlib.figure.Figure at 0x115af55f8>"
      ]
     },
     "metadata": {},
     "output_type": "display_data"
    }
   ],
   "source": [
    "#See the distribution of current dataset\n",
    "#Max players\n",
    "bg = game\n",
    "maxplayers = bg[(bg.maxplayers<20) & (bg.maxplayers >0)]\n",
    "maxplayers = maxplayers.maxplayers.sort_values()\n",
    "fit = st.norm.pdf(maxplayers, np.mean(maxplayers), np.std(maxplayers)) \n",
    "pl.plot(maxplayers,fit,'-o')\n",
    "pl.hist(maxplayers,normed=True)    \n",
    "pl.show()\n"
   ]
  },
  {
   "cell_type": "code",
   "execution_count": 28,
   "metadata": {
    "collapsed": false
   },
   "outputs": [
    {
     "data": {
      "image/png": "[encoded data removed]",
      "text/plain": [
       "<matplotlib.figure.Figure at 0x1175b98d0>"
      ]
     },
     "metadata": {},
     "output_type": "display_data"
    },
    {
     "data": {
      "text/plain": [
       "count    3057.000000\n",
       "mean        6.735309\n",
       "std         0.836317\n",
       "min         2.240000\n",
       "25%         6.210000\n",
       "50%         6.790000\n",
       "75%         7.350000\n",
       "max         8.830000\n",
       "Name: avg_rate, dtype: float64"
      ]
     },
     "execution_count": 28,
     "metadata": {},
     "output_type": "execute_result"
    }
   ],
   "source": [
    "#create a list of games that requires max 2 players to play\n",
    "two_players = bg[bg.maxplayers <= 2]\n",
    "two_players = two_players.avg_rate.sort_values()\n",
    "fit = st.norm.pdf(two_players, np.mean(two_players), np.std(two_players)) \n",
    "pl.plot(two_players,fit,'-o')\n",
    "pl.hist(two_players,normed=True)    \n",
    "pl.show() \n",
    "two_players.describe()"
   ]
  },
  {
   "cell_type": "code",
   "execution_count": 29,
   "metadata": {
    "collapsed": false
   },
   "outputs": [
    {
     "data": {
      "image/png": "[encoded data removed]",
      "text/plain": [
       "<matplotlib.figure.Figure at 0x115b25780>"
      ]
     },
     "metadata": {},
     "output_type": "display_data"
    },
    {
     "data": {
      "text/plain": [
       "count    3486.000000\n",
       "mean        6.693285\n",
       "std         0.842947\n",
       "min         3.320000\n",
       "25%         6.200000\n",
       "50%         6.750000\n",
       "75%         7.260000\n",
       "max         9.060000\n",
       "Name: avg_rate, dtype: float64"
      ]
     },
     "execution_count": 29,
     "metadata": {},
     "output_type": "execute_result"
    }
   ],
   "source": [
    "#create a list of games that requires max 3-5 players to play\n",
    "bg = game\n",
    "five_players = bg[bg.maxplayers <= 5]\n",
    "five_players = five_players[five_players.maxplayers > 2]\n",
    "five_players = five_players.avg_rate.sort_values()\n",
    "fit = st.norm.pdf(five_players, np.mean(five_players), np.std(five_players)) \n",
    "pl.plot(five_players,fit,'-o')\n",
    "pl.hist(five_players,normed=True)    \n",
    "pl.show() \n",
    "five_players.describe()"
   ]
  },
  {
   "cell_type": "code",
   "execution_count": 30,
   "metadata": {
    "collapsed": false
   },
   "outputs": [
    {
     "data": {
      "image/png": "[encoded data removed]",
      "text/plain": [
       "<matplotlib.figure.Figure at 0x1180ac748>"
      ]
     },
     "metadata": {},
     "output_type": "display_data"
    },
    {
     "data": {
      "text/plain": [
       "count    1895.000000\n",
       "mean        6.599367\n",
       "std         0.851435\n",
       "min         3.240000\n",
       "25%         6.070000\n",
       "50%         6.640000\n",
       "75%         7.170000\n",
       "max         9.140000\n",
       "Name: avg_rate, dtype: float64"
      ]
     },
     "execution_count": 30,
     "metadata": {},
     "output_type": "execute_result"
    }
   ],
   "source": [
    "#create a list of games that requires max 5-10 players to play\n",
    "bg = game\n",
    "ten_players = bg[bg.maxplayers <= 10]\n",
    "ten_players = ten_players[ten_players.maxplayers > 5]\n",
    "ten_players = ten_players.avg_rate.sort_values()\n",
    "fit = st.norm.pdf(ten_players, np.mean(ten_players), np.std(ten_players)) \n",
    "pl.plot(ten_players,fit,'-o')\n",
    "pl.hist(ten_players,normed=True)    \n",
    "pl.show() \n",
    "ten_players.describe()"
   ]
  },
  {
   "cell_type": "markdown",
   "metadata": {},
   "source": [
    "It seems like the more players a game required, the lower its average rating. To test to see if the different is significant, we need to perform z-test"
   ]
  },
  {
   "cell_type": "code",
   "execution_count": 170,
   "metadata": {
    "collapsed": false
   },
   "outputs": [
    {
     "name": "stdout",
     "output_type": "stream",
     "text": [
      "p values =  3.01199735519e-06\n",
      "P values is  0.0 %\n",
      "There is NOT a significant different between two population\n"
     ]
    }
   ],
   "source": [
    "s_two=0.836317\n",
    "s_ten=0.851435\n",
    "n= 1895\n",
    "x_two=6.735309\n",
    "x_ten=6.599367\n",
    "\n",
    "SE_twoten= round((((s_two**2)+(s_ten**2))/n)**0.5,2)\n",
    "#SE\n",
    "x_diff=round(x_two-x_ten,2)\n",
    "#x_diff\n",
    "\n",
    "Z= round(((x_diff - 0)/SE_twoten),2)\n",
    "#Z\n",
    "\n",
    "#two tailes\n",
    "p_values = st.norm.sf(abs(Z))*2\n",
    "print (\"p values = \",p_values)\n",
    "print( \"P values is \", round(p_values *100,2),\"%\")\n",
    "if p_values >= 0.05:\n",
    "    print (\"There is a significant different between two population\")\n",
    "else:\n",
    "    print (\"There is NOT a significant different between two population\")\n"
   ]
  },
  {
   "cell_type": "code",
   "execution_count": null,
   "metadata": {
    "collapsed": true
   },
   "outputs": [],
   "source": []
  },
  {
   "cell_type": "markdown",
   "metadata": {
    "collapsed": true
   },
   "source": [
    "## Different approaches at the data"
   ]
  },
  {
   "cell_type": "code",
   "execution_count": 134,
   "metadata": {
    "collapsed": false
   },
   "outputs": [
    {
     "data": {
      "text/html": [
       "<div>\n",
       "<table border=\"1\" class=\"dataframe\">\n",
       "  <thead>\n",
       "    <tr style=\"text-align: right;\">\n",
       "      <th></th>\n",
       "      <th>avg_rate</th>\n",
       "      <th>Acting</th>\n",
       "      <th>Action / Movement Programming</th>\n",
       "      <th>Action Point Allowance System</th>\n",
       "      <th>Area Control / Area Influence</th>\n",
       "      <th>Area Enclosure</th>\n",
       "      <th>Area Movement</th>\n",
       "      <th>Area-Impulse</th>\n",
       "      <th>Auction/Bidding</th>\n",
       "      <th>Betting/Wagering</th>\n",
       "      <th>...</th>\n",
       "      <th>Storytelling</th>\n",
       "      <th>Take That</th>\n",
       "      <th>Tile Placement</th>\n",
       "      <th>Time Track</th>\n",
       "      <th>Trading</th>\n",
       "      <th>Trick-taking</th>\n",
       "      <th>Variable Phase Order</th>\n",
       "      <th>Variable Player Powers</th>\n",
       "      <th>Voting</th>\n",
       "      <th>Worker Placement</th>\n",
       "    </tr>\n",
       "  </thead>\n",
       "  <tbody>\n",
       "    <tr>\n",
       "      <th>0</th>\n",
       "      <td>8.67</td>\n",
       "      <td>0.0</td>\n",
       "      <td>0.0</td>\n",
       "      <td>1.0</td>\n",
       "      <td>0.0</td>\n",
       "      <td>0.0</td>\n",
       "      <td>0.0</td>\n",
       "      <td>0.0</td>\n",
       "      <td>0.0</td>\n",
       "      <td>0.0</td>\n",
       "      <td>...</td>\n",
       "      <td>0.0</td>\n",
       "      <td>0.0</td>\n",
       "      <td>0.0</td>\n",
       "      <td>0.0</td>\n",
       "      <td>1.0</td>\n",
       "      <td>0.0</td>\n",
       "      <td>0.0</td>\n",
       "      <td>1.0</td>\n",
       "      <td>0.0</td>\n",
       "      <td>0.0</td>\n",
       "    </tr>\n",
       "    <tr>\n",
       "      <th>1</th>\n",
       "      <td>8.71</td>\n",
       "      <td>0.0</td>\n",
       "      <td>0.0</td>\n",
       "      <td>1.0</td>\n",
       "      <td>0.0</td>\n",
       "      <td>0.0</td>\n",
       "      <td>0.0</td>\n",
       "      <td>0.0</td>\n",
       "      <td>1.0</td>\n",
       "      <td>0.0</td>\n",
       "      <td>...</td>\n",
       "      <td>0.0</td>\n",
       "      <td>0.0</td>\n",
       "      <td>0.0</td>\n",
       "      <td>0.0</td>\n",
       "      <td>0.0</td>\n",
       "      <td>0.0</td>\n",
       "      <td>0.0</td>\n",
       "      <td>0.0</td>\n",
       "      <td>0.0</td>\n",
       "      <td>0.0</td>\n",
       "    </tr>\n",
       "    <tr>\n",
       "      <th>2</th>\n",
       "      <td>8.36</td>\n",
       "      <td>0.0</td>\n",
       "      <td>0.0</td>\n",
       "      <td>0.0</td>\n",
       "      <td>1.0</td>\n",
       "      <td>0.0</td>\n",
       "      <td>0.0</td>\n",
       "      <td>0.0</td>\n",
       "      <td>0.0</td>\n",
       "      <td>0.0</td>\n",
       "      <td>...</td>\n",
       "      <td>0.0</td>\n",
       "      <td>0.0</td>\n",
       "      <td>0.0</td>\n",
       "      <td>0.0</td>\n",
       "      <td>0.0</td>\n",
       "      <td>0.0</td>\n",
       "      <td>0.0</td>\n",
       "      <td>0.0</td>\n",
       "      <td>0.0</td>\n",
       "      <td>0.0</td>\n",
       "    </tr>\n",
       "    <tr>\n",
       "      <th>3</th>\n",
       "      <td>9.06</td>\n",
       "      <td>0.0</td>\n",
       "      <td>1.0</td>\n",
       "      <td>0.0</td>\n",
       "      <td>0.0</td>\n",
       "      <td>0.0</td>\n",
       "      <td>0.0</td>\n",
       "      <td>0.0</td>\n",
       "      <td>0.0</td>\n",
       "      <td>0.0</td>\n",
       "      <td>...</td>\n",
       "      <td>1.0</td>\n",
       "      <td>0.0</td>\n",
       "      <td>0.0</td>\n",
       "      <td>0.0</td>\n",
       "      <td>0.0</td>\n",
       "      <td>0.0</td>\n",
       "      <td>0.0</td>\n",
       "      <td>1.0</td>\n",
       "      <td>0.0</td>\n",
       "      <td>0.0</td>\n",
       "    </tr>\n",
       "    <tr>\n",
       "      <th>4</th>\n",
       "      <td>8.52</td>\n",
       "      <td>0.0</td>\n",
       "      <td>0.0</td>\n",
       "      <td>0.0</td>\n",
       "      <td>1.0</td>\n",
       "      <td>0.0</td>\n",
       "      <td>1.0</td>\n",
       "      <td>0.0</td>\n",
       "      <td>0.0</td>\n",
       "      <td>0.0</td>\n",
       "      <td>...</td>\n",
       "      <td>0.0</td>\n",
       "      <td>0.0</td>\n",
       "      <td>0.0</td>\n",
       "      <td>0.0</td>\n",
       "      <td>0.0</td>\n",
       "      <td>0.0</td>\n",
       "      <td>0.0</td>\n",
       "      <td>0.0</td>\n",
       "      <td>0.0</td>\n",
       "      <td>0.0</td>\n",
       "    </tr>\n",
       "  </tbody>\n",
       "</table>\n",
       "<p>5 rows × 52 columns</p>\n",
       "</div>"
      ],
      "text/plain": [
       "   avg_rate  Acting  Action / Movement Programming  \\\n",
       "0      8.67     0.0                            0.0   \n",
       "1      8.71     0.0                            0.0   \n",
       "2      8.36     0.0                            0.0   \n",
       "3      9.06     0.0                            1.0   \n",
       "4      8.52     0.0                            0.0   \n",
       "\n",
       "   Action Point Allowance System  Area Control / Area Influence  \\\n",
       "0                            1.0                            0.0   \n",
       "1                            1.0                            0.0   \n",
       "2                            0.0                            1.0   \n",
       "3                            0.0                            0.0   \n",
       "4                            0.0                            1.0   \n",
       "\n",
       "   Area Enclosure  Area Movement  Area-Impulse  Auction/Bidding  \\\n",
       "0             0.0            0.0           0.0              0.0   \n",
       "1             0.0            0.0           0.0              1.0   \n",
       "2             0.0            0.0           0.0              0.0   \n",
       "3             0.0            0.0           0.0              0.0   \n",
       "4             0.0            1.0           0.0              0.0   \n",
       "\n",
       "   Betting/Wagering        ...         Storytelling  Take That  \\\n",
       "0               0.0        ...                  0.0        0.0   \n",
       "1               0.0        ...                  0.0        0.0   \n",
       "2               0.0        ...                  0.0        0.0   \n",
       "3               0.0        ...                  1.0        0.0   \n",
       "4               0.0        ...                  0.0        0.0   \n",
       "\n",
       "   Tile Placement  Time Track  Trading  Trick-taking  Variable Phase Order  \\\n",
       "0             0.0         0.0      1.0           0.0                   0.0   \n",
       "1             0.0         0.0      0.0           0.0                   0.0   \n",
       "2             0.0         0.0      0.0           0.0                   0.0   \n",
       "3             0.0         0.0      0.0           0.0                   0.0   \n",
       "4             0.0         0.0      0.0           0.0                   0.0   \n",
       "\n",
       "   Variable Player Powers  Voting  Worker Placement  \n",
       "0                     1.0     0.0               0.0  \n",
       "1                     0.0     0.0               0.0  \n",
       "2                     0.0     0.0               0.0  \n",
       "3                     1.0     0.0               0.0  \n",
       "4                     0.0     0.0               0.0  \n",
       "\n",
       "[5 rows x 52 columns]"
      ]
     },
     "execution_count": 134,
     "metadata": {},
     "output_type": "execute_result"
    }
   ],
   "source": [
    "#subset the data to focus on game mechanic\n",
    "gamemechanic = game.loc[:,['avg_rate','Acting','Action / Movement Programming','Action Point Allowance System','Area Control / Area Influence',\n",
    "             'Area Enclosure','Area Movement','Area-Impulse','Auction/Bidding','Betting/Wagering',\n",
    "             'Campaign / Battle Card Driven','Card Drafting','Chit-Pull System','Co-operative Play',\n",
    "             'Commodity Speculation','Crayon Rail System','Deck / Pool Building','Dice Rolling','Grid Movement',\n",
    "             'Hand Management','Hex-and-Counter','Line Drawing','Memory','Modular Board','Paper-and-Pencil',\n",
    "             'Partnerships','Pattern Building','Pattern Recognition','Pick-up and Deliver','Player Elimination',\n",
    "             'Point to Point Movement','Press Your Luck','Rock-Paper-Scissors','Role Playing','Roll / Spin and Move',\n",
    "             'Route/Network Building','Secret Unit Deployment','Set Collection','Simulation',\n",
    "             'Simultaneous Action Selection','Singing','Stock Holding','Storytelling','Take That','Tile Placement',\n",
    "             'Time Track','Trading','Trick-taking','Variable Phase Order','Variable Player Powers','Voting',\n",
    "             'Worker Placement']]\n",
    "gamemechanic.head()"
   ]
  },
  {
   "cell_type": "code",
   "execution_count": 135,
   "metadata": {
    "collapsed": false
   },
   "outputs": [
    {
     "data": {
      "text/plain": [
       "Dice Rolling                     2541.0\n",
       "Hex-and-Counter                  2062.0\n",
       "Hand Management                  1764.0\n",
       "Variable Player Powers           1320.0\n",
       "Set Collection                    970.0\n",
       "Modular Board                     936.0\n",
       "Tile Placement                    795.0\n",
       "Simulation                        762.0\n",
       "Area Control / Area Influence     732.0\n",
       "Card Drafting                     676.0\n",
       "dtype: float64"
      ]
     },
     "execution_count": 135,
     "metadata": {},
     "output_type": "execute_result"
    }
   ],
   "source": [
    "#number of games were identidied with each mechanisms\n",
    "mechanic_sum = game.loc[:,['Acting','Action / Movement Programming','Action Point Allowance System','Area Control / Area Influence',\n",
    "             'Area Enclosure','Area Movement','Area-Impulse','Auction/Bidding','Betting/Wagering',\n",
    "             'Campaign / Battle Card Driven','Card Drafting','Chit-Pull System','Co-operative Play',\n",
    "             'Commodity Speculation','Crayon Rail System','Deck / Pool Building','Dice Rolling','Grid Movement',\n",
    "             'Hand Management','Hex-and-Counter','Line Drawing','Memory','Modular Board','Paper-and-Pencil',\n",
    "             'Partnerships','Pattern Building','Pattern Recognition','Pick-up and Deliver','Player Elimination',\n",
    "             'Point to Point Movement','Press Your Luck','Rock-Paper-Scissors','Role Playing','Roll / Spin and Move',\n",
    "             'Route/Network Building','Secret Unit Deployment','Set Collection','Simulation',\n",
    "             'Simultaneous Action Selection','Singing','Stock Holding','Storytelling','Take That','Tile Placement',\n",
    "             'Time Track','Trading','Trick-taking','Variable Phase Order','Variable Player Powers','Voting',\n",
    "             'Worker Placement']]\n",
    "mechanic_sum = mechanic_sum.sum().sort_values(ascending=False)\n",
    "mechanic_sum.head(10)\n",
    "#plt.hist(mechanic_sum, bins=[0, 200, 400, 600, 800, 1000, 1200, 1400, 1600, 1800, 2000, 2200, 2400, 2600]) \n"
   ]
  },
  {
   "cell_type": "markdown",
   "metadata": {
    "collapsed": false
   },
   "source": [
    "Top 10 most popular game mechanics"
   ]
  },
  {
   "cell_type": "code",
   "execution_count": 136,
   "metadata": {
    "collapsed": false
   },
   "outputs": [],
   "source": [
    "mechanic_sum = mechanic_sum.to_frame()"
   ]
  },
  {
   "cell_type": "code",
   "execution_count": 137,
   "metadata": {
    "collapsed": false
   },
   "outputs": [
    {
     "data": {
      "text/html": [
       "<div>\n",
       "<table border=\"1\" class=\"dataframe\">\n",
       "  <thead>\n",
       "    <tr style=\"text-align: right;\">\n",
       "      <th></th>\n",
       "      <th>counts</th>\n",
       "      <th>average</th>\n",
       "      <th>STD</th>\n",
       "    </tr>\n",
       "  </thead>\n",
       "  <tbody>\n",
       "    <tr>\n",
       "      <th>Deck / Pool Building</th>\n",
       "      <td>249.0</td>\n",
       "      <td>7.285823</td>\n",
       "      <td>0.631009</td>\n",
       "    </tr>\n",
       "    <tr>\n",
       "      <th>Worker Placement</th>\n",
       "      <td>290.0</td>\n",
       "      <td>7.222276</td>\n",
       "      <td>0.602673</td>\n",
       "    </tr>\n",
       "    <tr>\n",
       "      <th>Variable Phase Order</th>\n",
       "      <td>192.0</td>\n",
       "      <td>7.217135</td>\n",
       "      <td>0.701448</td>\n",
       "    </tr>\n",
       "  </tbody>\n",
       "</table>\n",
       "</div>"
      ],
      "text/plain": [
       "                      counts   average       STD\n",
       "Deck / Pool Building   249.0  7.285823  0.631009\n",
       "Worker Placement       290.0  7.222276  0.602673\n",
       "Variable Phase Order   192.0  7.217135  0.701448"
      ]
     },
     "execution_count": 137,
     "metadata": {},
     "output_type": "execute_result"
    }
   ],
   "source": [
    "#Does game mechanic has an effet on rating?\n",
    "for i in mechanism:\n",
    "    m = gamemechanic[gamemechanic[i]==1]\n",
    "    average = m.avg_rate.mean()\n",
    "    STD = m.avg_rate.std()\n",
    "    mechanic_sum.loc[i,'average'] = average\n",
    "    mechanic_sum.loc[i,'STD'] = STD\n",
    "mechanic_sum.columns=['counts','average','STD']\n",
    "mechanic_sum.sort_values('average',ascending=False).head(3)"
   ]
  },
  {
   "cell_type": "code",
   "execution_count": 138,
   "metadata": {
    "collapsed": false
   },
   "outputs": [
    {
     "data": {
      "text/html": [
       "<div>\n",
       "<table border=\"1\" class=\"dataframe\">\n",
       "  <thead>\n",
       "    <tr style=\"text-align: right;\">\n",
       "      <th></th>\n",
       "      <th>counts</th>\n",
       "      <th>average</th>\n",
       "      <th>STD</th>\n",
       "    </tr>\n",
       "  </thead>\n",
       "  <tbody>\n",
       "    <tr>\n",
       "      <th>Roll / Spin and Move</th>\n",
       "      <td>446.0</td>\n",
       "      <td>5.786054</td>\n",
       "      <td>0.926640</td>\n",
       "    </tr>\n",
       "    <tr>\n",
       "      <th>Pattern Recognition</th>\n",
       "      <td>168.0</td>\n",
       "      <td>5.927440</td>\n",
       "      <td>0.901397</td>\n",
       "    </tr>\n",
       "    <tr>\n",
       "      <th>Singing</th>\n",
       "      <td>12.0</td>\n",
       "      <td>6.009167</td>\n",
       "      <td>0.519203</td>\n",
       "    </tr>\n",
       "  </tbody>\n",
       "</table>\n",
       "</div>"
      ],
      "text/plain": [
       "                      counts   average       STD\n",
       "Roll / Spin and Move   446.0  5.786054  0.926640\n",
       "Pattern Recognition    168.0  5.927440  0.901397\n",
       "Singing                 12.0  6.009167  0.519203"
      ]
     },
     "execution_count": 138,
     "metadata": {},
     "output_type": "execute_result"
    }
   ],
   "source": [
    "mechanic_sum.sort_values('average').head(3)"
   ]
  },
  {
   "cell_type": "code",
   "execution_count": 171,
   "metadata": {
    "collapsed": false
   },
   "outputs": [
    {
     "name": "stdout",
     "output_type": "stream",
     "text": [
      "p values =  0.0801183137276\n",
      "P values is  8.01 %\n",
      "There is a significant different between two population\n"
     ]
    }
   ],
   "source": [
    "#Is there a significant differences?\n",
    "s_deck=0.836317\n",
    "s_roll=0.851435\n",
    "n= 249\n",
    "x_deck=6.735309\n",
    "x_roll=6.599367\n",
    "\n",
    "SE_deckroll= round((((s_deck**2)+(s_roll**2))/n)**0.5,2)\n",
    "#SE\n",
    "x_diff=round(x_deck-x_roll,2)\n",
    "#x_diff\n",
    "\n",
    "Z= round(((x_diff - 0)/SE_deckroll),2)\n",
    "#Z\n",
    "\n",
    "#two tailes\n",
    "p_values = st.norm.sf(abs(Z))*2\n",
    "print (\"p values = \",p_values)\n",
    "print( \"P values is \", round(p_values *100,2),\"%\")\n",
    "if p_values >= 0.05:\n",
    "    print (\"There is a significant different between two population\")\n",
    "else:\n",
    "    print (\"There is NOT a significant different between two population\")"
   ]
  },
  {
   "cell_type": "code",
   "execution_count": 155,
   "metadata": {
    "collapsed": false
   },
   "outputs": [
    {
     "data": {
      "text/html": [
       "<div>\n",
       "<table border=\"1\" class=\"dataframe\">\n",
       "  <thead>\n",
       "    <tr style=\"text-align: right;\">\n",
       "      <th></th>\n",
       "      <th>avg_rate</th>\n",
       "      <th>Abstract Strategy</th>\n",
       "      <th>Action / Dexterity</th>\n",
       "      <th>Adventure</th>\n",
       "      <th>Age of Reason</th>\n",
       "      <th>American Civil War</th>\n",
       "      <th>American Indian Wars</th>\n",
       "      <th>American Revolutionary War</th>\n",
       "      <th>American West</th>\n",
       "      <th>Ancient</th>\n",
       "      <th>...</th>\n",
       "      <th>Transportation</th>\n",
       "      <th>Travel</th>\n",
       "      <th>Trivia</th>\n",
       "      <th>Video Game Theme</th>\n",
       "      <th>Vietnam War</th>\n",
       "      <th>Wargame</th>\n",
       "      <th>Word Game</th>\n",
       "      <th>World War I</th>\n",
       "      <th>World War II</th>\n",
       "      <th>Zombies</th>\n",
       "    </tr>\n",
       "  </thead>\n",
       "  <tbody>\n",
       "    <tr>\n",
       "      <th>0</th>\n",
       "      <td>8.67</td>\n",
       "      <td>0.0</td>\n",
       "      <td>0.0</td>\n",
       "      <td>0.0</td>\n",
       "      <td>0.0</td>\n",
       "      <td>0.0</td>\n",
       "      <td>0.0</td>\n",
       "      <td>0.0</td>\n",
       "      <td>0.0</td>\n",
       "      <td>0.0</td>\n",
       "      <td>...</td>\n",
       "      <td>0.0</td>\n",
       "      <td>0.0</td>\n",
       "      <td>0.0</td>\n",
       "      <td>0.0</td>\n",
       "      <td>0.0</td>\n",
       "      <td>0.0</td>\n",
       "      <td>0.0</td>\n",
       "      <td>0.0</td>\n",
       "      <td>0.0</td>\n",
       "      <td>0.0</td>\n",
       "    </tr>\n",
       "    <tr>\n",
       "      <th>1</th>\n",
       "      <td>8.71</td>\n",
       "      <td>0.0</td>\n",
       "      <td>0.0</td>\n",
       "      <td>0.0</td>\n",
       "      <td>0.0</td>\n",
       "      <td>0.0</td>\n",
       "      <td>0.0</td>\n",
       "      <td>0.0</td>\n",
       "      <td>0.0</td>\n",
       "      <td>0.0</td>\n",
       "      <td>...</td>\n",
       "      <td>0.0</td>\n",
       "      <td>0.0</td>\n",
       "      <td>0.0</td>\n",
       "      <td>0.0</td>\n",
       "      <td>0.0</td>\n",
       "      <td>0.0</td>\n",
       "      <td>0.0</td>\n",
       "      <td>0.0</td>\n",
       "      <td>0.0</td>\n",
       "      <td>0.0</td>\n",
       "    </tr>\n",
       "    <tr>\n",
       "      <th>2</th>\n",
       "      <td>8.36</td>\n",
       "      <td>0.0</td>\n",
       "      <td>0.0</td>\n",
       "      <td>0.0</td>\n",
       "      <td>0.0</td>\n",
       "      <td>0.0</td>\n",
       "      <td>0.0</td>\n",
       "      <td>0.0</td>\n",
       "      <td>0.0</td>\n",
       "      <td>0.0</td>\n",
       "      <td>...</td>\n",
       "      <td>0.0</td>\n",
       "      <td>0.0</td>\n",
       "      <td>0.0</td>\n",
       "      <td>0.0</td>\n",
       "      <td>0.0</td>\n",
       "      <td>1.0</td>\n",
       "      <td>0.0</td>\n",
       "      <td>0.0</td>\n",
       "      <td>0.0</td>\n",
       "      <td>0.0</td>\n",
       "    </tr>\n",
       "    <tr>\n",
       "      <th>3</th>\n",
       "      <td>9.06</td>\n",
       "      <td>0.0</td>\n",
       "      <td>0.0</td>\n",
       "      <td>1.0</td>\n",
       "      <td>0.0</td>\n",
       "      <td>0.0</td>\n",
       "      <td>0.0</td>\n",
       "      <td>0.0</td>\n",
       "      <td>0.0</td>\n",
       "      <td>0.0</td>\n",
       "      <td>...</td>\n",
       "      <td>0.0</td>\n",
       "      <td>0.0</td>\n",
       "      <td>0.0</td>\n",
       "      <td>0.0</td>\n",
       "      <td>0.0</td>\n",
       "      <td>0.0</td>\n",
       "      <td>0.0</td>\n",
       "      <td>0.0</td>\n",
       "      <td>0.0</td>\n",
       "      <td>0.0</td>\n",
       "    </tr>\n",
       "    <tr>\n",
       "      <th>4</th>\n",
       "      <td>8.52</td>\n",
       "      <td>0.0</td>\n",
       "      <td>0.0</td>\n",
       "      <td>0.0</td>\n",
       "      <td>0.0</td>\n",
       "      <td>0.0</td>\n",
       "      <td>0.0</td>\n",
       "      <td>0.0</td>\n",
       "      <td>0.0</td>\n",
       "      <td>0.0</td>\n",
       "      <td>...</td>\n",
       "      <td>0.0</td>\n",
       "      <td>0.0</td>\n",
       "      <td>0.0</td>\n",
       "      <td>0.0</td>\n",
       "      <td>0.0</td>\n",
       "      <td>1.0</td>\n",
       "      <td>0.0</td>\n",
       "      <td>0.0</td>\n",
       "      <td>0.0</td>\n",
       "      <td>0.0</td>\n",
       "    </tr>\n",
       "  </tbody>\n",
       "</table>\n",
       "<p>5 rows × 85 columns</p>\n",
       "</div>"
      ],
      "text/plain": [
       "   avg_rate  Abstract Strategy  Action / Dexterity  Adventure  Age of Reason  \\\n",
       "0      8.67                0.0                 0.0        0.0            0.0   \n",
       "1      8.71                0.0                 0.0        0.0            0.0   \n",
       "2      8.36                0.0                 0.0        0.0            0.0   \n",
       "3      9.06                0.0                 0.0        1.0            0.0   \n",
       "4      8.52                0.0                 0.0        0.0            0.0   \n",
       "\n",
       "   American Civil War  American Indian Wars  American Revolutionary War  \\\n",
       "0                 0.0                   0.0                         0.0   \n",
       "1                 0.0                   0.0                         0.0   \n",
       "2                 0.0                   0.0                         0.0   \n",
       "3                 0.0                   0.0                         0.0   \n",
       "4                 0.0                   0.0                         0.0   \n",
       "\n",
       "   American West  Ancient   ...     Transportation  Travel  Trivia  \\\n",
       "0            0.0      0.0   ...                0.0     0.0     0.0   \n",
       "1            0.0      0.0   ...                0.0     0.0     0.0   \n",
       "2            0.0      0.0   ...                0.0     0.0     0.0   \n",
       "3            0.0      0.0   ...                0.0     0.0     0.0   \n",
       "4            0.0      0.0   ...                0.0     0.0     0.0   \n",
       "\n",
       "   Video Game Theme  Vietnam War  Wargame  Word Game  World War I  \\\n",
       "0               0.0          0.0      0.0        0.0          0.0   \n",
       "1               0.0          0.0      0.0        0.0          0.0   \n",
       "2               0.0          0.0      1.0        0.0          0.0   \n",
       "3               0.0          0.0      0.0        0.0          0.0   \n",
       "4               0.0          0.0      1.0        0.0          0.0   \n",
       "\n",
       "   World War II  Zombies  \n",
       "0           0.0      0.0  \n",
       "1           0.0      0.0  \n",
       "2           0.0      0.0  \n",
       "3           0.0      0.0  \n",
       "4           0.0      0.0  \n",
       "\n",
       "[5 rows x 85 columns]"
      ]
     },
     "execution_count": 155,
     "metadata": {},
     "output_type": "execute_result"
    }
   ],
   "source": [
    "#What about category? Does it have an effect on rating?\n",
    "#subset the data to focus on game category\n",
    "gamecategory = game.loc[:,['avg_rate','Abstract Strategy','Action / Dexterity','Adventure','Age of Reason','American Civil War',\n",
    "            'American Indian Wars','American Revolutionary War','American West','Ancient','Animals',\n",
    "            'Arabian','Aviation / Flight','Bluffing','Book','Card Game',\"Children's Game\",'City Building',\n",
    "            'Civil War','Civilization','Collectible Components','Comic Book / Strip','Deduction','Dice',\n",
    "            'Economic','Educational','Electronic','Environmental','Expansion for Base-game','Exploration',\n",
    "            'Fan Expansion','Fantasy','Farming','Fighting','Game System','Horror','Humor','Industry / Manufacturing',\n",
    "            'Korean War','Mafia','Math','Mature / Adult','Maze','Medical','Medieval','Memory','Miniatures',\n",
    "            'Modern Warfare','Movies / TV / Radio theme','Murder/Mystery','Music','Mythology','Napoleonic',\n",
    "            'Nautical','Negotiation','Novel-based','Number','Party Game','Pike and Shot','Pirates','Political',\n",
    "            'Post-Napoleonic','Prehistoric','Print & Play','Puzzle','Racing','Real-time','Religious','Renaissance',\n",
    "            'Science Fiction','Space Exploration','Spies/Secret Agents','Sports','Territory Building','Trains',\n",
    "            'Transportation','Travel','Trivia','Video Game Theme','Vietnam War','Wargame','Word Game','World War I',\n",
    "            'World War II','Zombies']]\n",
    "gamecategory.head()"
   ]
  },
  {
   "cell_type": "code",
   "execution_count": 159,
   "metadata": {
    "collapsed": false
   },
   "outputs": [
    {
     "data": {
      "text/plain": [
       "Wargame                    3109.0\n",
       "Card Game                  1768.0\n",
       "World War I                1238.0\n",
       "World War II               1103.0\n",
       "Expansion for Base-game    1093.0\n",
       "Fantasy                    1093.0\n",
       "Fighting                    906.0\n",
       "Science Fiction             898.0\n",
       "Abstract Strategy           696.0\n",
       "Economic                    666.0\n",
       "dtype: float64"
      ]
     },
     "execution_count": 159,
     "metadata": {},
     "output_type": "execute_result"
    }
   ],
   "source": [
    "#number of games were identidied with each categories\n",
    "category_sum = game.loc[:,['Abstract Strategy','Action / Dexterity','Adventure','Age of Reason','American Civil War',\n",
    "            'American Indian Wars','American Revolutionary War','American West','Ancient','Animals',\n",
    "            'Arabian','Aviation / Flight','Bluffing','Book','Card Game',\"Children's Game\",'City Building',\n",
    "            'Civil War','Civilization','Collectible Components','Comic Book / Strip','Deduction','Dice',\n",
    "            'Economic','Educational','Electronic','Environmental','Expansion for Base-game','Exploration',\n",
    "            'Fan Expansion','Fantasy','Farming','Fighting','Game System','Horror','Humor','Industry / Manufacturing',\n",
    "            'Korean War','Mafia','Math','Mature / Adult','Maze','Medical','Medieval','Memory','Miniatures',\n",
    "            'Modern Warfare','Movies / TV / Radio theme','Murder/Mystery','Music','Mythology','Napoleonic',\n",
    "            'Nautical','Negotiation','Novel-based','Number','Party Game','Pike and Shot','Pirates','Political',\n",
    "            'Post-Napoleonic','Prehistoric','Print & Play','Puzzle','Racing','Real-time','Religious','Renaissance',\n",
    "            'Science Fiction','Space Exploration','Spies/Secret Agents','Sports','Territory Building','Trains',\n",
    "            'Transportation','Travel','Trivia','Video Game Theme','Vietnam War','Wargame','Word Game','World War I',\n",
    "            'World War II','Zombies']]\n",
    "category_sum = category_sum.sum().sort_values(ascending=False)\n",
    "category_sum.head(10)"
   ]
  },
  {
   "cell_type": "code",
   "execution_count": 160,
   "metadata": {
    "collapsed": false
   },
   "outputs": [],
   "source": [
    "category_sum = category_sum.to_frame()"
   ]
  },
  {
   "cell_type": "code",
   "execution_count": 163,
   "metadata": {
    "collapsed": false
   },
   "outputs": [
    {
     "data": {
      "text/html": [
       "<div>\n",
       "<table border=\"1\" class=\"dataframe\">\n",
       "  <thead>\n",
       "    <tr style=\"text-align: right;\">\n",
       "      <th></th>\n",
       "      <th>counts</th>\n",
       "      <th>average</th>\n",
       "      <th>STD</th>\n",
       "    </tr>\n",
       "  </thead>\n",
       "  <tbody>\n",
       "    <tr>\n",
       "      <th>Expansion for Base-game</th>\n",
       "      <td>1093.0</td>\n",
       "      <td>7.359835</td>\n",
       "      <td>0.590792</td>\n",
       "    </tr>\n",
       "    <tr>\n",
       "      <th>Industry / Manufacturing</th>\n",
       "      <td>110.0</td>\n",
       "      <td>7.284273</td>\n",
       "      <td>0.617839</td>\n",
       "    </tr>\n",
       "    <tr>\n",
       "      <th>American Indian Wars</th>\n",
       "      <td>18.0</td>\n",
       "      <td>7.211667</td>\n",
       "      <td>0.909171</td>\n",
       "    </tr>\n",
       "  </tbody>\n",
       "</table>\n",
       "</div>"
      ],
      "text/plain": [
       "                          counts   average       STD\n",
       "Expansion for Base-game   1093.0  7.359835  0.590792\n",
       "Industry / Manufacturing   110.0  7.284273  0.617839\n",
       "American Indian Wars        18.0  7.211667  0.909171"
      ]
     },
     "execution_count": 163,
     "metadata": {},
     "output_type": "execute_result"
    }
   ],
   "source": [
    "#Does game category has an effet on rating?\n",
    "for i in category:\n",
    "    m = gamecategory[gamecategory[i]==1]\n",
    "    average = m.avg_rate.mean()\n",
    "    STD = m.avg_rate.std()\n",
    "    category_sum.loc[i,'average'] = average\n",
    "    category_sum.loc[i,'STD'] = STD\n",
    "category_sum.columns=['counts','average','STD']\n",
    "category_sum.sort_values('average',ascending=False).head(3)"
   ]
  },
  {
   "cell_type": "code",
   "execution_count": 165,
   "metadata": {
    "collapsed": false
   },
   "outputs": [
    {
     "data": {
      "text/html": [
       "<div>\n",
       "<table border=\"1\" class=\"dataframe\">\n",
       "  <thead>\n",
       "    <tr style=\"text-align: right;\">\n",
       "      <th></th>\n",
       "      <th>counts</th>\n",
       "      <th>average</th>\n",
       "      <th>STD</th>\n",
       "    </tr>\n",
       "  </thead>\n",
       "  <tbody>\n",
       "    <tr>\n",
       "      <th>Children's Game</th>\n",
       "      <td>631.0</td>\n",
       "      <td>5.545721</td>\n",
       "      <td>0.844564</td>\n",
       "    </tr>\n",
       "    <tr>\n",
       "      <th>Number</th>\n",
       "      <td>40.0</td>\n",
       "      <td>5.653000</td>\n",
       "      <td>1.066257</td>\n",
       "    </tr>\n",
       "    <tr>\n",
       "      <th>Math</th>\n",
       "      <td>15.0</td>\n",
       "      <td>5.731333</td>\n",
       "      <td>0.619215</td>\n",
       "    </tr>\n",
       "  </tbody>\n",
       "</table>\n",
       "</div>"
      ],
      "text/plain": [
       "                 counts   average       STD\n",
       "Children's Game   631.0  5.545721  0.844564\n",
       "Number             40.0  5.653000  1.066257\n",
       "Math               15.0  5.731333  0.619215"
      ]
     },
     "execution_count": 165,
     "metadata": {},
     "output_type": "execute_result"
    }
   ],
   "source": [
    "category_sum.sort_values('average').head(3)"
   ]
  },
  {
   "cell_type": "markdown",
   "metadata": {
    "collapsed": false
   },
   "source": [
    "It makes sense that expansion for base-game would be rated the highest because games with expansions are usually already proven to be well-received. However, since my purpose is to make a new game, this category does not fit my criteria. Also, I aim to make games that are not just for children so 'children's games' is also not a good fit. So I would compared between 'Industry/manufacturing' and 'Number' instead"
   ]
  },
  {
   "cell_type": "code",
   "execution_count": 169,
   "metadata": {
    "collapsed": false
   },
   "outputs": [
    {
     "name": "stdout",
     "output_type": "stream",
     "text": [
      "p values =  0.435390875171\n",
      "P values is  43.54 %\n",
      "There is a significant different between two population\n"
     ]
    }
   ],
   "source": [
    "#Is there a significant differences?\n",
    "s_indus=7.284273\n",
    "s_number=5.653000\n",
    "n= 249\n",
    "x_indus=0.617839\n",
    "x_number=1.066257\n",
    "\n",
    "SE_indusnumber= round((((s_indus**2)+(s_number**2))/n)**0.5,2)\n",
    "#SE\n",
    "x_diff=round(x_indus-x_number,2)\n",
    "#x_diff\n",
    "\n",
    "Z= round(((x_diff - 0)/SE_indusnumber),2)\n",
    "#Z\n",
    "\n",
    "#two tailes\n",
    "p_values = st.norm.sf(abs(Z))*2\n",
    "print (\"p values = \",p_values)\n",
    "print( \"P values is \", round(p_values *100,2), '%')\n",
    "if p_values >= 0.05:\n",
    "    print (\"There is a significant different between two population\")\n",
    "else:\n",
    "    print (\"There is NOT a significant different between two population\")"
   ]
  },
  {
   "cell_type": "code",
   "execution_count": null,
   "metadata": {
    "collapsed": false
   },
   "outputs": [],
   "source": []
  },
  {
   "cell_type": "code",
   "execution_count": null,
   "metadata": {
    "collapsed": false
   },
   "outputs": [],
   "source": []
  },
  {
   "cell_type": "code",
   "execution_count": null,
   "metadata": {
    "collapsed": false
   },
   "outputs": [],
   "source": []
  },
  {
   "cell_type": "code",
   "execution_count": null,
   "metadata": {
    "collapsed": false
   },
   "outputs": [],
   "source": []
  },
  {
   "cell_type": "code",
   "execution_count": null,
   "metadata": {
    "collapsed": false
   },
   "outputs": [],
   "source": []
  },
  {
   "cell_type": "code",
   "execution_count": null,
   "metadata": {
    "collapsed": false
   },
   "outputs": [],
   "source": []
  },
  {
   "cell_type": "code",
   "execution_count": null,
   "metadata": {
    "collapsed": false
   },
   "outputs": [],
   "source": []
  },
  {
   "cell_type": "code",
   "execution_count": null,
   "metadata": {
    "collapsed": false
   },
   "outputs": [],
   "source": []
  },
  {
   "cell_type": "code",
   "execution_count": null,
   "metadata": {
    "collapsed": false
   },
   "outputs": [],
   "source": []
  },
  {
   "cell_type": "code",
   "execution_count": null,
   "metadata": {
    "collapsed": false
   },
   "outputs": [],
   "source": []
  },
  {
   "cell_type": "code",
   "execution_count": null,
   "metadata": {
    "collapsed": false
   },
   "outputs": [],
   "source": []
  },
  {
   "cell_type": "code",
   "execution_count": null,
   "metadata": {
    "collapsed": false
   },
   "outputs": [],
   "source": []
  },
  {
   "cell_type": "code",
   "execution_count": null,
   "metadata": {
    "collapsed": false
   },
   "outputs": [],
   "source": []
  },
  {
   "cell_type": "code",
   "execution_count": null,
   "metadata": {
    "collapsed": false
   },
   "outputs": [],
   "source": []
  },
  {
   "cell_type": "code",
   "execution_count": null,
   "metadata": {
    "collapsed": false
   },
   "outputs": [],
   "source": []
  },
  {
   "cell_type": "code",
   "execution_count": null,
   "metadata": {
    "collapsed": false
   },
   "outputs": [],
   "source": []
  },
  {
   "cell_type": "code",
   "execution_count": null,
   "metadata": {
    "collapsed": false
   },
   "outputs": [],
   "source": []
  },
  {
   "cell_type": "code",
   "execution_count": null,
   "metadata": {
    "collapsed": false
   },
   "outputs": [],
   "source": []
  },
  {
   "cell_type": "code",
   "execution_count": null,
   "metadata": {
    "collapsed": false
   },
   "outputs": [],
   "source": []
  },
  {
   "cell_type": "code",
   "execution_count": null,
   "metadata": {
    "collapsed": false
   },
   "outputs": [],
   "source": []
  },
  {
   "cell_type": "code",
   "execution_count": null,
   "metadata": {
    "collapsed": false
   },
   "outputs": [],
   "source": []
  },
  {
   "cell_type": "code",
   "execution_count": null,
   "metadata": {
    "collapsed": false
   },
   "outputs": [],
   "source": []
  },
  {
   "cell_type": "code",
   "execution_count": null,
   "metadata": {
    "collapsed": false
   },
   "outputs": [],
   "source": []
  },
  {
   "cell_type": "code",
   "execution_count": null,
   "metadata": {
    "collapsed": false
   },
   "outputs": [],
   "source": []
  },
  {
   "cell_type": "code",
   "execution_count": null,
   "metadata": {
    "collapsed": false
   },
   "outputs": [],
   "source": []
  },
  {
   "cell_type": "code",
   "execution_count": null,
   "metadata": {
    "collapsed": false
   },
   "outputs": [],
   "source": []
  }
 ],
 "metadata": {
  "kernelspec": {
   "display_name": "Python 3",
   "language": "python",
   "name": "python3"
  },
  "language_info": {
   "codemirror_mode": {
    "name": "ipython",
    "version": 3
   },
   "file_extension": ".py",
   "mimetype": "text/x-python",
   "name": "python",
   "nbconvert_exporter": "python",
   "pygments_lexer": "ipython3",
   "version": "3.6.0"
  }
 },
 "nbformat": 4,
 "nbformat_minor": 2
}
