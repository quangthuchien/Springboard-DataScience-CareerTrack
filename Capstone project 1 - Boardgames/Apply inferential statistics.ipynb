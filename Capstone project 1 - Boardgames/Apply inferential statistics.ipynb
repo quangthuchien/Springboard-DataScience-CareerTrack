{
 "cells": [
  {
   "cell_type": "markdown",
   "metadata": {},
   "source": [
    "# Capestone Project 1 - Boardgames"
   ]
  },
  {
   "cell_type": "code",
   "execution_count": null,
   "metadata": {
    "collapsed": true
   },
   "outputs": [],
   "source": []
  },
  {
   "cell_type": "code",
   "execution_count": null,
   "metadata": {
    "collapsed": false
   },
   "outputs": [],
   "source": []
  },
  {
   "cell_type": "markdown",
   "metadata": {},
   "source": [
    "Project idea is inspired from board games dateset by Mrpantherson: https://www.kaggle.com/mrpantherson/board-game-data)\n",
    "Data is collected from gameboardgeek website using a modified python script. The original scrapperi is hosted at: https://github.com/ThaWeatherman/scrapers/tree/master/boardgamegeek"
   ]
  },
  {
   "cell_type": "code",
   "execution_count": null,
   "metadata": {
    "collapsed": false
   },
   "outputs": [],
   "source": []
  },
  {
   "cell_type": "code",
   "execution_count": 1,
   "metadata": {
    "collapsed": true
   },
   "outputs": [],
   "source": [
    "import pandas as pd\n",
    "import numpy as np   \n",
    "%matplotlib inline\n",
    "import matplotlib.pyplot as plt\n",
    "import pylab as pl\n",
    "from scipy import stats as st"
   ]
  },
  {
   "cell_type": "code",
   "execution_count": null,
   "metadata": {
    "collapsed": false
   },
   "outputs": [],
   "source": []
  },
  {
   "cell_type": "code",
   "execution_count": 2,
   "metadata": {
    "collapsed": true,
    "slideshow": {
     "slide_type": "-"
    }
   },
   "outputs": [],
   "source": [
    "#read csv file scrapped from Boardgamesgeek. It's a large file so it will take time to load.\n",
    "url= \"https://raw.githubusercontent.com/quangthuchien/Springboard-DataScience-CareerTrack/master/Capstone%20project%201%20-%20Boardgames/Data/games.csv\"\n",
    "df = pd.read_csv(url, encoding='utf-8')\n",
    "\n",
    "#df = pd.read_csv(url, encoding='utf-8', dtype={'id': np.int32, 'type': str, 'name': str, 'yearpublished': str, 'minplayers': str, 'maxplayers': str, 'playingtime': str, 'minplaytime': str, 'maxplaytime': str, 'minage': str, 'users_rated': str, 'average_rating': str, 'bayes_average_rating': str,'total_owners': str, 'total_traders': str, 'total_wanters': str, 'total_wishers': str, 'total_comments': str, 'total_weights': str,'average_weight': str,'desc': str})"
   ]
  },
  {
   "cell_type": "code",
   "execution_count": null,
   "metadata": {
    "collapsed": true
   },
   "outputs": [],
   "source": []
  },
  {
   "cell_type": "markdown",
   "metadata": {
    "collapsed": true
   },
   "source": [
    "## Data Wrangling"
   ]
  },
  {
   "cell_type": "code",
   "execution_count": 3,
   "metadata": {
    "collapsed": true
   },
   "outputs": [],
   "source": [
    "#Remove the b tags from data\n",
    "for col in df:\n",
    "    if col == 'type':\n",
    "        pass\n",
    "    else:\n",
    "        df[col] = df[col].astype(str)\n",
    "        df[col] = df[col].str.strip(r\"[b']\")\n",
    "        df[col] = df[col].str.replace('\"','')\n",
    "#df.head()"
   ]
  },
  {
   "cell_type": "code",
   "execution_count": 4,
   "metadata": {
    "collapsed": false
   },
   "outputs": [],
   "source": [
    "#Convert dataframe into appropriate types\n",
    "for column in df:\n",
    "    if (column != 'id') and (column != \"type\") and (column != \"name\") and (column != \"desc\"):\n",
    "        df[column]=pd.to_numeric(df[column])\n",
    "#df.dtypes"
   ]
  },
  {
   "cell_type": "code",
   "execution_count": 5,
   "metadata": {
    "collapsed": false
   },
   "outputs": [],
   "source": [
    "#Remove null values\n",
    "pd.isnull(df).any()\n",
    "df = df.dropna()"
   ]
  },
  {
   "cell_type": "code",
   "execution_count": 6,
   "metadata": {
    "collapsed": false
   },
   "outputs": [],
   "source": [
    "#Convert some floats into integers\n",
    "df.yearpublished = df.yearpublished.astype(int)\n",
    "df.minplayers = df.minplayers.astype(int)\n",
    "df.maxplayers = df.maxplayers.astype(int)\n",
    "df.minage = df.minage.astype(int)"
   ]
  },
  {
   "cell_type": "code",
   "execution_count": 7,
   "metadata": {
    "collapsed": false
   },
   "outputs": [
    {
     "data": {
      "text/html": [
       "<div>\n",
       "<table border=\"1\" class=\"dataframe\">\n",
       "  <thead>\n",
       "    <tr style=\"text-align: right;\">\n",
       "      <th></th>\n",
       "      <th>id</th>\n",
       "      <th>type</th>\n",
       "      <th>name</th>\n",
       "      <th>yearpublished</th>\n",
       "      <th>minplayers</th>\n",
       "      <th>maxplayers</th>\n",
       "      <th>playingtime</th>\n",
       "      <th>minplaytime</th>\n",
       "      <th>maxplaytime</th>\n",
       "      <th>minage</th>\n",
       "      <th>...</th>\n",
       "      <th>average_rating</th>\n",
       "      <th>bayes_average_rating</th>\n",
       "      <th>total_owners</th>\n",
       "      <th>total_traders</th>\n",
       "      <th>total_wanters</th>\n",
       "      <th>total_wishers</th>\n",
       "      <th>total_comments</th>\n",
       "      <th>total_weights</th>\n",
       "      <th>average_weight</th>\n",
       "      <th>desc</th>\n",
       "    </tr>\n",
       "  </thead>\n",
       "  <tbody>\n",
       "    <tr>\n",
       "      <th>0</th>\n",
       "      <td>25206</td>\n",
       "      <td>boardgame</td>\n",
       "      <td>Dora the Explorer ABC Game</td>\n",
       "      <td>2006</td>\n",
       "      <td>1</td>\n",
       "      <td>4</td>\n",
       "      <td>10.0</td>\n",
       "      <td>10.0</td>\n",
       "      <td>10.0</td>\n",
       "      <td>3</td>\n",
       "      <td>...</td>\n",
       "      <td>3.20000</td>\n",
       "      <td>0.0000</td>\n",
       "      <td>21</td>\n",
       "      <td>0</td>\n",
       "      <td>0</td>\n",
       "      <td>0</td>\n",
       "      <td>5</td>\n",
       "      <td>0</td>\n",
       "      <td>0.0</td>\n",
       "      <td>From the Publisher:&amp;#10;Explore the alphabet w...</td>\n",
       "    </tr>\n",
       "    <tr>\n",
       "      <th>1</th>\n",
       "      <td>130647</td>\n",
       "      <td>boardgame</td>\n",
       "      <td>Cirque du Monstre</td>\n",
       "      <td>2012</td>\n",
       "      <td>3</td>\n",
       "      <td>5</td>\n",
       "      <td>40.0</td>\n",
       "      <td>40.0</td>\n",
       "      <td>40.0</td>\n",
       "      <td>12</td>\n",
       "      <td>...</td>\n",
       "      <td>5.80000</td>\n",
       "      <td>0.0000</td>\n",
       "      <td>19</td>\n",
       "      <td>1</td>\n",
       "      <td>5</td>\n",
       "      <td>20</td>\n",
       "      <td>3</td>\n",
       "      <td>1</td>\n",
       "      <td>1.0</td>\n",
       "      <td>In a world filled with constantly fighting dra...</td>\n",
       "    </tr>\n",
       "    <tr>\n",
       "      <th>2</th>\n",
       "      <td>61353</td>\n",
       "      <td>boardgameexpansion</td>\n",
       "      <td>Classic Battletech: Mercenaries Supplemental II</td>\n",
       "      <td>2005</td>\n",
       "      <td>2</td>\n",
       "      <td>6</td>\n",
       "      <td>120.0</td>\n",
       "      <td>120.0</td>\n",
       "      <td>120.0</td>\n",
       "      <td>14</td>\n",
       "      <td>...</td>\n",
       "      <td>7.66667</td>\n",
       "      <td>0.0000</td>\n",
       "      <td>35</td>\n",
       "      <td>0</td>\n",
       "      <td>1</td>\n",
       "      <td>8</td>\n",
       "      <td>0</td>\n",
       "      <td>1</td>\n",
       "      <td>4.0</td>\n",
       "      <td>Pirate or Merc?&amp;#10;&amp;#10;Kell Hounds. Northwin...</td>\n",
       "    </tr>\n",
       "    <tr>\n",
       "      <th>3</th>\n",
       "      <td>41687</td>\n",
       "      <td>boardgame</td>\n",
       "      <td>Guacamole</td>\n",
       "      <td>2009</td>\n",
       "      <td>2</td>\n",
       "      <td>4</td>\n",
       "      <td>10.0</td>\n",
       "      <td>10.0</td>\n",
       "      <td>10.0</td>\n",
       "      <td>3</td>\n",
       "      <td>...</td>\n",
       "      <td>5.00000</td>\n",
       "      <td>0.0000</td>\n",
       "      <td>4</td>\n",
       "      <td>0</td>\n",
       "      <td>0</td>\n",
       "      <td>1</td>\n",
       "      <td>4</td>\n",
       "      <td>2</td>\n",
       "      <td>1.0</td>\n",
       "      <td>A print and play game, designed for the '4 car...</td>\n",
       "    </tr>\n",
       "    <tr>\n",
       "      <th>4</th>\n",
       "      <td>3572</td>\n",
       "      <td>boardgame</td>\n",
       "      <td>Invasion: America</td>\n",
       "      <td>1976</td>\n",
       "      <td>2</td>\n",
       "      <td>5</td>\n",
       "      <td>240.0</td>\n",
       "      <td>240.0</td>\n",
       "      <td>240.0</td>\n",
       "      <td>12</td>\n",
       "      <td>...</td>\n",
       "      <td>6.50543</td>\n",
       "      <td>5.6482</td>\n",
       "      <td>452</td>\n",
       "      <td>15</td>\n",
       "      <td>36</td>\n",
       "      <td>60</td>\n",
       "      <td>95</td>\n",
       "      <td>25</td>\n",
       "      <td>3.2</td>\n",
       "      <td>Invasion: America is a wargame designed by Jim...</td>\n",
       "    </tr>\n",
       "  </tbody>\n",
       "</table>\n",
       "<p>5 rows × 21 columns</p>\n",
       "</div>"
      ],
      "text/plain": [
       "       id                type  \\\n",
       "0   25206           boardgame   \n",
       "1  130647           boardgame   \n",
       "2   61353  boardgameexpansion   \n",
       "3   41687           boardgame   \n",
       "4    3572           boardgame   \n",
       "\n",
       "                                              name  yearpublished  minplayers  \\\n",
       "0                       Dora the Explorer ABC Game           2006           1   \n",
       "1                                Cirque du Monstre           2012           3   \n",
       "2  Classic Battletech: Mercenaries Supplemental II           2005           2   \n",
       "3                                        Guacamole           2009           2   \n",
       "4                                Invasion: America           1976           2   \n",
       "\n",
       "   maxplayers  playingtime  minplaytime  maxplaytime  minage  \\\n",
       "0           4         10.0         10.0         10.0       3   \n",
       "1           5         40.0         40.0         40.0      12   \n",
       "2           6        120.0        120.0        120.0      14   \n",
       "3           4         10.0         10.0         10.0       3   \n",
       "4           5        240.0        240.0        240.0      12   \n",
       "\n",
       "                         ...                          average_rating  \\\n",
       "0                        ...                                 3.20000   \n",
       "1                        ...                                 5.80000   \n",
       "2                        ...                                 7.66667   \n",
       "3                        ...                                 5.00000   \n",
       "4                        ...                                 6.50543   \n",
       "\n",
       "   bayes_average_rating  total_owners  total_traders  total_wanters  \\\n",
       "0                0.0000            21              0              0   \n",
       "1                0.0000            19              1              5   \n",
       "2                0.0000            35              0              1   \n",
       "3                0.0000             4              0              0   \n",
       "4                5.6482           452             15             36   \n",
       "\n",
       "   total_wishers  total_comments  total_weights  average_weight  \\\n",
       "0              0               5              0             0.0   \n",
       "1             20               3              1             1.0   \n",
       "2              8               0              1             4.0   \n",
       "3              1               4              2             1.0   \n",
       "4             60              95             25             3.2   \n",
       "\n",
       "                                                desc  \n",
       "0  From the Publisher:&#10;Explore the alphabet w...  \n",
       "1  In a world filled with constantly fighting dra...  \n",
       "2  Pirate or Merc?&#10;&#10;Kell Hounds. Northwin...  \n",
       "3  A print and play game, designed for the '4 car...  \n",
       "4  Invasion: America is a wargame designed by Jim...  \n",
       "\n",
       "[5 rows x 21 columns]"
      ]
     },
     "execution_count": 7,
     "metadata": {},
     "output_type": "execute_result"
    }
   ],
   "source": [
    "df.head()"
   ]
  },
  {
   "cell_type": "code",
   "execution_count": null,
   "metadata": {
    "collapsed": true
   },
   "outputs": [],
   "source": []
  },
  {
   "cell_type": "markdown",
   "metadata": {},
   "source": [
    "## Preliminary Analysis"
   ]
  },
  {
   "cell_type": "code",
   "execution_count": 8,
   "metadata": {
    "collapsed": true
   },
   "outputs": [],
   "source": [
    "#only select entries that is board games, don't select board games expansion\n",
    "bg = df[df.type == 'boardgame']"
   ]
  },
  {
   "cell_type": "code",
   "execution_count": 9,
   "metadata": {
    "collapsed": true
   },
   "outputs": [],
   "source": [
    "#excludes game what no one wants\n",
    "bg = bg[(bg.total_traders != 0) & (bg.total_wanters != 0) & (bg.total_wishers != 0)]"
   ]
  },
  {
   "cell_type": "code",
   "execution_count": 10,
   "metadata": {
    "collapsed": true
   },
   "outputs": [],
   "source": [
    "#exclude games that has no data for playing time\n",
    "bg = bg[(bg.playingtime != 0) & (bg.minplaytime != 0) & (bg.maxplaytime != 0)]"
   ]
  },
  {
   "cell_type": "code",
   "execution_count": 11,
   "metadata": {
    "collapsed": false
   },
   "outputs": [
    {
     "data": {
      "text/plain": [
       "<matplotlib.text.Text at 0x1143ce828>"
      ]
     },
     "execution_count": 11,
     "metadata": {},
     "output_type": "execute_result"
    },
    {
     "data": {
      "image/png": "[encoded data removed]",
      "text/plain": [
       "<matplotlib.figure.Figure at 0x111d7f978>"
      ]
     },
     "metadata": {},
     "output_type": "display_data"
    }
   ],
   "source": [
    "#plot number of games were published in each year recently \n",
    "g = bg[bg.yearpublished>1900]\n",
    "g.groupby(g.yearpublished // 10 * 10).size().plot(kind='bar')\n",
    "plt.ylabel('Number of games published')"
   ]
  },
  {
   "cell_type": "code",
   "execution_count": 12,
   "metadata": {
    "collapsed": false
   },
   "outputs": [
    {
     "data": {
      "text/plain": [
       "<matplotlib.text.Text at 0x1147e7748>"
      ]
     },
     "execution_count": 12,
     "metadata": {},
     "output_type": "execute_result"
    },
    {
     "data": {
      "image/png": "[encoded data removed]",
      "text/plain": [
       "<matplotlib.figure.Figure at 0x10edce0f0>"
      ]
     },
     "metadata": {},
     "output_type": "display_data"
    }
   ],
   "source": [
    "#plot number of game in each average rating point in the recent years\n",
    "g = bg[bg.yearpublished>1900]\n",
    "plt.hist(g.average_rating, bins=[0, 1, 2, 3, 4, 5, 6, 7, 8, 9, 10]) \n",
    "plt.xlabel('Average rating points')\n",
    "plt.ylabel('Number of games')"
   ]
  },
  {
   "cell_type": "code",
   "execution_count": 13,
   "metadata": {
    "collapsed": false
   },
   "outputs": [
    {
     "data": {
      "text/plain": [
       "<matplotlib.text.Text at 0x112a0dfd0>"
      ]
     },
     "execution_count": 13,
     "metadata": {},
     "output_type": "execute_result"
    },
    {
     "data": {
      "image/png": "[encoded data removed]",
      "text/plain": [
       "<matplotlib.figure.Figure at 0x10ec7f400>"
      ]
     },
     "metadata": {},
     "output_type": "display_data"
    }
   ],
   "source": [
    "#Plot average rating of all games in a particular year\n",
    "g = bg[bg.yearpublished>1900]\n",
    "g = g[['yearpublished', 'average_rating']]\n",
    "g = g.groupby(g.yearpublished).mean()\n",
    "g.plot(kind='bar')\n",
    "plt.ylabel('Average rating')"
   ]
  },
  {
   "cell_type": "code",
   "execution_count": 14,
   "metadata": {
    "collapsed": false
   },
   "outputs": [
    {
     "data": {
      "text/plain": [
       "<matplotlib.text.Text at 0x1144c5748>"
      ]
     },
     "execution_count": 14,
     "metadata": {},
     "output_type": "execute_result"
    },
    {
     "data": {
      "image/png": "[encoded data removed]",
      "text/plain": [
       "<matplotlib.figure.Figure at 0x135de4ac8>"
      ]
     },
     "metadata": {},
     "output_type": "display_data"
    }
   ],
   "source": [
    "#How much play time for most games?\n",
    "g = bg[bg.yearpublished>1900]\n",
    "g = g[['playingtime', 'average_rating']]\n",
    "g = g.groupby(g.playingtime).size()\n",
    "g = g.sort_values(ascending=False).head(20)\n",
    "g.plot(kind = 'bar')\n",
    "plt.xlabel('Playing time')\n",
    "plt.ylabel('Number of games')"
   ]
  },
  {
   "cell_type": "code",
   "execution_count": 15,
   "metadata": {
    "collapsed": false
   },
   "outputs": [
    {
     "data": {
      "text/plain": [
       "[<matplotlib.lines.Line2D at 0x135c489e8>]"
      ]
     },
     "execution_count": 15,
     "metadata": {},
     "output_type": "execute_result"
    },
    {
     "data": {
      "image/png": "[encoded data removed]",
      "text/plain": [
       "<matplotlib.figure.Figure at 0x10eaccbe0>"
      ]
     },
     "metadata": {},
     "output_type": "display_data"
    }
   ],
   "source": [
    "#Playing time effects on ratings\n",
    "g = bg[bg.yearpublished>1900]\n",
    "plt.plot(g.playingtime, g.average_rating, \"o\")"
   ]
  },
  {
   "cell_type": "code",
   "execution_count": 16,
   "metadata": {
    "collapsed": false
   },
   "outputs": [
    {
     "data": {
      "text/html": [
       "<div>\n",
       "<table border=\"1\" class=\"dataframe\">\n",
       "  <thead>\n",
       "    <tr style=\"text-align: right;\">\n",
       "      <th></th>\n",
       "      <th>id</th>\n",
       "      <th>type</th>\n",
       "      <th>name</th>\n",
       "      <th>yearpublished</th>\n",
       "      <th>minplayers</th>\n",
       "      <th>maxplayers</th>\n",
       "      <th>playingtime</th>\n",
       "      <th>minplaytime</th>\n",
       "      <th>maxplaytime</th>\n",
       "      <th>minage</th>\n",
       "      <th>...</th>\n",
       "      <th>average_rating</th>\n",
       "      <th>bayes_average_rating</th>\n",
       "      <th>total_owners</th>\n",
       "      <th>total_traders</th>\n",
       "      <th>total_wanters</th>\n",
       "      <th>total_wishers</th>\n",
       "      <th>total_comments</th>\n",
       "      <th>total_weights</th>\n",
       "      <th>average_weight</th>\n",
       "      <th>desc</th>\n",
       "    </tr>\n",
       "  </thead>\n",
       "  <tbody>\n",
       "    <tr>\n",
       "      <th>9910</th>\n",
       "      <td>6942</td>\n",
       "      <td>boardgame</td>\n",
       "      <td>Drang Nach Osten!</td>\n",
       "      <td>1973</td>\n",
       "      <td>2</td>\n",
       "      <td>4</td>\n",
       "      <td>12000.0</td>\n",
       "      <td>12000.0</td>\n",
       "      <td>12000.0</td>\n",
       "      <td>12</td>\n",
       "      <td>...</td>\n",
       "      <td>6.86429</td>\n",
       "      <td>5.55911</td>\n",
       "      <td>150</td>\n",
       "      <td>9</td>\n",
       "      <td>14</td>\n",
       "      <td>27</td>\n",
       "      <td>44</td>\n",
       "      <td>8</td>\n",
       "      <td>4.3750</td>\n",
       "      <td>Introduction:&amp;#10;&amp;#10;Drang Nach Osten! is an...</td>\n",
       "    </tr>\n",
       "    <tr>\n",
       "      <th>18187</th>\n",
       "      <td>46669</td>\n",
       "      <td>boardgame</td>\n",
       "      <td>1914: Offensive  outrance</td>\n",
       "      <td>2013</td>\n",
       "      <td>2</td>\n",
       "      <td>4</td>\n",
       "      <td>17280.0</td>\n",
       "      <td>17280.0</td>\n",
       "      <td>17280.0</td>\n",
       "      <td>0</td>\n",
       "      <td>...</td>\n",
       "      <td>7.99855</td>\n",
       "      <td>5.64546</td>\n",
       "      <td>434</td>\n",
       "      <td>10</td>\n",
       "      <td>22</td>\n",
       "      <td>68</td>\n",
       "      <td>47</td>\n",
       "      <td>10</td>\n",
       "      <td>3.9000</td>\n",
       "      <td>(from GMT website:)&amp;#10;&amp;#10;1914, Offensive &amp;...</td>\n",
       "    </tr>\n",
       "    <tr>\n",
       "      <th>23719</th>\n",
       "      <td>254</td>\n",
       "      <td>boardgame</td>\n",
       "      <td>Empires in Arms</td>\n",
       "      <td>1983</td>\n",
       "      <td>2</td>\n",
       "      <td>7</td>\n",
       "      <td>12000.0</td>\n",
       "      <td>6000.0</td>\n",
       "      <td>12000.0</td>\n",
       "      <td>14</td>\n",
       "      <td>...</td>\n",
       "      <td>7.53034</td>\n",
       "      <td>6.49718</td>\n",
       "      <td>1785</td>\n",
       "      <td>62</td>\n",
       "      <td>76</td>\n",
       "      <td>298</td>\n",
       "      <td>463</td>\n",
       "      <td>188</td>\n",
       "      <td>4.4309</td>\n",
       "      <td>(from the back of the box - Avalon Hill editio...</td>\n",
       "    </tr>\n",
       "    <tr>\n",
       "      <th>50415</th>\n",
       "      <td>158793</td>\n",
       "      <td>boardgame</td>\n",
       "      <td>Atlantic Wall: D-Day to Falaise</td>\n",
       "      <td>2014</td>\n",
       "      <td>2</td>\n",
       "      <td>6</td>\n",
       "      <td>14400.0</td>\n",
       "      <td>120.0</td>\n",
       "      <td>14400.0</td>\n",
       "      <td>16</td>\n",
       "      <td>...</td>\n",
       "      <td>7.79583</td>\n",
       "      <td>5.57670</td>\n",
       "      <td>184</td>\n",
       "      <td>2</td>\n",
       "      <td>23</td>\n",
       "      <td>68</td>\n",
       "      <td>28</td>\n",
       "      <td>8</td>\n",
       "      <td>4.8750</td>\n",
       "      <td>(from Decision Games' website)&amp;#10;&amp;#10;ON 6 J...</td>\n",
       "    </tr>\n",
       "    <tr>\n",
       "      <th>86643</th>\n",
       "      <td>4815</td>\n",
       "      <td>boardgame</td>\n",
       "      <td>The Campaign for North Africa</td>\n",
       "      <td>1979</td>\n",
       "      <td>8</td>\n",
       "      <td>10</td>\n",
       "      <td>60000.0</td>\n",
       "      <td>60000.0</td>\n",
       "      <td>60000.0</td>\n",
       "      <td>14</td>\n",
       "      <td>...</td>\n",
       "      <td>5.62784</td>\n",
       "      <td>5.48719</td>\n",
       "      <td>284</td>\n",
       "      <td>9</td>\n",
       "      <td>37</td>\n",
       "      <td>149</td>\n",
       "      <td>95</td>\n",
       "      <td>29</td>\n",
       "      <td>5.0000</td>\n",
       "      <td>This is a war game like no other.  Although th...</td>\n",
       "    </tr>\n",
       "    <tr>\n",
       "      <th>90498</th>\n",
       "      <td>152629</td>\n",
       "      <td>boardgame</td>\n",
       "      <td>Marital Bliss</td>\n",
       "      <td>2013</td>\n",
       "      <td>2</td>\n",
       "      <td>2</td>\n",
       "      <td>10080.0</td>\n",
       "      <td>10080.0</td>\n",
       "      <td>10080.0</td>\n",
       "      <td>18</td>\n",
       "      <td>...</td>\n",
       "      <td>7.30000</td>\n",
       "      <td>0.00000</td>\n",
       "      <td>62</td>\n",
       "      <td>1</td>\n",
       "      <td>1</td>\n",
       "      <td>5</td>\n",
       "      <td>5</td>\n",
       "      <td>2</td>\n",
       "      <td>1.0000</td>\n",
       "      <td>At the start of the two-player card game Marit...</td>\n",
       "    </tr>\n",
       "  </tbody>\n",
       "</table>\n",
       "<p>6 rows × 21 columns</p>\n",
       "</div>"
      ],
      "text/plain": [
       "           id       type                             name  yearpublished  \\\n",
       "9910     6942  boardgame                Drang Nach Osten!           1973   \n",
       "18187   46669  boardgame        1914: Offensive  outrance           2013   \n",
       "23719     254  boardgame                  Empires in Arms           1983   \n",
       "50415  158793  boardgame  Atlantic Wall: D-Day to Falaise           2014   \n",
       "86643    4815  boardgame    The Campaign for North Africa           1979   \n",
       "90498  152629  boardgame                    Marital Bliss           2013   \n",
       "\n",
       "       minplayers  maxplayers  playingtime  minplaytime  maxplaytime  minage  \\\n",
       "9910            2           4      12000.0      12000.0      12000.0      12   \n",
       "18187           2           4      17280.0      17280.0      17280.0       0   \n",
       "23719           2           7      12000.0       6000.0      12000.0      14   \n",
       "50415           2           6      14400.0        120.0      14400.0      16   \n",
       "86643           8          10      60000.0      60000.0      60000.0      14   \n",
       "90498           2           2      10080.0      10080.0      10080.0      18   \n",
       "\n",
       "                             ...                          average_rating  \\\n",
       "9910                         ...                                 6.86429   \n",
       "18187                        ...                                 7.99855   \n",
       "23719                        ...                                 7.53034   \n",
       "50415                        ...                                 7.79583   \n",
       "86643                        ...                                 5.62784   \n",
       "90498                        ...                                 7.30000   \n",
       "\n",
       "       bayes_average_rating  total_owners  total_traders  total_wanters  \\\n",
       "9910                5.55911           150              9             14   \n",
       "18187               5.64546           434             10             22   \n",
       "23719               6.49718          1785             62             76   \n",
       "50415               5.57670           184              2             23   \n",
       "86643               5.48719           284              9             37   \n",
       "90498               0.00000            62              1              1   \n",
       "\n",
       "       total_wishers  total_comments  total_weights  average_weight  \\\n",
       "9910              27              44              8          4.3750   \n",
       "18187             68              47             10          3.9000   \n",
       "23719            298             463            188          4.4309   \n",
       "50415             68              28              8          4.8750   \n",
       "86643            149              95             29          5.0000   \n",
       "90498              5               5              2          1.0000   \n",
       "\n",
       "                                                    desc  \n",
       "9910   Introduction:&#10;&#10;Drang Nach Osten! is an...  \n",
       "18187  (from GMT website:)&#10;&#10;1914, Offensive &...  \n",
       "23719  (from the back of the box - Avalon Hill editio...  \n",
       "50415  (from Decision Games' website)&#10;&#10;ON 6 J...  \n",
       "86643  This is a war game like no other.  Although th...  \n",
       "90498  At the start of the two-player card game Marit...  \n",
       "\n",
       "[6 rows x 21 columns]"
      ]
     },
     "execution_count": 16,
     "metadata": {},
     "output_type": "execute_result"
    }
   ],
   "source": [
    "#There seems to be outliers. Most games dont need 60000 minutes (1000 hours or 1.5 months to play)!!\n",
    "g[g.playingtime>10000]"
   ]
  },
  {
   "cell_type": "code",
   "execution_count": 17,
   "metadata": {
    "collapsed": false
   },
   "outputs": [
    {
     "data": {
      "text/plain": [
       "[<matplotlib.lines.Line2D at 0x10fe89a58>]"
      ]
     },
     "execution_count": 17,
     "metadata": {},
     "output_type": "execute_result"
    },
    {
     "data": {
      "image/png": "[encoded data removed]",
      "text/plain": [
       "<matplotlib.figure.Figure at 0x1101aa978>"
      ]
     },
     "metadata": {},
     "output_type": "display_data"
    }
   ],
   "source": [
    "#After checking out the website\n",
    "#It seems that these numbers are not mistakes but some games really take that long to play.\n",
    "#Eventhough those game has quite high rating, I remove them from the plot so we can actually see other data points\n",
    "g = bg[(bg.yearpublished>1900)]\n",
    "g = g[g.playingtime <10000]\n",
    "plt.plot(g.playingtime, g.average_rating, \"o\")"
   ]
  },
  {
   "cell_type": "code",
   "execution_count": 18,
   "metadata": {
    "collapsed": false
   },
   "outputs": [
    {
     "data": {
      "text/plain": [
       "[<matplotlib.lines.Line2D at 0x1105a6320>]"
      ]
     },
     "execution_count": 18,
     "metadata": {},
     "output_type": "execute_result"
    },
    {
     "data": {
      "image/png": "[encoded data removed]",
      "text/plain": [
       "<matplotlib.figure.Figure at 0x110543c18>"
      ]
     },
     "metadata": {},
     "output_type": "display_data"
    }
   ],
   "source": [
    "#It seems like after 1000minutes of playing time, most games have similar rating between 6-9\n",
    "#Let looks at games that takes less than 1000 minutes (16 hrs) to play\n",
    "g = bg[(bg.yearpublished>1900)]\n",
    "g = g[g.playingtime <1000]\n",
    "plt.plot(g.playingtime, g.average_rating, \"o\")"
   ]
  },
  {
   "cell_type": "code",
   "execution_count": 19,
   "metadata": {
    "collapsed": false
   },
   "outputs": [
    {
     "data": {
      "text/plain": [
       "[<matplotlib.lines.Line2D at 0x110fdf0f0>]"
      ]
     },
     "execution_count": 19,
     "metadata": {},
     "output_type": "execute_result"
    },
    {
     "data": {
      "image/png": "[encoded data removed]",
      "text/plain": [
       "<matplotlib.figure.Figure at 0x110543a58>"
      ]
     },
     "metadata": {},
     "output_type": "display_data"
    }
   ],
   "source": [
    "#I plan to have my game last around 30 minutes to an hour\n",
    "#I wonder what are the ratings for those games\n",
    "#and would it be beneficial to stretch it out or shorten it more\n",
    "g = bg[(bg.yearpublished>1900)]\n",
    "g = g[g.playingtime <120]\n",
    "g = g[g.playingtime > 15]\n",
    "plt.plot(g.playingtime, g.average_rating, \"o\")"
   ]
  },
  {
   "cell_type": "code",
   "execution_count": 20,
   "metadata": {
    "collapsed": false
   },
   "outputs": [],
   "source": [
    "#There is no clear correlation between playing time and rating\n",
    "#I wonder what other factors that will affect rating instead.\n",
    "#I will need more data on game type and game mechanics\n",
    "#Meanwhile..."
   ]
  },
  {
   "cell_type": "code",
   "execution_count": null,
   "metadata": {
    "collapsed": true
   },
   "outputs": [],
   "source": []
  },
  {
   "cell_type": "markdown",
   "metadata": {},
   "source": [
    "## Inferential Statistics"
   ]
  },
  {
   "cell_type": "code",
   "execution_count": null,
   "metadata": {
    "collapsed": true
   },
   "outputs": [],
   "source": []
  },
  {
   "cell_type": "code",
   "execution_count": 21,
   "metadata": {
    "collapsed": false
   },
   "outputs": [
    {
     "ename": "NameError",
     "evalue": "name 'stats' is not defined",
     "output_type": "error",
     "traceback": [
      "\u001b[0;31m---------------------------------------------------------------------------\u001b[0m",
      "\u001b[0;31mNameError\u001b[0m                                 Traceback (most recent call last)",
      "\u001b[0;32m<ipython-input-21-0c624effadac>\u001b[0m in \u001b[0;36m<module>\u001b[0;34m()\u001b[0m\n\u001b[1;32m      2\u001b[0m \u001b[0;31m#average ratings\u001b[0m\u001b[0;34m\u001b[0m\u001b[0;34m\u001b[0m\u001b[0m\n\u001b[1;32m      3\u001b[0m \u001b[0maverage_rating\u001b[0m \u001b[0;34m=\u001b[0m \u001b[0mbg\u001b[0m\u001b[0;34m.\u001b[0m\u001b[0maverage_rating\u001b[0m\u001b[0;34m.\u001b[0m\u001b[0msort_values\u001b[0m\u001b[0;34m(\u001b[0m\u001b[0;34m)\u001b[0m\u001b[0;34m\u001b[0m\u001b[0m\n\u001b[0;32m----> 4\u001b[0;31m \u001b[0mfit\u001b[0m \u001b[0;34m=\u001b[0m \u001b[0mstats\u001b[0m\u001b[0;34m.\u001b[0m\u001b[0mnorm\u001b[0m\u001b[0;34m.\u001b[0m\u001b[0mpdf\u001b[0m\u001b[0;34m(\u001b[0m\u001b[0maverage_rating\u001b[0m\u001b[0;34m,\u001b[0m \u001b[0mnp\u001b[0m\u001b[0;34m.\u001b[0m\u001b[0mmean\u001b[0m\u001b[0;34m(\u001b[0m\u001b[0maverage_rating\u001b[0m\u001b[0;34m)\u001b[0m\u001b[0;34m,\u001b[0m \u001b[0mnp\u001b[0m\u001b[0;34m.\u001b[0m\u001b[0mstd\u001b[0m\u001b[0;34m(\u001b[0m\u001b[0maverage_rating\u001b[0m\u001b[0;34m)\u001b[0m\u001b[0;34m)\u001b[0m  \u001b[0;31m#fitting curve\u001b[0m\u001b[0;34m\u001b[0m\u001b[0m\n\u001b[0m\u001b[1;32m      5\u001b[0m \u001b[0mpl\u001b[0m\u001b[0;34m.\u001b[0m\u001b[0mplot\u001b[0m\u001b[0;34m(\u001b[0m\u001b[0maverage_rating\u001b[0m\u001b[0;34m,\u001b[0m\u001b[0mfit\u001b[0m\u001b[0;34m,\u001b[0m\u001b[0;34m'-o'\u001b[0m\u001b[0;34m)\u001b[0m\u001b[0;34m\u001b[0m\u001b[0m\n\u001b[1;32m      6\u001b[0m \u001b[0mpl\u001b[0m\u001b[0;34m.\u001b[0m\u001b[0mhist\u001b[0m\u001b[0;34m(\u001b[0m\u001b[0maverage_rating\u001b[0m\u001b[0;34m,\u001b[0m\u001b[0mnormed\u001b[0m\u001b[0;34m=\u001b[0m\u001b[0;32mTrue\u001b[0m\u001b[0;34m)\u001b[0m      \u001b[0;31m#draw histogram of data\u001b[0m\u001b[0;34m\u001b[0m\u001b[0m\n",
      "\u001b[0;31mNameError\u001b[0m: name 'stats' is not defined"
     ]
    }
   ],
   "source": [
    "#See the distribution of current dataset\n",
    "#average ratings\n",
    "average_rating = bg.average_rating.sort_values()\n",
    "pl.plot(average_rating,fit,'-o')\n",
    "pl.hist(average_rating,normed=True)      #draw histogram of data\n",
    "pl.show()\n"
   ]
  },
  {
   "cell_type": "code",
   "execution_count": null,
   "metadata": {
    "collapsed": false
   },
   "outputs": [],
   "source": [
    "#See the distribution of current dataset\n",
    "#Max players\n",
    "maxplayers = bg[(bg.maxplayers<20) & (bg.maxplayers >0)]\n",
    "maxplayers = maxplayers.maxplayers.sort_values()\n",
    "fit = stats.norm.pdf(maxplayers, np.mean(maxplayers), np.std(maxplayers)) \n",
    "pl.plot(maxplayers,fit,'-o')\n",
    "pl.hist(maxplayers,normed=True)    \n",
    "pl.show()\n"
   ]
  },
  {
   "cell_type": "code",
   "execution_count": null,
   "metadata": {
    "collapsed": false
   },
   "outputs": [],
   "source": [
    "#create a list of games that requires max 2 players to play\n",
    "two_players = bg[bg.maxplayers <= 2]\n",
    "two_players = two_players.average_rating.sort_values()\n",
    "fit = stats.norm.pdf(two_players, np.mean(two_players), np.std(two_players)) \n",
    "pl.plot(two_players,fit,'-o')\n",
    "pl.hist(two_players,normed=True)    \n",
    "pl.show() \n",
    "two_players.describe()"
   ]
  },
  {
   "cell_type": "code",
   "execution_count": null,
   "metadata": {
    "collapsed": false
   },
   "outputs": [],
   "source": [
    "#create a list of games that requires max 3-5 players to play\n",
    "five_players = bg[bg.maxplayers <= 5]\n",
    "five_players = five_players[five_players.maxplayers > 2]\n",
    "five_players = five_players.average_rating.sort_values()\n",
    "fit = stats.norm.pdf(five_players, np.mean(five_players), np.std(five_players)) \n",
    "pl.plot(five_players,fit,'-o')\n",
    "pl.hist(five_players,normed=True)    \n",
    "pl.show() \n",
    "five_players.describe()"
   ]
  },
  {
   "cell_type": "code",
   "execution_count": null,
   "metadata": {
    "collapsed": false
   },
   "outputs": [],
   "source": [
    "#create a list of games that requires max 5-10 players to play\n",
    "ten_players = bg[bg.maxplayers <= 10]\n",
    "ten_players = ten_players[ten_players.maxplayers > 5]\n",
    "ten_players = ten_players.average_rating.sort_values()\n",
    "fit = stats.norm.pdf(ten_players, np.mean(ten_players), np.std(ten_players)) \n",
    "pl.plot(ten_players,fit,'-o')\n",
    "pl.hist(ten_players,normed=True)    \n",
    "pl.show() \n",
    "ten_players.describe()"
   ]
  },
  {
   "cell_type": "markdown",
   "metadata": {},
   "source": [
    "It seems like the more players a game required, the lower its average rating. To test to see if the different is significant, we need to perform z-test"
   ]
  },
  {
   "cell_type": "code",
   "execution_count": null,
   "metadata": {
    "collapsed": false
   },
   "outputs": [],
   "source": [
    "s_two=1.147679\n",
    "s_five=1.107455\n",
    "n= 4778\n",
    "x_two=6.447140\n",
    "x_five=6.25\n",
    "\n",
    "SE_twofive= round((((s_two**2)+(s_five**2))/n)**0.5,2)\n",
    "#SE\n",
    "x_diff=round(x_two-x_five,2)\n",
    "#x_diff\n",
    "\n",
    "Z= round(((x_diff - 0)/SE_twofive),2)\n",
    "#Z\n",
    "\n",
    "#two tailes\n",
    "p_values = st.norm.sf(abs(Z))*2\n",
    "print (\"p values = \",p_values)\n",
    "print( \"P values is \", round(p_values *100,2),\"%\", \"so there is NOT a significant different between two population\")\n"
   ]
  },
  {
   "cell_type": "code",
   "execution_count": null,
   "metadata": {
    "collapsed": true
   },
   "outputs": [],
   "source": []
  },
  {
   "cell_type": "code",
   "execution_count": null,
   "metadata": {
    "collapsed": true
   },
   "outputs": [],
   "source": []
  },
  {
   "cell_type": "code",
   "execution_count": null,
   "metadata": {
    "collapsed": true
   },
   "outputs": [],
   "source": []
  },
  {
   "cell_type": "code",
   "execution_count": null,
   "metadata": {
    "collapsed": true
   },
   "outputs": [],
   "source": []
  },
  {
   "cell_type": "code",
   "execution_count": null,
   "metadata": {
    "collapsed": false
   },
   "outputs": [],
   "source": []
  },
  {
   "cell_type": "code",
   "execution_count": null,
   "metadata": {
    "collapsed": false
   },
   "outputs": [],
   "source": []
  },
  {
   "cell_type": "code",
   "execution_count": null,
   "metadata": {
    "collapsed": false
   },
   "outputs": [],
   "source": []
  },
  {
   "cell_type": "code",
   "execution_count": null,
   "metadata": {
    "collapsed": false
   },
   "outputs": [],
   "source": []
  },
  {
   "cell_type": "code",
   "execution_count": null,
   "metadata": {
    "collapsed": false
   },
   "outputs": [],
   "source": []
  },
  {
   "cell_type": "code",
   "execution_count": null,
   "metadata": {
    "collapsed": false
   },
   "outputs": [],
   "source": []
  },
  {
   "cell_type": "code",
   "execution_count": null,
   "metadata": {
    "collapsed": false
   },
   "outputs": [],
   "source": []
  },
  {
   "cell_type": "code",
   "execution_count": null,
   "metadata": {
    "collapsed": false
   },
   "outputs": [],
   "source": []
  },
  {
   "cell_type": "code",
   "execution_count": null,
   "metadata": {
    "collapsed": false
   },
   "outputs": [],
   "source": []
  },
  {
   "cell_type": "code",
   "execution_count": null,
   "metadata": {
    "collapsed": false
   },
   "outputs": [],
   "source": []
  },
  {
   "cell_type": "code",
   "execution_count": null,
   "metadata": {
    "collapsed": false
   },
   "outputs": [],
   "source": []
  },
  {
   "cell_type": "code",
   "execution_count": null,
   "metadata": {
    "collapsed": false
   },
   "outputs": [],
   "source": []
  },
  {
   "cell_type": "code",
   "execution_count": null,
   "metadata": {
    "collapsed": false
   },
   "outputs": [],
   "source": []
  },
  {
   "cell_type": "code",
   "execution_count": null,
   "metadata": {
    "collapsed": false
   },
   "outputs": [],
   "source": []
  },
  {
   "cell_type": "code",
   "execution_count": null,
   "metadata": {
    "collapsed": false
   },
   "outputs": [],
   "source": []
  },
  {
   "cell_type": "code",
   "execution_count": null,
   "metadata": {
    "collapsed": false
   },
   "outputs": [],
   "source": []
  },
  {
   "cell_type": "code",
   "execution_count": null,
   "metadata": {
    "collapsed": false
   },
   "outputs": [],
   "source": []
  },
  {
   "cell_type": "code",
   "execution_count": null,
   "metadata": {
    "collapsed": false
   },
   "outputs": [],
   "source": []
  },
  {
   "cell_type": "code",
   "execution_count": null,
   "metadata": {
    "collapsed": false
   },
   "outputs": [],
   "source": []
  },
  {
   "cell_type": "code",
   "execution_count": null,
   "metadata": {
    "collapsed": false
   },
   "outputs": [],
   "source": []
  },
  {
   "cell_type": "code",
   "execution_count": null,
   "metadata": {
    "collapsed": false
   },
   "outputs": [],
   "source": []
  },
  {
   "cell_type": "code",
   "execution_count": null,
   "metadata": {
    "collapsed": false
   },
   "outputs": [],
   "source": []
  },
  {
   "cell_type": "code",
   "execution_count": null,
   "metadata": {
    "collapsed": false
   },
   "outputs": [],
   "source": []
  },
  {
   "cell_type": "code",
   "execution_count": null,
   "metadata": {
    "collapsed": false
   },
   "outputs": [],
   "source": []
  },
  {
   "cell_type": "code",
   "execution_count": null,
   "metadata": {
    "collapsed": false
   },
   "outputs": [],
   "source": []
  },
  {
   "cell_type": "code",
   "execution_count": null,
   "metadata": {
    "collapsed": false
   },
   "outputs": [],
   "source": []
  },
  {
   "cell_type": "code",
   "execution_count": null,
   "metadata": {
    "collapsed": false
   },
   "outputs": [],
   "source": []
  },
  {
   "cell_type": "code",
   "execution_count": null,
   "metadata": {
    "collapsed": false
   },
   "outputs": [],
   "source": []
  },
  {
   "cell_type": "code",
   "execution_count": null,
   "metadata": {
    "collapsed": false
   },
   "outputs": [],
   "source": []
  },
  {
   "cell_type": "code",
   "execution_count": null,
   "metadata": {
    "collapsed": false
   },
   "outputs": [],
   "source": []
  },
  {
   "cell_type": "code",
   "execution_count": null,
   "metadata": {
    "collapsed": false
   },
   "outputs": [],
   "source": []
  },
  {
   "cell_type": "code",
   "execution_count": null,
   "metadata": {
    "collapsed": false
   },
   "outputs": [],
   "source": []
  },
  {
   "cell_type": "code",
   "execution_count": null,
   "metadata": {
    "collapsed": false
   },
   "outputs": [],
   "source": []
  },
  {
   "cell_type": "code",
   "execution_count": null,
   "metadata": {
    "collapsed": false
   },
   "outputs": [],
   "source": []
  },
  {
   "cell_type": "code",
   "execution_count": null,
   "metadata": {
    "collapsed": false
   },
   "outputs": [],
   "source": []
  },
  {
   "cell_type": "code",
   "execution_count": null,
   "metadata": {
    "collapsed": false
   },
   "outputs": [],
   "source": []
  }
 ],
 "metadata": {
  "kernelspec": {
   "display_name": "Python 3",
   "language": "python",
   "name": "python3"
  },
  "language_info": {
   "codemirror_mode": {
    "name": "ipython",
    "version": 3
   },
   "file_extension": ".py",
   "mimetype": "text/x-python",
   "name": "python",
   "nbconvert_exporter": "python",
   "pygments_lexer": "ipython3",
   "version": "3.6.0"
  }
 },
 "nbformat": 4,
 "nbformat_minor": 2
}
