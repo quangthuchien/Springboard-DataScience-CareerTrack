{
 "cells": [
  {
   "cell_type": "code",
   "execution_count": null,
   "metadata": {
    "collapsed": true
   },
   "outputs": [],
   "source": [
    "pandas.pydata.org/pandas-docs/dev/api.html"
   ]
  },
  {
   "cell_type": "code",
   "execution_count": null,
   "metadata": {
    "collapsed": true
   },
   "outputs": [],
   "source": []
  },
  {
   "cell_type": "code",
   "execution_count": null,
   "metadata": {
    "collapsed": true
   },
   "outputs": [],
   "source": []
  },
  {
   "cell_type": "code",
   "execution_count": 1,
   "metadata": {
    "collapsed": false
   },
   "outputs": [],
   "source": [
    "%matplotlib inline\n",
    "import pandas as pd"
   ]
  },
  {
   "cell_type": "code",
   "execution_count": 2,
   "metadata": {
    "collapsed": false
   },
   "outputs": [
    {
     "data": {
      "text/html": [
       "<style>body {\n",
       "    margin: 0;\n",
       "    font-family: Helvetica;\n",
       "}\n",
       "table.dataframe {\n",
       "    border-collapse: collapse;\n",
       "    border: none;\n",
       "}\n",
       "table.dataframe tr {\n",
       "    border: none;\n",
       "}\n",
       "table.dataframe td, table.dataframe th {\n",
       "    margin: 0;\n",
       "    border: 1px solid white;\n",
       "    padding-left: 0.25em;\n",
       "    padding-right: 0.25em;\n",
       "}\n",
       "table.dataframe th:not(:empty) {\n",
       "    background-color: #fec;\n",
       "    text-align: left;\n",
       "    font-weight: normal;\n",
       "}\n",
       "table.dataframe tr:nth-child(2) th:empty {\n",
       "    border-left: none;\n",
       "    border-right: 1px dashed #888;\n",
       "}\n",
       "table.dataframe td {\n",
       "    border: 2px solid #ccf;\n",
       "    background-color: #f4f4ff;\n",
       "}\n",
       "h3 {\n",
       "    color: white;\n",
       "    background-color: black;\n",
       "    padding: 0.5em;\n",
       "}\n",
       "</style>"
      ],
      "text/plain": [
       "<IPython.core.display.HTML object>"
      ]
     },
     "execution_count": 2,
     "metadata": {},
     "output_type": "execute_result"
    }
   ],
   "source": [
    "from IPython.core.display import HTML\n",
    "css = open('style-table.css').read() + open('style-notebook.css').read()\n",
    "HTML('<style>{}</style>'.format(css))"
   ]
  },
  {
   "cell_type": "code",
   "execution_count": 3,
   "metadata": {
    "collapsed": false
   },
   "outputs": [
    {
     "data": {
      "text/html": [
       "<div>\n",
       "<table border=\"1\" class=\"dataframe\">\n",
       "  <thead>\n",
       "    <tr style=\"text-align: right;\">\n",
       "      <th></th>\n",
       "      <th>title</th>\n",
       "      <th>year</th>\n",
       "    </tr>\n",
       "  </thead>\n",
       "  <tbody>\n",
       "    <tr>\n",
       "      <th>0</th>\n",
       "      <td>Hand in Hand</td>\n",
       "      <td>1985</td>\n",
       "    </tr>\n",
       "    <tr>\n",
       "      <th>1</th>\n",
       "      <td>The Caravaggio Conspiracy</td>\n",
       "      <td>1984</td>\n",
       "    </tr>\n",
       "    <tr>\n",
       "      <th>2</th>\n",
       "      <td>Postcard Days</td>\n",
       "      <td>2010</td>\n",
       "    </tr>\n",
       "    <tr>\n",
       "      <th>3</th>\n",
       "      <td>Haebyeoneuro gada</td>\n",
       "      <td>2000</td>\n",
       "    </tr>\n",
       "    <tr>\n",
       "      <th>4</th>\n",
       "      <td>Royal Blues</td>\n",
       "      <td>1997</td>\n",
       "    </tr>\n",
       "  </tbody>\n",
       "</table>\n",
       "</div>"
      ],
      "text/plain": [
       "                       title  year\n",
       "0               Hand in Hand  1985\n",
       "1  The Caravaggio Conspiracy  1984\n",
       "2              Postcard Days  2010\n",
       "3          Haebyeoneuro gada  2000\n",
       "4                Royal Blues  1997"
      ]
     },
     "execution_count": 3,
     "metadata": {},
     "output_type": "execute_result"
    }
   ],
   "source": [
    "titles = pd.DataFrame.from_csv('data/titles.csv', index_col=None)\n",
    "titles.head()"
   ]
  },
  {
   "cell_type": "code",
   "execution_count": 4,
   "metadata": {
    "collapsed": false
   },
   "outputs": [
    {
     "data": {
      "text/html": [
       "<div>\n",
       "<table border=\"1\" class=\"dataframe\">\n",
       "  <thead>\n",
       "    <tr style=\"text-align: right;\">\n",
       "      <th></th>\n",
       "      <th>title</th>\n",
       "      <th>year</th>\n",
       "      <th>name</th>\n",
       "      <th>type</th>\n",
       "      <th>character</th>\n",
       "      <th>n</th>\n",
       "    </tr>\n",
       "  </thead>\n",
       "  <tbody>\n",
       "    <tr>\n",
       "      <th>0</th>\n",
       "      <td>Closet Monster</td>\n",
       "      <td>2015</td>\n",
       "      <td>Buffy #1</td>\n",
       "      <td>actor</td>\n",
       "      <td>Buffy 4</td>\n",
       "      <td>31.0</td>\n",
       "    </tr>\n",
       "    <tr>\n",
       "      <th>1</th>\n",
       "      <td>Suuri illusioni</td>\n",
       "      <td>1985</td>\n",
       "      <td>Homo $</td>\n",
       "      <td>actor</td>\n",
       "      <td>Guests</td>\n",
       "      <td>22.0</td>\n",
       "    </tr>\n",
       "    <tr>\n",
       "      <th>2</th>\n",
       "      <td>Battle of the Sexes</td>\n",
       "      <td>2017</td>\n",
       "      <td>$hutter</td>\n",
       "      <td>actor</td>\n",
       "      <td>Bobby Riggs Fan</td>\n",
       "      <td>10.0</td>\n",
       "    </tr>\n",
       "    <tr>\n",
       "      <th>3</th>\n",
       "      <td>Secret in Their Eyes</td>\n",
       "      <td>2015</td>\n",
       "      <td>$hutter</td>\n",
       "      <td>actor</td>\n",
       "      <td>2002 Dodger Fan</td>\n",
       "      <td>NaN</td>\n",
       "    </tr>\n",
       "    <tr>\n",
       "      <th>4</th>\n",
       "      <td>Steve Jobs</td>\n",
       "      <td>2015</td>\n",
       "      <td>$hutter</td>\n",
       "      <td>actor</td>\n",
       "      <td>1988 Opera House Patron</td>\n",
       "      <td>NaN</td>\n",
       "    </tr>\n",
       "  </tbody>\n",
       "</table>\n",
       "</div>"
      ],
      "text/plain": [
       "                  title  year      name   type                character     n\n",
       "0        Closet Monster  2015  Buffy #1  actor                  Buffy 4  31.0\n",
       "1       Suuri illusioni  1985    Homo $  actor                   Guests  22.0\n",
       "2   Battle of the Sexes  2017   $hutter  actor          Bobby Riggs Fan  10.0\n",
       "3  Secret in Their Eyes  2015   $hutter  actor          2002 Dodger Fan   NaN\n",
       "4            Steve Jobs  2015   $hutter  actor  1988 Opera House Patron   NaN"
      ]
     },
     "execution_count": 4,
     "metadata": {},
     "output_type": "execute_result"
    }
   ],
   "source": [
    "cast = pd.DataFrame.from_csv('data/cast.csv', index_col=None)\n",
    "cast.head()"
   ]
  },
  {
   "cell_type": "markdown",
   "metadata": {
    "collapsed": true
   },
   "source": [
    "### How many movies are listed in the titles dataframe?"
   ]
  },
  {
   "cell_type": "code",
   "execution_count": 50,
   "metadata": {
    "collapsed": false
   },
   "outputs": [
    {
     "data": {
      "text/plain": [
       "233075"
      ]
     },
     "execution_count": 50,
     "metadata": {},
     "output_type": "execute_result"
    }
   ],
   "source": [
    "t = titles\n",
    "len(t)"
   ]
  },
  {
   "cell_type": "code",
   "execution_count": null,
   "metadata": {
    "collapsed": true
   },
   "outputs": [],
   "source": []
  },
  {
   "cell_type": "markdown",
   "metadata": {
    "collapsed": true
   },
   "source": [
    "### What are the earliest two films listed in the titles dataframe?"
   ]
  },
  {
   "cell_type": "code",
   "execution_count": 52,
   "metadata": {
    "collapsed": false
   },
   "outputs": [
    {
     "data": {
      "text/html": [
       "<div>\n",
       "<table border=\"1\" class=\"dataframe\">\n",
       "  <thead>\n",
       "    <tr style=\"text-align: right;\">\n",
       "      <th></th>\n",
       "      <th>title</th>\n",
       "      <th>year</th>\n",
       "    </tr>\n",
       "  </thead>\n",
       "  <tbody>\n",
       "    <tr>\n",
       "      <th>122124</th>\n",
       "      <td>Miss Jerry</td>\n",
       "      <td>1894</td>\n",
       "    </tr>\n",
       "    <tr>\n",
       "      <th>152128</th>\n",
       "      <td>The Startled Lover</td>\n",
       "      <td>1898</td>\n",
       "    </tr>\n",
       "  </tbody>\n",
       "</table>\n",
       "</div>"
      ],
      "text/plain": [
       "                     title  year\n",
       "122124          Miss Jerry  1894\n",
       "152128  The Startled Lover  1898"
      ]
     },
     "execution_count": 52,
     "metadata": {},
     "output_type": "execute_result"
    }
   ],
   "source": [
    "t.sort_values('year').head(2)"
   ]
  },
  {
   "cell_type": "code",
   "execution_count": null,
   "metadata": {
    "collapsed": true
   },
   "outputs": [],
   "source": []
  },
  {
   "cell_type": "markdown",
   "metadata": {
    "collapsed": true
   },
   "source": [
    "### How many movies have the title \"Hamlet\"?"
   ]
  },
  {
   "cell_type": "code",
   "execution_count": 54,
   "metadata": {
    "collapsed": false
   },
   "outputs": [
    {
     "data": {
      "text/html": [
       "<div>\n",
       "<table border=\"1\" class=\"dataframe\">\n",
       "  <thead>\n",
       "    <tr style=\"text-align: right;\">\n",
       "      <th></th>\n",
       "      <th>title</th>\n",
       "      <th>year</th>\n",
       "    </tr>\n",
       "  </thead>\n",
       "  <tbody>\n",
       "    <tr>\n",
       "      <th>6473</th>\n",
       "      <td>Hamlet</td>\n",
       "      <td>1976</td>\n",
       "    </tr>\n",
       "    <tr>\n",
       "      <th>25795</th>\n",
       "      <td>Hamlet</td>\n",
       "      <td>1948</td>\n",
       "    </tr>\n",
       "    <tr>\n",
       "      <th>29205</th>\n",
       "      <td>Hamlet</td>\n",
       "      <td>1921</td>\n",
       "    </tr>\n",
       "    <tr>\n",
       "      <th>39196</th>\n",
       "      <td>Hamlet</td>\n",
       "      <td>1969</td>\n",
       "    </tr>\n",
       "    <tr>\n",
       "      <th>66501</th>\n",
       "      <td>Hamlet</td>\n",
       "      <td>2015</td>\n",
       "    </tr>\n",
       "    <tr>\n",
       "      <th>68093</th>\n",
       "      <td>Hamlet</td>\n",
       "      <td>2009</td>\n",
       "    </tr>\n",
       "    <tr>\n",
       "      <th>72097</th>\n",
       "      <td>Hamlet</td>\n",
       "      <td>1954</td>\n",
       "    </tr>\n",
       "    <tr>\n",
       "      <th>99647</th>\n",
       "      <td>Hamlet</td>\n",
       "      <td>2014</td>\n",
       "    </tr>\n",
       "    <tr>\n",
       "      <th>101854</th>\n",
       "      <td>Hamlet</td>\n",
       "      <td>1913</td>\n",
       "    </tr>\n",
       "    <tr>\n",
       "      <th>103836</th>\n",
       "      <td>Hamlet</td>\n",
       "      <td>1973</td>\n",
       "    </tr>\n",
       "    <tr>\n",
       "      <th>114060</th>\n",
       "      <td>Hamlet</td>\n",
       "      <td>1996</td>\n",
       "    </tr>\n",
       "    <tr>\n",
       "      <th>120080</th>\n",
       "      <td>Hamlet</td>\n",
       "      <td>1987</td>\n",
       "    </tr>\n",
       "    <tr>\n",
       "      <th>124376</th>\n",
       "      <td>Hamlet</td>\n",
       "      <td>2000</td>\n",
       "    </tr>\n",
       "    <tr>\n",
       "      <th>135353</th>\n",
       "      <td>Hamlet</td>\n",
       "      <td>1910</td>\n",
       "    </tr>\n",
       "    <tr>\n",
       "      <th>142208</th>\n",
       "      <td>Hamlet</td>\n",
       "      <td>2011</td>\n",
       "    </tr>\n",
       "    <tr>\n",
       "      <th>159350</th>\n",
       "      <td>Hamlet</td>\n",
       "      <td>1964</td>\n",
       "    </tr>\n",
       "    <tr>\n",
       "      <th>163557</th>\n",
       "      <td>Hamlet</td>\n",
       "      <td>2016</td>\n",
       "    </tr>\n",
       "    <tr>\n",
       "      <th>178235</th>\n",
       "      <td>Hamlet</td>\n",
       "      <td>2017</td>\n",
       "    </tr>\n",
       "    <tr>\n",
       "      <th>224373</th>\n",
       "      <td>Hamlet</td>\n",
       "      <td>1990</td>\n",
       "    </tr>\n",
       "    <tr>\n",
       "      <th>229710</th>\n",
       "      <td>Hamlet</td>\n",
       "      <td>1911</td>\n",
       "    </tr>\n",
       "  </tbody>\n",
       "</table>\n",
       "</div>"
      ],
      "text/plain": [
       "         title  year\n",
       "6473    Hamlet  1976\n",
       "25795   Hamlet  1948\n",
       "29205   Hamlet  1921\n",
       "39196   Hamlet  1969\n",
       "66501   Hamlet  2015\n",
       "68093   Hamlet  2009\n",
       "72097   Hamlet  1954\n",
       "99647   Hamlet  2014\n",
       "101854  Hamlet  1913\n",
       "103836  Hamlet  1973\n",
       "114060  Hamlet  1996\n",
       "120080  Hamlet  1987\n",
       "124376  Hamlet  2000\n",
       "135353  Hamlet  1910\n",
       "142208  Hamlet  2011\n",
       "159350  Hamlet  1964\n",
       "163557  Hamlet  2016\n",
       "178235  Hamlet  2017\n",
       "224373  Hamlet  1990\n",
       "229710  Hamlet  1911"
      ]
     },
     "execution_count": 54,
     "metadata": {},
     "output_type": "execute_result"
    }
   ],
   "source": [
    "t[t.title == 'Hamlet']"
   ]
  },
  {
   "cell_type": "code",
   "execution_count": 56,
   "metadata": {
    "collapsed": false
   },
   "outputs": [
    {
     "data": {
      "text/html": [
       "<div>\n",
       "<table border=\"1\" class=\"dataframe\">\n",
       "  <thead>\n",
       "    <tr style=\"text-align: right;\">\n",
       "      <th></th>\n",
       "      <th>title</th>\n",
       "      <th>year</th>\n",
       "    </tr>\n",
       "  </thead>\n",
       "  <tbody>\n",
       "    <tr>\n",
       "      <th>6473</th>\n",
       "      <td>Hamlet</td>\n",
       "      <td>1976</td>\n",
       "    </tr>\n",
       "    <tr>\n",
       "      <th>7032</th>\n",
       "      <td>Hamlet in the Hamptons</td>\n",
       "      <td>2002</td>\n",
       "    </tr>\n",
       "    <tr>\n",
       "      <th>16311</th>\n",
       "      <td>Hamlet: Prince of Denmark</td>\n",
       "      <td>1989</td>\n",
       "    </tr>\n",
       "    <tr>\n",
       "      <th>25795</th>\n",
       "      <td>Hamlet</td>\n",
       "      <td>1948</td>\n",
       "    </tr>\n",
       "    <tr>\n",
       "      <th>26255</th>\n",
       "      <td>Hamlet the Vampire Slayer</td>\n",
       "      <td>2008</td>\n",
       "    </tr>\n",
       "    <tr>\n",
       "      <th>29205</th>\n",
       "      <td>Hamlet</td>\n",
       "      <td>1921</td>\n",
       "    </tr>\n",
       "    <tr>\n",
       "      <th>37917</th>\n",
       "      <td>Hamlet_X</td>\n",
       "      <td>2003</td>\n",
       "    </tr>\n",
       "    <tr>\n",
       "      <th>39196</th>\n",
       "      <td>Hamlet</td>\n",
       "      <td>1969</td>\n",
       "    </tr>\n",
       "    <tr>\n",
       "      <th>47703</th>\n",
       "      <td>Hamlet (II)</td>\n",
       "      <td>2007</td>\n",
       "    </tr>\n",
       "    <tr>\n",
       "      <th>66501</th>\n",
       "      <td>Hamlet</td>\n",
       "      <td>2015</td>\n",
       "    </tr>\n",
       "    <tr>\n",
       "      <th>68093</th>\n",
       "      <td>Hamlet</td>\n",
       "      <td>2009</td>\n",
       "    </tr>\n",
       "    <tr>\n",
       "      <th>68155</th>\n",
       "      <td>Hamlet (II)</td>\n",
       "      <td>2017</td>\n",
       "    </tr>\n",
       "    <tr>\n",
       "      <th>72097</th>\n",
       "      <td>Hamlet</td>\n",
       "      <td>1954</td>\n",
       "    </tr>\n",
       "    <tr>\n",
       "      <th>88941</th>\n",
       "      <td>Hamlet liikemaailmassa</td>\n",
       "      <td>1987</td>\n",
       "    </tr>\n",
       "    <tr>\n",
       "      <th>94444</th>\n",
       "      <td>Hamlet Frezer</td>\n",
       "      <td>2016</td>\n",
       "    </tr>\n",
       "    <tr>\n",
       "      <th>96258</th>\n",
       "      <td>Hamlet (III)</td>\n",
       "      <td>2007</td>\n",
       "    </tr>\n",
       "    <tr>\n",
       "      <th>99647</th>\n",
       "      <td>Hamlet</td>\n",
       "      <td>2014</td>\n",
       "    </tr>\n",
       "    <tr>\n",
       "      <th>101195</th>\n",
       "      <td>Hamlet, Prince of Denmark</td>\n",
       "      <td>1997</td>\n",
       "    </tr>\n",
       "    <tr>\n",
       "      <th>101854</th>\n",
       "      <td>Hamlet</td>\n",
       "      <td>1913</td>\n",
       "    </tr>\n",
       "    <tr>\n",
       "      <th>103836</th>\n",
       "      <td>Hamlet</td>\n",
       "      <td>1973</td>\n",
       "    </tr>\n",
       "    <tr>\n",
       "      <th>114060</th>\n",
       "      <td>Hamlet</td>\n",
       "      <td>1996</td>\n",
       "    </tr>\n",
       "    <tr>\n",
       "      <th>120080</th>\n",
       "      <td>Hamlet</td>\n",
       "      <td>1987</td>\n",
       "    </tr>\n",
       "    <tr>\n",
       "      <th>121895</th>\n",
       "      <td>Hamlet 2</td>\n",
       "      <td>2008</td>\n",
       "    </tr>\n",
       "    <tr>\n",
       "      <th>124376</th>\n",
       "      <td>Hamlet</td>\n",
       "      <td>2000</td>\n",
       "    </tr>\n",
       "    <tr>\n",
       "      <th>135353</th>\n",
       "      <td>Hamlet</td>\n",
       "      <td>1910</td>\n",
       "    </tr>\n",
       "    <tr>\n",
       "      <th>142208</th>\n",
       "      <td>Hamlet</td>\n",
       "      <td>2011</td>\n",
       "    </tr>\n",
       "    <tr>\n",
       "      <th>151545</th>\n",
       "      <td>Hamlet, Son of a Kingpin</td>\n",
       "      <td>2015</td>\n",
       "    </tr>\n",
       "    <tr>\n",
       "      <th>157145</th>\n",
       "      <td>Hamlet's Ghost</td>\n",
       "      <td>2015</td>\n",
       "    </tr>\n",
       "    <tr>\n",
       "      <th>159350</th>\n",
       "      <td>Hamlet</td>\n",
       "      <td>1964</td>\n",
       "    </tr>\n",
       "    <tr>\n",
       "      <th>161962</th>\n",
       "      <td>Hamlet: The Fall of a Sparrow</td>\n",
       "      <td>2018</td>\n",
       "    </tr>\n",
       "    <tr>\n",
       "      <th>163557</th>\n",
       "      <td>Hamlet</td>\n",
       "      <td>2016</td>\n",
       "    </tr>\n",
       "    <tr>\n",
       "      <th>178235</th>\n",
       "      <td>Hamlet</td>\n",
       "      <td>2017</td>\n",
       "    </tr>\n",
       "    <tr>\n",
       "      <th>193528</th>\n",
       "      <td>Hamlet X</td>\n",
       "      <td>2004</td>\n",
       "    </tr>\n",
       "    <tr>\n",
       "      <th>203297</th>\n",
       "      <td>Hamlet (II)</td>\n",
       "      <td>1964</td>\n",
       "    </tr>\n",
       "    <tr>\n",
       "      <th>214128</th>\n",
       "      <td>Hamlet (II)</td>\n",
       "      <td>2015</td>\n",
       "    </tr>\n",
       "    <tr>\n",
       "      <th>214540</th>\n",
       "      <td>Hamlet (II)</td>\n",
       "      <td>2005</td>\n",
       "    </tr>\n",
       "    <tr>\n",
       "      <th>224373</th>\n",
       "      <td>Hamlet</td>\n",
       "      <td>1990</td>\n",
       "    </tr>\n",
       "    <tr>\n",
       "      <th>229160</th>\n",
       "      <td>Hamlet A.D.D.</td>\n",
       "      <td>2014</td>\n",
       "    </tr>\n",
       "    <tr>\n",
       "      <th>229198</th>\n",
       "      <td>Hamlet Unbound</td>\n",
       "      <td>2012</td>\n",
       "    </tr>\n",
       "    <tr>\n",
       "      <th>229710</th>\n",
       "      <td>Hamlet</td>\n",
       "      <td>1911</td>\n",
       "    </tr>\n",
       "  </tbody>\n",
       "</table>\n",
       "</div>"
      ],
      "text/plain": [
       "                                title  year\n",
       "6473                           Hamlet  1976\n",
       "7032           Hamlet in the Hamptons  2002\n",
       "16311       Hamlet: Prince of Denmark  1989\n",
       "25795                          Hamlet  1948\n",
       "26255       Hamlet the Vampire Slayer  2008\n",
       "29205                          Hamlet  1921\n",
       "37917                        Hamlet_X  2003\n",
       "39196                          Hamlet  1969\n",
       "47703                     Hamlet (II)  2007\n",
       "66501                          Hamlet  2015\n",
       "68093                          Hamlet  2009\n",
       "68155                     Hamlet (II)  2017\n",
       "72097                          Hamlet  1954\n",
       "88941          Hamlet liikemaailmassa  1987\n",
       "94444                   Hamlet Frezer  2016\n",
       "96258                    Hamlet (III)  2007\n",
       "99647                          Hamlet  2014\n",
       "101195      Hamlet, Prince of Denmark  1997\n",
       "101854                         Hamlet  1913\n",
       "103836                         Hamlet  1973\n",
       "114060                         Hamlet  1996\n",
       "120080                         Hamlet  1987\n",
       "121895                       Hamlet 2  2008\n",
       "124376                         Hamlet  2000\n",
       "135353                         Hamlet  1910\n",
       "142208                         Hamlet  2011\n",
       "151545       Hamlet, Son of a Kingpin  2015\n",
       "157145                 Hamlet's Ghost  2015\n",
       "159350                         Hamlet  1964\n",
       "161962  Hamlet: The Fall of a Sparrow  2018\n",
       "163557                         Hamlet  2016\n",
       "178235                         Hamlet  2017\n",
       "193528                       Hamlet X  2004\n",
       "203297                    Hamlet (II)  1964\n",
       "214128                    Hamlet (II)  2015\n",
       "214540                    Hamlet (II)  2005\n",
       "224373                         Hamlet  1990\n",
       "229160                  Hamlet A.D.D.  2014\n",
       "229198                 Hamlet Unbound  2012\n",
       "229710                         Hamlet  1911"
      ]
     },
     "execution_count": 56,
     "metadata": {},
     "output_type": "execute_result"
    }
   ],
   "source": [
    "t[t.title.str.startswith('Hamlet')]"
   ]
  },
  {
   "cell_type": "markdown",
   "metadata": {
    "collapsed": true
   },
   "source": [
    "### How many movies are titled \"North by Northwest\"?"
   ]
  },
  {
   "cell_type": "code",
   "execution_count": 63,
   "metadata": {
    "collapsed": false
   },
   "outputs": [
    {
     "data": {
      "text/plain": [
       "1"
      ]
     },
     "execution_count": 63,
     "metadata": {},
     "output_type": "execute_result"
    }
   ],
   "source": [
    "len(t[t.title.str.startswith('North by Northwest')])"
   ]
  },
  {
   "cell_type": "code",
   "execution_count": null,
   "metadata": {
    "collapsed": true
   },
   "outputs": [],
   "source": []
  },
  {
   "cell_type": "markdown",
   "metadata": {
    "collapsed": true
   },
   "source": [
    "### When was the first movie titled \"Hamlet\" made?"
   ]
  },
  {
   "cell_type": "code",
   "execution_count": 66,
   "metadata": {
    "collapsed": false
   },
   "outputs": [
    {
     "data": {
      "text/html": [
       "<div>\n",
       "<table border=\"1\" class=\"dataframe\">\n",
       "  <thead>\n",
       "    <tr style=\"text-align: right;\">\n",
       "      <th></th>\n",
       "      <th>title</th>\n",
       "      <th>year</th>\n",
       "    </tr>\n",
       "  </thead>\n",
       "  <tbody>\n",
       "    <tr>\n",
       "      <th>135353</th>\n",
       "      <td>Hamlet</td>\n",
       "      <td>1910</td>\n",
       "    </tr>\n",
       "  </tbody>\n",
       "</table>\n",
       "</div>"
      ],
      "text/plain": [
       "         title  year\n",
       "135353  Hamlet  1910"
      ]
     },
     "execution_count": 66,
     "metadata": {},
     "output_type": "execute_result"
    }
   ],
   "source": [
    "t[t.title.str.startswith('Hamlet')].sort_values('year').head(1)"
   ]
  },
  {
   "cell_type": "code",
   "execution_count": null,
   "metadata": {
    "collapsed": true
   },
   "outputs": [],
   "source": []
  },
  {
   "cell_type": "markdown",
   "metadata": {
    "collapsed": true
   },
   "source": [
    "### List all of the \"Treasure Island\" movies from earliest to most recent."
   ]
  },
  {
   "cell_type": "code",
   "execution_count": 67,
   "metadata": {
    "collapsed": false
   },
   "outputs": [
    {
     "data": {
      "text/html": [
       "<div>\n",
       "<table border=\"1\" class=\"dataframe\">\n",
       "  <thead>\n",
       "    <tr style=\"text-align: right;\">\n",
       "      <th></th>\n",
       "      <th>title</th>\n",
       "      <th>year</th>\n",
       "    </tr>\n",
       "  </thead>\n",
       "  <tbody>\n",
       "    <tr>\n",
       "      <th>19279</th>\n",
       "      <td>Treasure Island</td>\n",
       "      <td>1918</td>\n",
       "    </tr>\n",
       "    <tr>\n",
       "      <th>1551</th>\n",
       "      <td>Treasure Island</td>\n",
       "      <td>1920</td>\n",
       "    </tr>\n",
       "    <tr>\n",
       "      <th>32849</th>\n",
       "      <td>Treasure Island</td>\n",
       "      <td>1934</td>\n",
       "    </tr>\n",
       "    <tr>\n",
       "      <th>134886</th>\n",
       "      <td>Treasure Island</td>\n",
       "      <td>1950</td>\n",
       "    </tr>\n",
       "    <tr>\n",
       "      <th>16082</th>\n",
       "      <td>Treasure Island</td>\n",
       "      <td>1972</td>\n",
       "    </tr>\n",
       "    <tr>\n",
       "      <th>183692</th>\n",
       "      <td>Treasure Island</td>\n",
       "      <td>1973</td>\n",
       "    </tr>\n",
       "    <tr>\n",
       "      <th>95870</th>\n",
       "      <td>Treasure Island</td>\n",
       "      <td>1985</td>\n",
       "    </tr>\n",
       "    <tr>\n",
       "      <th>31930</th>\n",
       "      <td>Treasure Island</td>\n",
       "      <td>1999</td>\n",
       "    </tr>\n",
       "    <tr>\n",
       "      <th>92733</th>\n",
       "      <td>Treasure Island (II)</td>\n",
       "      <td>1999</td>\n",
       "    </tr>\n",
       "    <tr>\n",
       "      <th>101533</th>\n",
       "      <td>Treasure Island Kids: The Monster of Treasure ...</td>\n",
       "      <td>2006</td>\n",
       "    </tr>\n",
       "    <tr>\n",
       "      <th>110723</th>\n",
       "      <td>Treasure Island Kids: The Battle of Treasure I...</td>\n",
       "      <td>2006</td>\n",
       "    </tr>\n",
       "    <tr>\n",
       "      <th>208185</th>\n",
       "      <td>Treasure Island Kids: The Mystery of Treasure ...</td>\n",
       "      <td>2006</td>\n",
       "    </tr>\n",
       "  </tbody>\n",
       "</table>\n",
       "</div>"
      ],
      "text/plain": [
       "                                                    title  year\n",
       "19279                                     Treasure Island  1918\n",
       "1551                                      Treasure Island  1920\n",
       "32849                                     Treasure Island  1934\n",
       "134886                                    Treasure Island  1950\n",
       "16082                                     Treasure Island  1972\n",
       "183692                                    Treasure Island  1973\n",
       "95870                                     Treasure Island  1985\n",
       "31930                                     Treasure Island  1999\n",
       "92733                                Treasure Island (II)  1999\n",
       "101533  Treasure Island Kids: The Monster of Treasure ...  2006\n",
       "110723  Treasure Island Kids: The Battle of Treasure I...  2006\n",
       "208185  Treasure Island Kids: The Mystery of Treasure ...  2006"
      ]
     },
     "execution_count": 67,
     "metadata": {},
     "output_type": "execute_result"
    }
   ],
   "source": [
    "t[t.title.str.startswith('Treasure Island')].sort_values('year')"
   ]
  },
  {
   "cell_type": "code",
   "execution_count": null,
   "metadata": {
    "collapsed": true
   },
   "outputs": [],
   "source": []
  },
  {
   "cell_type": "markdown",
   "metadata": {
    "collapsed": true
   },
   "source": [
    "### How many movies were made in the year 1950?"
   ]
  },
  {
   "cell_type": "code",
   "execution_count": 69,
   "metadata": {
    "collapsed": false
   },
   "outputs": [
    {
     "data": {
      "text/plain": [
       "1105"
      ]
     },
     "execution_count": 69,
     "metadata": {},
     "output_type": "execute_result"
    }
   ],
   "source": [
    "len(t[t.year == 1950])"
   ]
  },
  {
   "cell_type": "code",
   "execution_count": null,
   "metadata": {
    "collapsed": true
   },
   "outputs": [],
   "source": []
  },
  {
   "cell_type": "markdown",
   "metadata": {
    "collapsed": true
   },
   "source": [
    "### How many movies were made in the year 1960?"
   ]
  },
  {
   "cell_type": "code",
   "execution_count": 71,
   "metadata": {
    "collapsed": false
   },
   "outputs": [
    {
     "data": {
      "text/plain": [
       "1517"
      ]
     },
     "execution_count": 71,
     "metadata": {},
     "output_type": "execute_result"
    }
   ],
   "source": [
    "len(t[t.year == 1960])"
   ]
  },
  {
   "cell_type": "code",
   "execution_count": null,
   "metadata": {
    "collapsed": true
   },
   "outputs": [],
   "source": []
  },
  {
   "cell_type": "markdown",
   "metadata": {
    "collapsed": true
   },
   "source": [
    "### How many movies were made from 1950 through 1959?"
   ]
  },
  {
   "cell_type": "code",
   "execution_count": 72,
   "metadata": {
    "collapsed": false
   },
   "outputs": [
    {
     "data": {
      "text/plain": [
       "11719"
      ]
     },
     "execution_count": 72,
     "metadata": {},
     "output_type": "execute_result"
    }
   ],
   "source": [
    "len(t[(t.year > 1950) & (t.year <=1959)])"
   ]
  },
  {
   "cell_type": "code",
   "execution_count": null,
   "metadata": {
    "collapsed": true
   },
   "outputs": [],
   "source": []
  },
  {
   "cell_type": "markdown",
   "metadata": {
    "collapsed": true
   },
   "source": [
    "### In what years has a movie titled \"Batman\" been released?"
   ]
  },
  {
   "cell_type": "code",
   "execution_count": 81,
   "metadata": {
    "collapsed": false
   },
   "outputs": [
    {
     "data": {
      "text/html": [
       "<div>\n",
       "<table border=\"1\" class=\"dataframe\">\n",
       "  <thead>\n",
       "    <tr style=\"text-align: right;\">\n",
       "      <th></th>\n",
       "      <th>title</th>\n",
       "      <th>year</th>\n",
       "    </tr>\n",
       "  </thead>\n",
       "  <tbody>\n",
       "    <tr>\n",
       "      <th>126254</th>\n",
       "      <td>Batman</td>\n",
       "      <td>1989</td>\n",
       "    </tr>\n",
       "    <tr>\n",
       "      <th>190875</th>\n",
       "      <td>Batman</td>\n",
       "      <td>1943</td>\n",
       "    </tr>\n",
       "  </tbody>\n",
       "</table>\n",
       "</div>"
      ],
      "text/plain": [
       "         title  year\n",
       "126254  Batman  1989\n",
       "190875  Batman  1943"
      ]
     },
     "execution_count": 81,
     "metadata": {},
     "output_type": "execute_result"
    }
   ],
   "source": [
    "t[t.title == 'Batman']"
   ]
  },
  {
   "cell_type": "code",
   "execution_count": null,
   "metadata": {
    "collapsed": true
   },
   "outputs": [],
   "source": []
  },
  {
   "cell_type": "markdown",
   "metadata": {
    "collapsed": true
   },
   "source": [
    "### How many roles were there in the movie \"Inception\"?"
   ]
  },
  {
   "cell_type": "code",
   "execution_count": 83,
   "metadata": {
    "collapsed": false
   },
   "outputs": [
    {
     "data": {
      "text/plain": [
       "78"
      ]
     },
     "execution_count": 83,
     "metadata": {},
     "output_type": "execute_result"
    }
   ],
   "source": [
    "c = cast\n",
    "len(c[c.title == 'Inception'])"
   ]
  },
  {
   "cell_type": "code",
   "execution_count": null,
   "metadata": {
    "collapsed": true
   },
   "outputs": [],
   "source": []
  },
  {
   "cell_type": "markdown",
   "metadata": {
    "collapsed": true
   },
   "source": [
    "### How many roles in the movie \"Inception\" are NOT ranked by an \"n\" value?"
   ]
  },
  {
   "cell_type": "code",
   "execution_count": 86,
   "metadata": {
    "collapsed": false
   },
   "outputs": [
    {
     "data": {
      "text/plain": [
       "51"
      ]
     },
     "execution_count": 86,
     "metadata": {},
     "output_type": "execute_result"
    }
   ],
   "source": [
    "len(c[(c.title == 'Inception')&(c.n.notnull())])"
   ]
  },
  {
   "cell_type": "code",
   "execution_count": null,
   "metadata": {
    "collapsed": true
   },
   "outputs": [],
   "source": []
  },
  {
   "cell_type": "markdown",
   "metadata": {
    "collapsed": true
   },
   "source": [
    "### But how many roles in the movie \"Inception\" did receive an \"n\" value?"
   ]
  },
  {
   "cell_type": "code",
   "execution_count": 87,
   "metadata": {
    "collapsed": false
   },
   "outputs": [
    {
     "data": {
      "text/plain": [
       "27"
      ]
     },
     "execution_count": 87,
     "metadata": {},
     "output_type": "execute_result"
    }
   ],
   "source": [
    "len(c[(c.title == 'Inception')&(c.n.isnull())])"
   ]
  },
  {
   "cell_type": "code",
   "execution_count": null,
   "metadata": {
    "collapsed": true
   },
   "outputs": [],
   "source": []
  },
  {
   "cell_type": "markdown",
   "metadata": {
    "collapsed": true
   },
   "source": [
    "### Display the cast of \"North by Northwest\" in their correct \"n\"-value order, ignoring roles that did not earn a numeric \"n\" value."
   ]
  },
  {
   "cell_type": "code",
   "execution_count": 91,
   "metadata": {
    "collapsed": false
   },
   "outputs": [
    {
     "data": {
      "text/html": [
       "<div>\n",
       "<table border=\"1\" class=\"dataframe\">\n",
       "  <thead>\n",
       "    <tr style=\"text-align: right;\">\n",
       "      <th></th>\n",
       "      <th>title</th>\n",
       "      <th>year</th>\n",
       "      <th>name</th>\n",
       "      <th>type</th>\n",
       "      <th>character</th>\n",
       "      <th>n</th>\n",
       "    </tr>\n",
       "  </thead>\n",
       "  <tbody>\n",
       "    <tr>\n",
       "      <th>859560</th>\n",
       "      <td>North by Northwest</td>\n",
       "      <td>1959</td>\n",
       "      <td>Cary Grant</td>\n",
       "      <td>actor</td>\n",
       "      <td>Roger O. Thornhill</td>\n",
       "      <td>1.0</td>\n",
       "    </tr>\n",
       "    <tr>\n",
       "      <th>3441760</th>\n",
       "      <td>North by Northwest</td>\n",
       "      <td>1959</td>\n",
       "      <td>Eva Marie Saint</td>\n",
       "      <td>actress</td>\n",
       "      <td>Eve Kendall</td>\n",
       "      <td>2.0</td>\n",
       "    </tr>\n",
       "    <tr>\n",
       "      <th>1436980</th>\n",
       "      <td>North by Northwest</td>\n",
       "      <td>1959</td>\n",
       "      <td>James Mason</td>\n",
       "      <td>actor</td>\n",
       "      <td>Phillip Vandamm</td>\n",
       "      <td>3.0</td>\n",
       "    </tr>\n",
       "    <tr>\n",
       "      <th>3096000</th>\n",
       "      <td>North by Northwest</td>\n",
       "      <td>1959</td>\n",
       "      <td>Jessie Royce Landis</td>\n",
       "      <td>actress</td>\n",
       "      <td>Clara Thornhill</td>\n",
       "      <td>4.0</td>\n",
       "    </tr>\n",
       "    <tr>\n",
       "      <th>351842</th>\n",
       "      <td>North by Northwest</td>\n",
       "      <td>1959</td>\n",
       "      <td>Leo G. Carroll</td>\n",
       "      <td>actor</td>\n",
       "      <td>The Professor</td>\n",
       "      <td>5.0</td>\n",
       "    </tr>\n",
       "    <tr>\n",
       "      <th>2992071</th>\n",
       "      <td>North by Northwest</td>\n",
       "      <td>1959</td>\n",
       "      <td>Josephine Hutchinson</td>\n",
       "      <td>actress</td>\n",
       "      <td>Mrs. Townsend</td>\n",
       "      <td>6.0</td>\n",
       "    </tr>\n",
       "    <tr>\n",
       "      <th>1671866</th>\n",
       "      <td>North by Northwest</td>\n",
       "      <td>1959</td>\n",
       "      <td>Philip Ober</td>\n",
       "      <td>actor</td>\n",
       "      <td>Lester Townsend</td>\n",
       "      <td>7.0</td>\n",
       "    </tr>\n",
       "    <tr>\n",
       "      <th>1257382</th>\n",
       "      <td>North by Northwest</td>\n",
       "      <td>1959</td>\n",
       "      <td>Martin Landau</td>\n",
       "      <td>actor</td>\n",
       "      <td>Leonard</td>\n",
       "      <td>8.0</td>\n",
       "    </tr>\n",
       "    <tr>\n",
       "      <th>2412973</th>\n",
       "      <td>North by Northwest</td>\n",
       "      <td>1959</td>\n",
       "      <td>Adam Williams</td>\n",
       "      <td>actor</td>\n",
       "      <td>Valerian</td>\n",
       "      <td>9.0</td>\n",
       "    </tr>\n",
       "    <tr>\n",
       "      <th>1786246</th>\n",
       "      <td>North by Northwest</td>\n",
       "      <td>1959</td>\n",
       "      <td>Edward Platt</td>\n",
       "      <td>actor</td>\n",
       "      <td>Victor Larrabee</td>\n",
       "      <td>10.0</td>\n",
       "    </tr>\n",
       "    <tr>\n",
       "      <th>656703</th>\n",
       "      <td>North by Northwest</td>\n",
       "      <td>1959</td>\n",
       "      <td>Robert Ellenstein</td>\n",
       "      <td>actor</td>\n",
       "      <td>Licht</td>\n",
       "      <td>11.0</td>\n",
       "    </tr>\n",
       "    <tr>\n",
       "      <th>2263698</th>\n",
       "      <td>North by Northwest</td>\n",
       "      <td>1959</td>\n",
       "      <td>Les Tremayne</td>\n",
       "      <td>actor</td>\n",
       "      <td>Auctioneer</td>\n",
       "      <td>12.0</td>\n",
       "    </tr>\n",
       "    <tr>\n",
       "      <th>458422</th>\n",
       "      <td>North by Northwest</td>\n",
       "      <td>1959</td>\n",
       "      <td>Philip Coolidge</td>\n",
       "      <td>actor</td>\n",
       "      <td>Dr. Cross</td>\n",
       "      <td>13.0</td>\n",
       "    </tr>\n",
       "    <tr>\n",
       "      <th>1487597</th>\n",
       "      <td>North by Northwest</td>\n",
       "      <td>1959</td>\n",
       "      <td>Patrick McVey</td>\n",
       "      <td>actor</td>\n",
       "      <td>Sergeant Flamm</td>\n",
       "      <td>14.0</td>\n",
       "    </tr>\n",
       "    <tr>\n",
       "      <th>203508</th>\n",
       "      <td>North by Northwest</td>\n",
       "      <td>1959</td>\n",
       "      <td>Edward Binns</td>\n",
       "      <td>actor</td>\n",
       "      <td>Captain Junket</td>\n",
       "      <td>15.0</td>\n",
       "    </tr>\n",
       "    <tr>\n",
       "      <th>1365471</th>\n",
       "      <td>North by Northwest</td>\n",
       "      <td>1959</td>\n",
       "      <td>Ken Lynch</td>\n",
       "      <td>actor</td>\n",
       "      <td>Charley - Chicago Policeman</td>\n",
       "      <td>16.0</td>\n",
       "    </tr>\n",
       "  </tbody>\n",
       "</table>\n",
       "</div>"
      ],
      "text/plain": [
       "                      title  year                  name     type  \\\n",
       "859560   North by Northwest  1959            Cary Grant    actor   \n",
       "3441760  North by Northwest  1959       Eva Marie Saint  actress   \n",
       "1436980  North by Northwest  1959           James Mason    actor   \n",
       "3096000  North by Northwest  1959   Jessie Royce Landis  actress   \n",
       "351842   North by Northwest  1959        Leo G. Carroll    actor   \n",
       "2992071  North by Northwest  1959  Josephine Hutchinson  actress   \n",
       "1671866  North by Northwest  1959           Philip Ober    actor   \n",
       "1257382  North by Northwest  1959         Martin Landau    actor   \n",
       "2412973  North by Northwest  1959         Adam Williams    actor   \n",
       "1786246  North by Northwest  1959          Edward Platt    actor   \n",
       "656703   North by Northwest  1959     Robert Ellenstein    actor   \n",
       "2263698  North by Northwest  1959          Les Tremayne    actor   \n",
       "458422   North by Northwest  1959       Philip Coolidge    actor   \n",
       "1487597  North by Northwest  1959         Patrick McVey    actor   \n",
       "203508   North by Northwest  1959          Edward Binns    actor   \n",
       "1365471  North by Northwest  1959             Ken Lynch    actor   \n",
       "\n",
       "                           character     n  \n",
       "859560            Roger O. Thornhill   1.0  \n",
       "3441760                  Eve Kendall   2.0  \n",
       "1436980              Phillip Vandamm   3.0  \n",
       "3096000              Clara Thornhill   4.0  \n",
       "351842                 The Professor   5.0  \n",
       "2992071                Mrs. Townsend   6.0  \n",
       "1671866              Lester Townsend   7.0  \n",
       "1257382                      Leonard   8.0  \n",
       "2412973                     Valerian   9.0  \n",
       "1786246              Victor Larrabee  10.0  \n",
       "656703                         Licht  11.0  \n",
       "2263698                   Auctioneer  12.0  \n",
       "458422                     Dr. Cross  13.0  \n",
       "1487597               Sergeant Flamm  14.0  \n",
       "203508                Captain Junket  15.0  \n",
       "1365471  Charley - Chicago Policeman  16.0  "
      ]
     },
     "execution_count": 91,
     "metadata": {},
     "output_type": "execute_result"
    }
   ],
   "source": [
    "cn = c[(c.title == 'North by Northwest')&(c.n.notnull())]\n",
    "cn.sort_values('n')"
   ]
  },
  {
   "cell_type": "code",
   "execution_count": null,
   "metadata": {
    "collapsed": true
   },
   "outputs": [],
   "source": []
  },
  {
   "cell_type": "markdown",
   "metadata": {
    "collapsed": true
   },
   "source": [
    "### Display the entire cast, in \"n\"-order, of the 1972 film \"Sleuth\"."
   ]
  },
  {
   "cell_type": "code",
   "execution_count": 97,
   "metadata": {
    "collapsed": false
   },
   "outputs": [
    {
     "data": {
      "text/html": [
       "<div>\n",
       "<table border=\"1\" class=\"dataframe\">\n",
       "  <thead>\n",
       "    <tr style=\"text-align: right;\">\n",
       "      <th></th>\n",
       "      <th>title</th>\n",
       "      <th>year</th>\n",
       "      <th>name</th>\n",
       "      <th>type</th>\n",
       "      <th>character</th>\n",
       "      <th>n</th>\n",
       "    </tr>\n",
       "  </thead>\n",
       "  <tbody>\n",
       "    <tr>\n",
       "      <th>322215</th>\n",
       "      <td>Sleuth</td>\n",
       "      <td>1972</td>\n",
       "      <td>Michael Caine</td>\n",
       "      <td>actor</td>\n",
       "      <td>Milo Tindle</td>\n",
       "      <td>2.0</td>\n",
       "    </tr>\n",
       "    <tr>\n",
       "      <th>368842</th>\n",
       "      <td>Sleuth</td>\n",
       "      <td>1972</td>\n",
       "      <td>Alec Cawthorne</td>\n",
       "      <td>actor</td>\n",
       "      <td>Inspector Doppler</td>\n",
       "      <td>3.0</td>\n",
       "    </tr>\n",
       "    <tr>\n",
       "      <th>1428628</th>\n",
       "      <td>Sleuth</td>\n",
       "      <td>1972</td>\n",
       "      <td>Teddy Martin</td>\n",
       "      <td>actor</td>\n",
       "      <td>Police Constable Higgs</td>\n",
       "      <td>6.0</td>\n",
       "    </tr>\n",
       "    <tr>\n",
       "      <th>1445143</th>\n",
       "      <td>Sleuth</td>\n",
       "      <td>1972</td>\n",
       "      <td>John (II) Matthews</td>\n",
       "      <td>actor</td>\n",
       "      <td>Detective Sergeant Tarrant</td>\n",
       "      <td>4.0</td>\n",
       "    </tr>\n",
       "    <tr>\n",
       "      <th>1681820</th>\n",
       "      <td>Sleuth</td>\n",
       "      <td>1972</td>\n",
       "      <td>Laurence Olivier</td>\n",
       "      <td>actor</td>\n",
       "      <td>Andrew Wyke</td>\n",
       "      <td>1.0</td>\n",
       "    </tr>\n",
       "    <tr>\n",
       "      <th>2681107</th>\n",
       "      <td>Sleuth</td>\n",
       "      <td>1972</td>\n",
       "      <td>Eve (III) Channing</td>\n",
       "      <td>actress</td>\n",
       "      <td>Marguerite Wyke</td>\n",
       "      <td>5.0</td>\n",
       "    </tr>\n",
       "  </tbody>\n",
       "</table>\n",
       "</div>"
      ],
      "text/plain": [
       "          title  year                name     type  \\\n",
       "322215   Sleuth  1972       Michael Caine    actor   \n",
       "368842   Sleuth  1972      Alec Cawthorne    actor   \n",
       "1428628  Sleuth  1972        Teddy Martin    actor   \n",
       "1445143  Sleuth  1972  John (II) Matthews    actor   \n",
       "1681820  Sleuth  1972    Laurence Olivier    actor   \n",
       "2681107  Sleuth  1972  Eve (III) Channing  actress   \n",
       "\n",
       "                          character    n  \n",
       "322215                  Milo Tindle  2.0  \n",
       "368842            Inspector Doppler  3.0  \n",
       "1428628      Police Constable Higgs  6.0  \n",
       "1445143  Detective Sergeant Tarrant  4.0  \n",
       "1681820                 Andrew Wyke  1.0  \n",
       "2681107             Marguerite Wyke  5.0  "
      ]
     },
     "execution_count": 97,
     "metadata": {},
     "output_type": "execute_result"
    }
   ],
   "source": [
    "cs = c[(c.title == 'Sleuth') & (c.year == 1972)]\n",
    "cs.sort_values('n')\n",
    "cs"
   ]
  },
  {
   "cell_type": "code",
   "execution_count": null,
   "metadata": {
    "collapsed": true
   },
   "outputs": [],
   "source": []
  },
  {
   "cell_type": "markdown",
   "metadata": {
    "collapsed": true
   },
   "source": [
    "### Now display the entire cast, in \"n\"-order, of the 2007 version of \"Sleuth\"."
   ]
  },
  {
   "cell_type": "code",
   "execution_count": 98,
   "metadata": {
    "collapsed": false
   },
   "outputs": [
    {
     "data": {
      "text/html": [
       "<div>\n",
       "<table border=\"1\" class=\"dataframe\">\n",
       "  <thead>\n",
       "    <tr style=\"text-align: right;\">\n",
       "      <th></th>\n",
       "      <th>title</th>\n",
       "      <th>year</th>\n",
       "      <th>name</th>\n",
       "      <th>type</th>\n",
       "      <th>character</th>\n",
       "      <th>n</th>\n",
       "    </tr>\n",
       "  </thead>\n",
       "  <tbody>\n",
       "    <tr>\n",
       "      <th>256402</th>\n",
       "      <td>Sleuth</td>\n",
       "      <td>2007</td>\n",
       "      <td>Kenneth Branagh</td>\n",
       "      <td>actor</td>\n",
       "      <td>Other Man on T.V.</td>\n",
       "      <td>NaN</td>\n",
       "    </tr>\n",
       "    <tr>\n",
       "      <th>322216</th>\n",
       "      <td>Sleuth</td>\n",
       "      <td>2007</td>\n",
       "      <td>Michael Caine</td>\n",
       "      <td>actor</td>\n",
       "      <td>Andrew</td>\n",
       "      <td>1.0</td>\n",
       "    </tr>\n",
       "    <tr>\n",
       "      <th>368843</th>\n",
       "      <td>Sleuth</td>\n",
       "      <td>2007</td>\n",
       "      <td>Alec (II) Cawthorne</td>\n",
       "      <td>actor</td>\n",
       "      <td>Inspector Doppler</td>\n",
       "      <td>NaN</td>\n",
       "    </tr>\n",
       "    <tr>\n",
       "      <th>1275473</th>\n",
       "      <td>Sleuth</td>\n",
       "      <td>2007</td>\n",
       "      <td>Jude Law</td>\n",
       "      <td>actor</td>\n",
       "      <td>Milo</td>\n",
       "      <td>2.0</td>\n",
       "    </tr>\n",
       "    <tr>\n",
       "      <th>1780854</th>\n",
       "      <td>Sleuth</td>\n",
       "      <td>2007</td>\n",
       "      <td>Harold Pinter</td>\n",
       "      <td>actor</td>\n",
       "      <td>Man on T.V.</td>\n",
       "      <td>3.0</td>\n",
       "    </tr>\n",
       "    <tr>\n",
       "      <th>2681106</th>\n",
       "      <td>Sleuth</td>\n",
       "      <td>2007</td>\n",
       "      <td>Eve (II) Channing</td>\n",
       "      <td>actress</td>\n",
       "      <td>Marguerite Wyke</td>\n",
       "      <td>NaN</td>\n",
       "    </tr>\n",
       "    <tr>\n",
       "      <th>3300233</th>\n",
       "      <td>Sleuth</td>\n",
       "      <td>2007</td>\n",
       "      <td>Carmel O'Sullivan</td>\n",
       "      <td>actress</td>\n",
       "      <td>Maggie</td>\n",
       "      <td>NaN</td>\n",
       "    </tr>\n",
       "  </tbody>\n",
       "</table>\n",
       "</div>"
      ],
      "text/plain": [
       "          title  year                 name     type          character    n\n",
       "256402   Sleuth  2007      Kenneth Branagh    actor  Other Man on T.V.  NaN\n",
       "322216   Sleuth  2007        Michael Caine    actor             Andrew  1.0\n",
       "368843   Sleuth  2007  Alec (II) Cawthorne    actor  Inspector Doppler  NaN\n",
       "1275473  Sleuth  2007             Jude Law    actor               Milo  2.0\n",
       "1780854  Sleuth  2007        Harold Pinter    actor        Man on T.V.  3.0\n",
       "2681106  Sleuth  2007    Eve (II) Channing  actress    Marguerite Wyke  NaN\n",
       "3300233  Sleuth  2007    Carmel O'Sullivan  actress             Maggie  NaN"
      ]
     },
     "execution_count": 98,
     "metadata": {},
     "output_type": "execute_result"
    }
   ],
   "source": [
    "cs = c[(c.title == 'Sleuth') & (c.year == 2007)]\n",
    "cs.sort_values('n')\n",
    "cs"
   ]
  },
  {
   "cell_type": "code",
   "execution_count": null,
   "metadata": {
    "collapsed": true
   },
   "outputs": [],
   "source": []
  },
  {
   "cell_type": "markdown",
   "metadata": {
    "collapsed": true
   },
   "source": [
    "### How many roles were credited in the silent 1921 version of Hamlet?"
   ]
  },
  {
   "cell_type": "code",
   "execution_count": 104,
   "metadata": {
    "collapsed": false
   },
   "outputs": [
    {
     "data": {
      "text/plain": [
       "9"
      ]
     },
     "execution_count": 104,
     "metadata": {},
     "output_type": "execute_result"
    }
   ],
   "source": [
    "len(c[(c.title == 'Hamlet')&(c.year == 1921)])"
   ]
  },
  {
   "cell_type": "code",
   "execution_count": null,
   "metadata": {
    "collapsed": true
   },
   "outputs": [],
   "source": []
  },
  {
   "cell_type": "markdown",
   "metadata": {
    "collapsed": true
   },
   "source": [
    "### How many roles were credited in Branagh’s 1996 Hamlet?"
   ]
  },
  {
   "cell_type": "code",
   "execution_count": 105,
   "metadata": {
    "collapsed": false
   },
   "outputs": [
    {
     "data": {
      "text/plain": [
       "54"
      ]
     },
     "execution_count": 105,
     "metadata": {},
     "output_type": "execute_result"
    }
   ],
   "source": [
    "len(c[(c.title == 'Hamlet')&(c.year == 1996)])"
   ]
  },
  {
   "cell_type": "code",
   "execution_count": null,
   "metadata": {
    "collapsed": true
   },
   "outputs": [],
   "source": []
  },
  {
   "cell_type": "markdown",
   "metadata": {
    "collapsed": true
   },
   "source": [
    "### How many \"Hamlet\" roles have been listed in all film credits through history?"
   ]
  },
  {
   "cell_type": "code",
   "execution_count": 107,
   "metadata": {
    "collapsed": false
   },
   "outputs": [
    {
     "data": {
      "text/plain": [
       "342"
      ]
     },
     "execution_count": 107,
     "metadata": {},
     "output_type": "execute_result"
    }
   ],
   "source": [
    "len(c[c.title == 'Hamlet'])"
   ]
  },
  {
   "cell_type": "code",
   "execution_count": null,
   "metadata": {
    "collapsed": true
   },
   "outputs": [],
   "source": []
  },
  {
   "cell_type": "markdown",
   "metadata": {
    "collapsed": true
   },
   "source": [
    "### How many people have played an \"Ophelia\"?"
   ]
  },
  {
   "cell_type": "code",
   "execution_count": 108,
   "metadata": {
    "collapsed": false
   },
   "outputs": [
    {
     "data": {
      "text/plain": [
       "111"
      ]
     },
     "execution_count": 108,
     "metadata": {},
     "output_type": "execute_result"
    }
   ],
   "source": [
    "len(c[c.character == \"Ophelia\"].name.unique())"
   ]
  },
  {
   "cell_type": "code",
   "execution_count": null,
   "metadata": {
    "collapsed": true
   },
   "outputs": [],
   "source": []
  },
  {
   "cell_type": "markdown",
   "metadata": {
    "collapsed": true
   },
   "source": [
    "### How many people have played a role called \"The Dude\"?"
   ]
  },
  {
   "cell_type": "code",
   "execution_count": 110,
   "metadata": {
    "collapsed": false
   },
   "outputs": [
    {
     "data": {
      "text/plain": [
       "18"
      ]
     },
     "execution_count": 110,
     "metadata": {},
     "output_type": "execute_result"
    }
   ],
   "source": [
    "len(c[c.character == 'The Dude'])"
   ]
  },
  {
   "cell_type": "code",
   "execution_count": null,
   "metadata": {
    "collapsed": true
   },
   "outputs": [],
   "source": []
  },
  {
   "cell_type": "markdown",
   "metadata": {
    "collapsed": true
   },
   "source": [
    "### How many people have played a role called \"The Stranger\"?"
   ]
  },
  {
   "cell_type": "code",
   "execution_count": 111,
   "metadata": {
    "collapsed": false
   },
   "outputs": [
    {
     "data": {
      "text/plain": [
       "210"
      ]
     },
     "execution_count": 111,
     "metadata": {},
     "output_type": "execute_result"
    }
   ],
   "source": [
    "len(c[c.character == 'The Stranger'])"
   ]
  },
  {
   "cell_type": "code",
   "execution_count": null,
   "metadata": {
    "collapsed": true
   },
   "outputs": [],
   "source": []
  },
  {
   "cell_type": "markdown",
   "metadata": {
    "collapsed": true
   },
   "source": [
    "### How many roles has Sidney Poitier played throughout his career?"
   ]
  },
  {
   "cell_type": "code",
   "execution_count": 112,
   "metadata": {
    "collapsed": false
   },
   "outputs": [
    {
     "data": {
      "text/plain": [
       "43"
      ]
     },
     "execution_count": 112,
     "metadata": {},
     "output_type": "execute_result"
    }
   ],
   "source": [
    "len(c[c.name == 'Sidney Poitier'])"
   ]
  },
  {
   "cell_type": "code",
   "execution_count": null,
   "metadata": {
    "collapsed": true
   },
   "outputs": [],
   "source": []
  },
  {
   "cell_type": "markdown",
   "metadata": {
    "collapsed": true
   },
   "source": [
    "### How many roles has Judi Dench played?"
   ]
  },
  {
   "cell_type": "code",
   "execution_count": 113,
   "metadata": {
    "collapsed": false
   },
   "outputs": [
    {
     "data": {
      "text/plain": [
       "54"
      ]
     },
     "execution_count": 113,
     "metadata": {},
     "output_type": "execute_result"
    }
   ],
   "source": [
    "len(c[c.name == 'Judi Dench'])"
   ]
  },
  {
   "cell_type": "code",
   "execution_count": null,
   "metadata": {
    "collapsed": true
   },
   "outputs": [],
   "source": []
  },
  {
   "cell_type": "markdown",
   "metadata": {
    "collapsed": true
   },
   "source": [
    "### List the supporting roles (having n=2) played by Cary Grant in the 1940s, in order by year."
   ]
  },
  {
   "cell_type": "code",
   "execution_count": 115,
   "metadata": {
    "collapsed": false
   },
   "outputs": [
    {
     "data": {
      "text/html": [
       "<div>\n",
       "<table border=\"1\" class=\"dataframe\">\n",
       "  <thead>\n",
       "    <tr style=\"text-align: right;\">\n",
       "      <th></th>\n",
       "      <th>title</th>\n",
       "      <th>year</th>\n",
       "      <th>name</th>\n",
       "      <th>type</th>\n",
       "      <th>character</th>\n",
       "      <th>n</th>\n",
       "    </tr>\n",
       "  </thead>\n",
       "  <tbody>\n",
       "    <tr>\n",
       "      <th>859557</th>\n",
       "      <td>My Favorite Wife</td>\n",
       "      <td>1940</td>\n",
       "      <td>Cary Grant</td>\n",
       "      <td>actor</td>\n",
       "      <td>Nick Arden</td>\n",
       "      <td>2.0</td>\n",
       "    </tr>\n",
       "    <tr>\n",
       "      <th>859567</th>\n",
       "      <td>Penny Serenade</td>\n",
       "      <td>1941</td>\n",
       "      <td>Cary Grant</td>\n",
       "      <td>actor</td>\n",
       "      <td>Roger Adams</td>\n",
       "      <td>2.0</td>\n",
       "    </tr>\n",
       "  </tbody>\n",
       "</table>\n",
       "</div>"
      ],
      "text/plain": [
       "                   title  year        name   type    character    n\n",
       "859557  My Favorite Wife  1940  Cary Grant  actor   Nick Arden  2.0\n",
       "859567    Penny Serenade  1941  Cary Grant  actor  Roger Adams  2.0"
      ]
     },
     "execution_count": 115,
     "metadata": {},
     "output_type": "execute_result"
    }
   ],
   "source": [
    "c[(c.n == 2)&(c.name =='Cary Grant')&(c.year//10 ==194)].sort_values('year')"
   ]
  },
  {
   "cell_type": "code",
   "execution_count": null,
   "metadata": {
    "collapsed": true
   },
   "outputs": [],
   "source": []
  },
  {
   "cell_type": "markdown",
   "metadata": {
    "collapsed": true
   },
   "source": [
    "### List the leading roles that Cary Grant played in the 1940s in order by year."
   ]
  },
  {
   "cell_type": "code",
   "execution_count": 116,
   "metadata": {
    "collapsed": false
   },
   "outputs": [
    {
     "data": {
      "text/html": [
       "<div>\n",
       "<table border=\"1\" class=\"dataframe\">\n",
       "  <thead>\n",
       "    <tr style=\"text-align: right;\">\n",
       "      <th></th>\n",
       "      <th>title</th>\n",
       "      <th>year</th>\n",
       "      <th>name</th>\n",
       "      <th>type</th>\n",
       "      <th>character</th>\n",
       "      <th>n</th>\n",
       "    </tr>\n",
       "  </thead>\n",
       "  <tbody>\n",
       "    <tr>\n",
       "      <th>859582</th>\n",
       "      <td>The Howards of Virginia</td>\n",
       "      <td>1940</td>\n",
       "      <td>Cary Grant</td>\n",
       "      <td>actor</td>\n",
       "      <td>Matt Howard</td>\n",
       "      <td>1.0</td>\n",
       "    </tr>\n",
       "    <tr>\n",
       "      <th>859540</th>\n",
       "      <td>His Girl Friday</td>\n",
       "      <td>1940</td>\n",
       "      <td>Cary Grant</td>\n",
       "      <td>actor</td>\n",
       "      <td>Walter Burns</td>\n",
       "      <td>1.0</td>\n",
       "    </tr>\n",
       "    <tr>\n",
       "      <th>859584</th>\n",
       "      <td>The Philadelphia Story</td>\n",
       "      <td>1940</td>\n",
       "      <td>Cary Grant</td>\n",
       "      <td>actor</td>\n",
       "      <td>C. K. Dexter Haven</td>\n",
       "      <td>1.0</td>\n",
       "    </tr>\n",
       "    <tr>\n",
       "      <th>859572</th>\n",
       "      <td>Suspicion</td>\n",
       "      <td>1941</td>\n",
       "      <td>Cary Grant</td>\n",
       "      <td>actor</td>\n",
       "      <td>Johnnie</td>\n",
       "      <td>1.0</td>\n",
       "    </tr>\n",
       "    <tr>\n",
       "      <th>859586</th>\n",
       "      <td>The Talk of the Town</td>\n",
       "      <td>1942</td>\n",
       "      <td>Cary Grant</td>\n",
       "      <td>actor</td>\n",
       "      <td>Leopold Dilg</td>\n",
       "      <td>1.0</td>\n",
       "    </tr>\n",
       "    <tr>\n",
       "      <th>859563</th>\n",
       "      <td>Once Upon a Honeymoon</td>\n",
       "      <td>1942</td>\n",
       "      <td>Cary Grant</td>\n",
       "      <td>actor</td>\n",
       "      <td>Patrick 'Pat' O'Toole</td>\n",
       "      <td>1.0</td>\n",
       "    </tr>\n",
       "    <tr>\n",
       "      <th>859531</th>\n",
       "      <td>Destination Tokyo</td>\n",
       "      <td>1943</td>\n",
       "      <td>Cary Grant</td>\n",
       "      <td>actor</td>\n",
       "      <td>Capt. Cassidy</td>\n",
       "      <td>1.0</td>\n",
       "    </tr>\n",
       "    <tr>\n",
       "      <th>859555</th>\n",
       "      <td>Mr. Lucky</td>\n",
       "      <td>1943</td>\n",
       "      <td>Cary Grant</td>\n",
       "      <td>actor</td>\n",
       "      <td>Joe Adams</td>\n",
       "      <td>1.0</td>\n",
       "    </tr>\n",
       "    <tr>\n",
       "      <th>859556</th>\n",
       "      <td>Mr. Lucky</td>\n",
       "      <td>1943</td>\n",
       "      <td>Cary Grant</td>\n",
       "      <td>actor</td>\n",
       "      <td>Joe Bascopolous</td>\n",
       "      <td>1.0</td>\n",
       "    </tr>\n",
       "    <tr>\n",
       "      <th>859564</th>\n",
       "      <td>Once Upon a Time</td>\n",
       "      <td>1944</td>\n",
       "      <td>Cary Grant</td>\n",
       "      <td>actor</td>\n",
       "      <td>Jerry Flynn</td>\n",
       "      <td>1.0</td>\n",
       "    </tr>\n",
       "    <tr>\n",
       "      <th>859523</th>\n",
       "      <td>Arsenic and Old Lace</td>\n",
       "      <td>1944</td>\n",
       "      <td>Cary Grant</td>\n",
       "      <td>actor</td>\n",
       "      <td>Mortimer Brewster</td>\n",
       "      <td>1.0</td>\n",
       "    </tr>\n",
       "    <tr>\n",
       "      <th>859559</th>\n",
       "      <td>None But the Lonely Heart</td>\n",
       "      <td>1944</td>\n",
       "      <td>Cary Grant</td>\n",
       "      <td>actor</td>\n",
       "      <td>Ernie Mott</td>\n",
       "      <td>1.0</td>\n",
       "    </tr>\n",
       "    <tr>\n",
       "      <th>859558</th>\n",
       "      <td>Night and Day</td>\n",
       "      <td>1946</td>\n",
       "      <td>Cary Grant</td>\n",
       "      <td>actor</td>\n",
       "      <td>Cole Porter</td>\n",
       "      <td>1.0</td>\n",
       "    </tr>\n",
       "    <tr>\n",
       "      <th>859561</th>\n",
       "      <td>Notorious</td>\n",
       "      <td>1946</td>\n",
       "      <td>Cary Grant</td>\n",
       "      <td>actor</td>\n",
       "      <td>Devlin</td>\n",
       "      <td>1.0</td>\n",
       "    </tr>\n",
       "    <tr>\n",
       "      <th>859578</th>\n",
       "      <td>The Bachelor and the Bobby-Soxer</td>\n",
       "      <td>1947</td>\n",
       "      <td>Cary Grant</td>\n",
       "      <td>actor</td>\n",
       "      <td>Dick Nugent</td>\n",
       "      <td>1.0</td>\n",
       "    </tr>\n",
       "    <tr>\n",
       "      <th>859579</th>\n",
       "      <td>The Bishop's Wife</td>\n",
       "      <td>1947</td>\n",
       "      <td>Cary Grant</td>\n",
       "      <td>actor</td>\n",
       "      <td>Dudley</td>\n",
       "      <td>1.0</td>\n",
       "    </tr>\n",
       "    <tr>\n",
       "      <th>859554</th>\n",
       "      <td>Mr. Blandings Builds His Dream House</td>\n",
       "      <td>1948</td>\n",
       "      <td>Cary Grant</td>\n",
       "      <td>actor</td>\n",
       "      <td>Jim Blandings</td>\n",
       "      <td>1.0</td>\n",
       "    </tr>\n",
       "    <tr>\n",
       "      <th>859535</th>\n",
       "      <td>Every Girl Should Be Married</td>\n",
       "      <td>1948</td>\n",
       "      <td>Cary Grant</td>\n",
       "      <td>actor</td>\n",
       "      <td>Dr. Madison Brown</td>\n",
       "      <td>1.0</td>\n",
       "    </tr>\n",
       "    <tr>\n",
       "      <th>859544</th>\n",
       "      <td>I Was a Male War Bride</td>\n",
       "      <td>1949</td>\n",
       "      <td>Cary Grant</td>\n",
       "      <td>actor</td>\n",
       "      <td>Captain Henri Rochard</td>\n",
       "      <td>1.0</td>\n",
       "    </tr>\n",
       "  </tbody>\n",
       "</table>\n",
       "</div>"
      ],
      "text/plain": [
       "                                       title  year        name   type  \\\n",
       "859582               The Howards of Virginia  1940  Cary Grant  actor   \n",
       "859540                       His Girl Friday  1940  Cary Grant  actor   \n",
       "859584                The Philadelphia Story  1940  Cary Grant  actor   \n",
       "859572                             Suspicion  1941  Cary Grant  actor   \n",
       "859586                  The Talk of the Town  1942  Cary Grant  actor   \n",
       "859563                 Once Upon a Honeymoon  1942  Cary Grant  actor   \n",
       "859531                     Destination Tokyo  1943  Cary Grant  actor   \n",
       "859555                             Mr. Lucky  1943  Cary Grant  actor   \n",
       "859556                             Mr. Lucky  1943  Cary Grant  actor   \n",
       "859564                      Once Upon a Time  1944  Cary Grant  actor   \n",
       "859523                  Arsenic and Old Lace  1944  Cary Grant  actor   \n",
       "859559             None But the Lonely Heart  1944  Cary Grant  actor   \n",
       "859558                         Night and Day  1946  Cary Grant  actor   \n",
       "859561                             Notorious  1946  Cary Grant  actor   \n",
       "859578      The Bachelor and the Bobby-Soxer  1947  Cary Grant  actor   \n",
       "859579                     The Bishop's Wife  1947  Cary Grant  actor   \n",
       "859554  Mr. Blandings Builds His Dream House  1948  Cary Grant  actor   \n",
       "859535          Every Girl Should Be Married  1948  Cary Grant  actor   \n",
       "859544                I Was a Male War Bride  1949  Cary Grant  actor   \n",
       "\n",
       "                    character    n  \n",
       "859582            Matt Howard  1.0  \n",
       "859540           Walter Burns  1.0  \n",
       "859584     C. K. Dexter Haven  1.0  \n",
       "859572                Johnnie  1.0  \n",
       "859586           Leopold Dilg  1.0  \n",
       "859563  Patrick 'Pat' O'Toole  1.0  \n",
       "859531          Capt. Cassidy  1.0  \n",
       "859555              Joe Adams  1.0  \n",
       "859556        Joe Bascopolous  1.0  \n",
       "859564            Jerry Flynn  1.0  \n",
       "859523      Mortimer Brewster  1.0  \n",
       "859559             Ernie Mott  1.0  \n",
       "859558            Cole Porter  1.0  \n",
       "859561                 Devlin  1.0  \n",
       "859578            Dick Nugent  1.0  \n",
       "859579                 Dudley  1.0  \n",
       "859554          Jim Blandings  1.0  \n",
       "859535      Dr. Madison Brown  1.0  \n",
       "859544  Captain Henri Rochard  1.0  "
      ]
     },
     "execution_count": 116,
     "metadata": {},
     "output_type": "execute_result"
    }
   ],
   "source": [
    "c[(c.n == 1)&(c.name =='Cary Grant')&(c.year//10 ==194)].sort_values('year')"
   ]
  },
  {
   "cell_type": "code",
   "execution_count": null,
   "metadata": {
    "collapsed": true
   },
   "outputs": [],
   "source": []
  },
  {
   "cell_type": "markdown",
   "metadata": {
    "collapsed": true
   },
   "source": [
    "### How many roles were available for actors in the 1950s?"
   ]
  },
  {
   "cell_type": "code",
   "execution_count": 118,
   "metadata": {
    "collapsed": false
   },
   "outputs": [
    {
     "data": {
      "text/plain": [
       "156774"
      ]
     },
     "execution_count": 118,
     "metadata": {},
     "output_type": "execute_result"
    }
   ],
   "source": [
    "len(c[(c.year//10==195)&(c.type =='actor')])"
   ]
  },
  {
   "cell_type": "code",
   "execution_count": null,
   "metadata": {
    "collapsed": true
   },
   "outputs": [],
   "source": []
  },
  {
   "cell_type": "markdown",
   "metadata": {
    "collapsed": true
   },
   "source": [
    "### How many roles were avilable for actresses in the 1950s?"
   ]
  },
  {
   "cell_type": "code",
   "execution_count": 119,
   "metadata": {
    "collapsed": false
   },
   "outputs": [
    {
     "data": {
      "text/plain": [
       "56992"
      ]
     },
     "execution_count": 119,
     "metadata": {},
     "output_type": "execute_result"
    }
   ],
   "source": [
    "len(c[(c.year//10==195)&(c.type =='actress')])"
   ]
  },
  {
   "cell_type": "code",
   "execution_count": null,
   "metadata": {
    "collapsed": true
   },
   "outputs": [],
   "source": []
  },
  {
   "cell_type": "markdown",
   "metadata": {
    "collapsed": true
   },
   "source": [
    "### How many leading roles (n=1) were available from the beginning of film history through 1980?"
   ]
  },
  {
   "cell_type": "code",
   "execution_count": 120,
   "metadata": {
    "collapsed": false
   },
   "outputs": [
    {
     "data": {
      "text/plain": [
       "64585"
      ]
     },
     "execution_count": 120,
     "metadata": {},
     "output_type": "execute_result"
    }
   ],
   "source": [
    "len(c[(c.n ==1)&(c.year <=1980)])"
   ]
  },
  {
   "cell_type": "code",
   "execution_count": null,
   "metadata": {
    "collapsed": true
   },
   "outputs": [],
   "source": []
  },
  {
   "cell_type": "markdown",
   "metadata": {
    "collapsed": true
   },
   "source": [
    "### How many non-leading roles were available through from the beginning of film history through 1980?"
   ]
  },
  {
   "cell_type": "code",
   "execution_count": 121,
   "metadata": {
    "collapsed": false
   },
   "outputs": [
    {
     "data": {
      "text/plain": [
       "1106782"
      ]
     },
     "execution_count": 121,
     "metadata": {},
     "output_type": "execute_result"
    }
   ],
   "source": [
    "len(c[(c.n !=1)&(c.year <=1980)])"
   ]
  },
  {
   "cell_type": "code",
   "execution_count": null,
   "metadata": {
    "collapsed": true
   },
   "outputs": [],
   "source": []
  },
  {
   "cell_type": "markdown",
   "metadata": {
    "collapsed": true
   },
   "source": [
    "### How many roles through 1980 were minor enough that they did not warrant a numeric \"n\" rank?"
   ]
  },
  {
   "cell_type": "code",
   "execution_count": 122,
   "metadata": {
    "collapsed": false
   },
   "outputs": [
    {
     "data": {
      "text/plain": [
       "443620"
      ]
     },
     "execution_count": 122,
     "metadata": {},
     "output_type": "execute_result"
    }
   ],
   "source": [
    "len(c[(c.n.isnull())&(c.year <=1980)])"
   ]
  },
  {
   "cell_type": "code",
   "execution_count": null,
   "metadata": {
    "collapsed": true
   },
   "outputs": [],
   "source": []
  },
  {
   "cell_type": "code",
   "execution_count": null,
   "metadata": {
    "collapsed": true
   },
   "outputs": [],
   "source": []
  },
  {
   "cell_type": "code",
   "execution_count": null,
   "metadata": {
    "collapsed": true
   },
   "outputs": [],
   "source": []
  },
  {
   "cell_type": "code",
   "execution_count": null,
   "metadata": {
    "collapsed": true
   },
   "outputs": [],
   "source": []
  },
  {
   "cell_type": "code",
   "execution_count": null,
   "metadata": {
    "collapsed": true
   },
   "outputs": [],
   "source": []
  },
  {
   "cell_type": "code",
   "execution_count": null,
   "metadata": {
    "collapsed": true
   },
   "outputs": [],
   "source": []
  },
  {
   "cell_type": "code",
   "execution_count": null,
   "metadata": {
    "collapsed": true
   },
   "outputs": [],
   "source": []
  },
  {
   "cell_type": "code",
   "execution_count": null,
   "metadata": {
    "collapsed": true
   },
   "outputs": [],
   "source": []
  },
  {
   "cell_type": "code",
   "execution_count": null,
   "metadata": {
    "collapsed": true
   },
   "outputs": [],
   "source": []
  },
  {
   "cell_type": "code",
   "execution_count": null,
   "metadata": {
    "collapsed": true
   },
   "outputs": [],
   "source": []
  },
  {
   "cell_type": "code",
   "execution_count": null,
   "metadata": {
    "collapsed": true
   },
   "outputs": [],
   "source": []
  },
  {
   "cell_type": "code",
   "execution_count": null,
   "metadata": {
    "collapsed": true
   },
   "outputs": [],
   "source": []
  },
  {
   "cell_type": "code",
   "execution_count": 7,
   "metadata": {
    "collapsed": false
   },
   "outputs": [
    {
     "data": {
      "text/html": [
       "<div>\n",
       "<table border=\"1\" class=\"dataframe\">\n",
       "  <thead>\n",
       "    <tr style=\"text-align: right;\">\n",
       "      <th></th>\n",
       "      <th>title</th>\n",
       "      <th>year</th>\n",
       "    </tr>\n",
       "  </thead>\n",
       "  <tbody>\n",
       "    <tr>\n",
       "      <th>0</th>\n",
       "      <td>Hand in Hand</td>\n",
       "      <td>1985</td>\n",
       "    </tr>\n",
       "    <tr>\n",
       "      <th>1</th>\n",
       "      <td>The Caravaggio Conspiracy</td>\n",
       "      <td>1984</td>\n",
       "    </tr>\n",
       "    <tr>\n",
       "      <th>2</th>\n",
       "      <td>Postcard Days</td>\n",
       "      <td>2010</td>\n",
       "    </tr>\n",
       "    <tr>\n",
       "      <th>3</th>\n",
       "      <td>Haebyeoneuro gada</td>\n",
       "      <td>2000</td>\n",
       "    </tr>\n",
       "    <tr>\n",
       "      <th>4</th>\n",
       "      <td>Royal Blues</td>\n",
       "      <td>1997</td>\n",
       "    </tr>\n",
       "    <tr>\n",
       "      <th>5</th>\n",
       "      <td>We Are Your Friends</td>\n",
       "      <td>2015</td>\n",
       "    </tr>\n",
       "    <tr>\n",
       "      <th>6</th>\n",
       "      <td>Sayonara natsu yasumi</td>\n",
       "      <td>2010</td>\n",
       "    </tr>\n",
       "    <tr>\n",
       "      <th>7</th>\n",
       "      <td>Gerda</td>\n",
       "      <td>1992</td>\n",
       "    </tr>\n",
       "    <tr>\n",
       "      <th>8</th>\n",
       "      <td>Hubo</td>\n",
       "      <td>2012</td>\n",
       "    </tr>\n",
       "    <tr>\n",
       "      <th>9</th>\n",
       "      <td>Mere Meharban</td>\n",
       "      <td>1992</td>\n",
       "    </tr>\n",
       "    <tr>\n",
       "      <th>10</th>\n",
       "      <td>Three's a Shroud</td>\n",
       "      <td>2012</td>\n",
       "    </tr>\n",
       "    <tr>\n",
       "      <th>11</th>\n",
       "      <td>Guerrero</td>\n",
       "      <td>1955</td>\n",
       "    </tr>\n",
       "    <tr>\n",
       "      <th>12</th>\n",
       "      <td>Should a Woman Tell?</td>\n",
       "      <td>1919</td>\n",
       "    </tr>\n",
       "    <tr>\n",
       "      <th>13</th>\n",
       "      <td>Murder on the Orient Express</td>\n",
       "      <td>1974</td>\n",
       "    </tr>\n",
       "    <tr>\n",
       "      <th>14</th>\n",
       "      <td>Shift (Shiljilt)</td>\n",
       "      <td>2017</td>\n",
       "    </tr>\n",
       "    <tr>\n",
       "      <th>15</th>\n",
       "      <td>Expect Delays</td>\n",
       "      <td>2015</td>\n",
       "    </tr>\n",
       "    <tr>\n",
       "      <th>16</th>\n",
       "      <td>...A vy lyubili kogda-nibud?</td>\n",
       "      <td>1973</td>\n",
       "    </tr>\n",
       "    <tr>\n",
       "      <th>17</th>\n",
       "      <td>O Mihalios tou 14ou Syntagmatos</td>\n",
       "      <td>1962</td>\n",
       "    </tr>\n",
       "    <tr>\n",
       "      <th>18</th>\n",
       "      <td>Trois mondes</td>\n",
       "      <td>2012</td>\n",
       "    </tr>\n",
       "    <tr>\n",
       "      <th>19</th>\n",
       "      <td>Prinzessin Lillifee und das kleine Einhorn</td>\n",
       "      <td>2011</td>\n",
       "    </tr>\n",
       "    <tr>\n",
       "      <th>20</th>\n",
       "      <td>Nanu Nanna Hendthi</td>\n",
       "      <td>1985</td>\n",
       "    </tr>\n",
       "    <tr>\n",
       "      <th>21</th>\n",
       "      <td>Friederike von Barring</td>\n",
       "      <td>1956</td>\n",
       "    </tr>\n",
       "    <tr>\n",
       "      <th>22</th>\n",
       "      <td>Misery</td>\n",
       "      <td>1990</td>\n",
       "    </tr>\n",
       "    <tr>\n",
       "      <th>23</th>\n",
       "      <td>Last Call (II)</td>\n",
       "      <td>2016</td>\n",
       "    </tr>\n",
       "    <tr>\n",
       "      <th>24</th>\n",
       "      <td>Korinne</td>\n",
       "      <td>2016</td>\n",
       "    </tr>\n",
       "    <tr>\n",
       "      <th>25</th>\n",
       "      <td>Dag Jan</td>\n",
       "      <td>1993</td>\n",
       "    </tr>\n",
       "    <tr>\n",
       "      <th>26</th>\n",
       "      <td>Fourplay</td>\n",
       "      <td>1972</td>\n",
       "    </tr>\n",
       "    <tr>\n",
       "      <th>27</th>\n",
       "      <td>Hopeakihlajaiset</td>\n",
       "      <td>1942</td>\n",
       "    </tr>\n",
       "    <tr>\n",
       "      <th>28</th>\n",
       "      <td>The Great Indian Butterfly</td>\n",
       "      <td>2007</td>\n",
       "    </tr>\n",
       "    <tr>\n",
       "      <th>29</th>\n",
       "      <td>To my</td>\n",
       "      <td>2000</td>\n",
       "    </tr>\n",
       "    <tr>\n",
       "      <th>...</th>\n",
       "      <td>...</td>\n",
       "      <td>...</td>\n",
       "    </tr>\n",
       "    <tr>\n",
       "      <th>233045</th>\n",
       "      <td>Try This One for Size</td>\n",
       "      <td>1989</td>\n",
       "    </tr>\n",
       "    <tr>\n",
       "      <th>233046</th>\n",
       "      <td>Hu Du Men</td>\n",
       "      <td>1996</td>\n",
       "    </tr>\n",
       "    <tr>\n",
       "      <th>233047</th>\n",
       "      <td>Sap yuet co ng dik yuet gwong</td>\n",
       "      <td>2015</td>\n",
       "    </tr>\n",
       "    <tr>\n",
       "      <th>233048</th>\n",
       "      <td>Manu</td>\n",
       "      <td>2017</td>\n",
       "    </tr>\n",
       "    <tr>\n",
       "      <th>233049</th>\n",
       "      <td>Having My Baby</td>\n",
       "      <td>2009</td>\n",
       "    </tr>\n",
       "    <tr>\n",
       "      <th>233050</th>\n",
       "      <td>Brahmastram</td>\n",
       "      <td>2007</td>\n",
       "    </tr>\n",
       "    <tr>\n",
       "      <th>233051</th>\n",
       "      <td>Mercury Rising</td>\n",
       "      <td>1998</td>\n",
       "    </tr>\n",
       "    <tr>\n",
       "      <th>233052</th>\n",
       "      <td>Up for Grabs: One for the Money</td>\n",
       "      <td>2008</td>\n",
       "    </tr>\n",
       "    <tr>\n",
       "      <th>233053</th>\n",
       "      <td>Patriots Day</td>\n",
       "      <td>2016</td>\n",
       "    </tr>\n",
       "    <tr>\n",
       "      <th>233054</th>\n",
       "      <td>Zai jian wang lao wu</td>\n",
       "      <td>1989</td>\n",
       "    </tr>\n",
       "    <tr>\n",
       "      <th>233055</th>\n",
       "      <td>Red Dawn</td>\n",
       "      <td>2012</td>\n",
       "    </tr>\n",
       "    <tr>\n",
       "      <th>233056</th>\n",
       "      <td>Ein April hat 30 Tage</td>\n",
       "      <td>1979</td>\n",
       "    </tr>\n",
       "    <tr>\n",
       "      <th>233057</th>\n",
       "      <td>Heaven on Earth</td>\n",
       "      <td>1960</td>\n",
       "    </tr>\n",
       "    <tr>\n",
       "      <th>233058</th>\n",
       "      <td>Anjo do Lodo</td>\n",
       "      <td>1951</td>\n",
       "    </tr>\n",
       "    <tr>\n",
       "      <th>233059</th>\n",
       "      <td>Hibari no hanagata tantei kassen</td>\n",
       "      <td>1958</td>\n",
       "    </tr>\n",
       "    <tr>\n",
       "      <th>233060</th>\n",
       "      <td>Supernatural Activity</td>\n",
       "      <td>2012</td>\n",
       "    </tr>\n",
       "    <tr>\n",
       "      <th>233061</th>\n",
       "      <td>The Quiet Storm</td>\n",
       "      <td>2004</td>\n",
       "    </tr>\n",
       "    <tr>\n",
       "      <th>233062</th>\n",
       "      <td>Alimony Lovers</td>\n",
       "      <td>1969</td>\n",
       "    </tr>\n",
       "    <tr>\n",
       "      <th>233063</th>\n",
       "      <td>Naked Fog</td>\n",
       "      <td>1966</td>\n",
       "    </tr>\n",
       "    <tr>\n",
       "      <th>233064</th>\n",
       "      <td>In Over My Head</td>\n",
       "      <td>2012</td>\n",
       "    </tr>\n",
       "    <tr>\n",
       "      <th>233065</th>\n",
       "      <td>Satyabhama</td>\n",
       "      <td>2007</td>\n",
       "    </tr>\n",
       "    <tr>\n",
       "      <th>233066</th>\n",
       "      <td>Argyle</td>\n",
       "      <td>2011</td>\n",
       "    </tr>\n",
       "    <tr>\n",
       "      <th>233067</th>\n",
       "      <td>Gulag Magadan</td>\n",
       "      <td>2017</td>\n",
       "    </tr>\n",
       "    <tr>\n",
       "      <th>233068</th>\n",
       "      <td>Rothchild</td>\n",
       "      <td>1933</td>\n",
       "    </tr>\n",
       "    <tr>\n",
       "      <th>233069</th>\n",
       "      <td>Where the Dogs Divide Her</td>\n",
       "      <td>2011</td>\n",
       "    </tr>\n",
       "    <tr>\n",
       "      <th>233070</th>\n",
       "      <td>Drzava</td>\n",
       "      <td>2013</td>\n",
       "    </tr>\n",
       "    <tr>\n",
       "      <th>233071</th>\n",
       "      <td>A Good Old Fashioned Orgy</td>\n",
       "      <td>2011</td>\n",
       "    </tr>\n",
       "    <tr>\n",
       "      <th>233072</th>\n",
       "      <td>Hai dao le yuan</td>\n",
       "      <td>2012</td>\n",
       "    </tr>\n",
       "    <tr>\n",
       "      <th>233073</th>\n",
       "      <td>Solo quiero caminar</td>\n",
       "      <td>2008</td>\n",
       "    </tr>\n",
       "    <tr>\n",
       "      <th>233074</th>\n",
       "      <td>Batida de raposas</td>\n",
       "      <td>1976</td>\n",
       "    </tr>\n",
       "  </tbody>\n",
       "</table>\n",
       "<p>233075 rows × 2 columns</p>\n",
       "</div>"
      ],
      "text/plain": [
       "                                             title  year\n",
       "0                                     Hand in Hand  1985\n",
       "1                        The Caravaggio Conspiracy  1984\n",
       "2                                    Postcard Days  2010\n",
       "3                                Haebyeoneuro gada  2000\n",
       "4                                      Royal Blues  1997\n",
       "5                              We Are Your Friends  2015\n",
       "6                            Sayonara natsu yasumi  2010\n",
       "7                                            Gerda  1992\n",
       "8                                             Hubo  2012\n",
       "9                                    Mere Meharban  1992\n",
       "10                                Three's a Shroud  2012\n",
       "11                                        Guerrero  1955\n",
       "12                            Should a Woman Tell?  1919\n",
       "13                    Murder on the Orient Express  1974\n",
       "14                                Shift (Shiljilt)  2017\n",
       "15                                   Expect Delays  2015\n",
       "16                    ...A vy lyubili kogda-nibud?  1973\n",
       "17                 O Mihalios tou 14ou Syntagmatos  1962\n",
       "18                                    Trois mondes  2012\n",
       "19      Prinzessin Lillifee und das kleine Einhorn  2011\n",
       "20                              Nanu Nanna Hendthi  1985\n",
       "21                          Friederike von Barring  1956\n",
       "22                                          Misery  1990\n",
       "23                                  Last Call (II)  2016\n",
       "24                                         Korinne  2016\n",
       "25                                         Dag Jan  1993\n",
       "26                                        Fourplay  1972\n",
       "27                                Hopeakihlajaiset  1942\n",
       "28                      The Great Indian Butterfly  2007\n",
       "29                                           To my  2000\n",
       "...                                            ...   ...\n",
       "233045                       Try This One for Size  1989\n",
       "233046                                   Hu Du Men  1996\n",
       "233047               Sap yuet co ng dik yuet gwong  2015\n",
       "233048                                        Manu  2017\n",
       "233049                              Having My Baby  2009\n",
       "233050                                 Brahmastram  2007\n",
       "233051                              Mercury Rising  1998\n",
       "233052             Up for Grabs: One for the Money  2008\n",
       "233053                                Patriots Day  2016\n",
       "233054                        Zai jian wang lao wu  1989\n",
       "233055                                    Red Dawn  2012\n",
       "233056                       Ein April hat 30 Tage  1979\n",
       "233057                             Heaven on Earth  1960\n",
       "233058                                Anjo do Lodo  1951\n",
       "233059            Hibari no hanagata tantei kassen  1958\n",
       "233060                       Supernatural Activity  2012\n",
       "233061                             The Quiet Storm  2004\n",
       "233062                              Alimony Lovers  1969\n",
       "233063                                   Naked Fog  1966\n",
       "233064                             In Over My Head  2012\n",
       "233065                                  Satyabhama  2007\n",
       "233066                                      Argyle  2011\n",
       "233067                               Gulag Magadan  2017\n",
       "233068                                   Rothchild  1933\n",
       "233069                   Where the Dogs Divide Her  2011\n",
       "233070                                      Drzava  2013\n",
       "233071                   A Good Old Fashioned Orgy  2011\n",
       "233072                             Hai dao le yuan  2012\n",
       "233073                         Solo quiero caminar  2008\n",
       "233074                           Batida de raposas  1976\n",
       "\n",
       "[233075 rows x 2 columns]"
      ]
     },
     "execution_count": 7,
     "metadata": {},
     "output_type": "execute_result"
    }
   ],
   "source": [
    "titles"
   ]
  },
  {
   "cell_type": "code",
   "execution_count": 6,
   "metadata": {
    "collapsed": false
   },
   "outputs": [
    {
     "data": {
      "text/plain": [
       "233075"
      ]
     },
     "execution_count": 6,
     "metadata": {},
     "output_type": "execute_result"
    }
   ],
   "source": [
    "len(titles)"
   ]
  },
  {
   "cell_type": "code",
   "execution_count": 14,
   "metadata": {
    "collapsed": false
   },
   "outputs": [
    {
     "data": {
      "text/html": [
       "<div>\n",
       "<table border=\"1\" class=\"dataframe\">\n",
       "  <thead>\n",
       "    <tr style=\"text-align: right;\">\n",
       "      <th></th>\n",
       "      <th>title</th>\n",
       "      <th>year</th>\n",
       "    </tr>\n",
       "  </thead>\n",
       "  <tbody>\n",
       "    <tr>\n",
       "      <th>0</th>\n",
       "      <td>Hand in Hand</td>\n",
       "      <td>1985</td>\n",
       "    </tr>\n",
       "    <tr>\n",
       "      <th>1</th>\n",
       "      <td>The Caravaggio Conspiracy</td>\n",
       "      <td>1984</td>\n",
       "    </tr>\n",
       "    <tr>\n",
       "      <th>2</th>\n",
       "      <td>Postcard Days</td>\n",
       "      <td>2010</td>\n",
       "    </tr>\n",
       "    <tr>\n",
       "      <th>3</th>\n",
       "      <td>Haebyeoneuro gada</td>\n",
       "      <td>2000</td>\n",
       "    </tr>\n",
       "    <tr>\n",
       "      <th>4</th>\n",
       "      <td>Royal Blues</td>\n",
       "      <td>1997</td>\n",
       "    </tr>\n",
       "  </tbody>\n",
       "</table>\n",
       "</div>"
      ],
      "text/plain": [
       "                       title  year\n",
       "0               Hand in Hand  1985\n",
       "1  The Caravaggio Conspiracy  1984\n",
       "2              Postcard Days  2010\n",
       "3          Haebyeoneuro gada  2000\n",
       "4                Royal Blues  1997"
      ]
     },
     "execution_count": 14,
     "metadata": {},
     "output_type": "execute_result"
    }
   ],
   "source": [
    "h = titles.head()\n",
    "h"
   ]
  },
  {
   "cell_type": "code",
   "execution_count": 15,
   "metadata": {
    "collapsed": false
   },
   "outputs": [
    {
     "data": {
      "text/html": [
       "<div>\n",
       "<table border=\"1\" class=\"dataframe\">\n",
       "  <thead>\n",
       "    <tr style=\"text-align: right;\">\n",
       "      <th></th>\n",
       "      <th>title</th>\n",
       "      <th>year</th>\n",
       "    </tr>\n",
       "  </thead>\n",
       "  <tbody>\n",
       "    <tr>\n",
       "      <th>233070</th>\n",
       "      <td>Drzava</td>\n",
       "      <td>2013</td>\n",
       "    </tr>\n",
       "    <tr>\n",
       "      <th>233071</th>\n",
       "      <td>A Good Old Fashioned Orgy</td>\n",
       "      <td>2011</td>\n",
       "    </tr>\n",
       "    <tr>\n",
       "      <th>233072</th>\n",
       "      <td>Hai dao le yuan</td>\n",
       "      <td>2012</td>\n",
       "    </tr>\n",
       "    <tr>\n",
       "      <th>233073</th>\n",
       "      <td>Solo quiero caminar</td>\n",
       "      <td>2008</td>\n",
       "    </tr>\n",
       "    <tr>\n",
       "      <th>233074</th>\n",
       "      <td>Batida de raposas</td>\n",
       "      <td>1976</td>\n",
       "    </tr>\n",
       "  </tbody>\n",
       "</table>\n",
       "</div>"
      ],
      "text/plain": [
       "                            title  year\n",
       "233070                     Drzava  2013\n",
       "233071  A Good Old Fashioned Orgy  2011\n",
       "233072            Hai dao le yuan  2012\n",
       "233073        Solo quiero caminar  2008\n",
       "233074          Batida de raposas  1976"
      ]
     },
     "execution_count": 15,
     "metadata": {},
     "output_type": "execute_result"
    }
   ],
   "source": [
    "t = titles.tail()\n",
    "t"
   ]
  },
  {
   "cell_type": "code",
   "execution_count": 16,
   "metadata": {
    "collapsed": false
   },
   "outputs": [
    {
     "data": {
      "text/plain": [
       "0    1985\n",
       "1    1984\n",
       "2    2010\n",
       "3    2000\n",
       "4    1997\n",
       "Name: year, dtype: int64"
      ]
     },
     "execution_count": 16,
     "metadata": {},
     "output_type": "execute_result"
    }
   ],
   "source": [
    "h['year']"
   ]
  },
  {
   "cell_type": "code",
   "execution_count": 17,
   "metadata": {
    "collapsed": false
   },
   "outputs": [
    {
     "data": {
      "text/plain": [
       "0    198\n",
       "1    198\n",
       "2    201\n",
       "3    200\n",
       "4    199\n",
       "Name: year, dtype: int64"
      ]
     },
     "execution_count": 17,
     "metadata": {},
     "output_type": "execute_result"
    }
   ],
   "source": [
    "h['year'] //10"
   ]
  },
  {
   "cell_type": "code",
   "execution_count": 18,
   "metadata": {
    "collapsed": false
   },
   "outputs": [
    {
     "data": {
      "text/plain": [
       "0    1980\n",
       "1    1980\n",
       "2    2010\n",
       "3    2000\n",
       "4    1990\n",
       "Name: year, dtype: int64"
      ]
     },
     "execution_count": 18,
     "metadata": {},
     "output_type": "execute_result"
    }
   ],
   "source": [
    "h['year']//10*10"
   ]
  },
  {
   "cell_type": "code",
   "execution_count": 19,
   "metadata": {
    "collapsed": false
   },
   "outputs": [
    {
     "data": {
      "text/plain": [
       "0    False\n",
       "1    False\n",
       "2     True\n",
       "3     True\n",
       "4     True\n",
       "Name: year, dtype: bool"
      ]
     },
     "execution_count": 19,
     "metadata": {},
     "output_type": "execute_result"
    }
   ],
   "source": [
    "h.year > 1985"
   ]
  },
  {
   "cell_type": "code",
   "execution_count": 21,
   "metadata": {
    "collapsed": false
   },
   "outputs": [
    {
     "data": {
      "text/html": [
       "<div>\n",
       "<table border=\"1\" class=\"dataframe\">\n",
       "  <thead>\n",
       "    <tr style=\"text-align: right;\">\n",
       "      <th></th>\n",
       "      <th>title</th>\n",
       "      <th>year</th>\n",
       "    </tr>\n",
       "  </thead>\n",
       "  <tbody>\n",
       "    <tr>\n",
       "      <th>2</th>\n",
       "      <td>Postcard Days</td>\n",
       "      <td>2010</td>\n",
       "    </tr>\n",
       "    <tr>\n",
       "      <th>3</th>\n",
       "      <td>Haebyeoneuro gada</td>\n",
       "      <td>2000</td>\n",
       "    </tr>\n",
       "    <tr>\n",
       "      <th>4</th>\n",
       "      <td>Royal Blues</td>\n",
       "      <td>1997</td>\n",
       "    </tr>\n",
       "  </tbody>\n",
       "</table>\n",
       "</div>"
      ],
      "text/plain": [
       "               title  year\n",
       "2      Postcard Days  2010\n",
       "3  Haebyeoneuro gada  2000\n",
       "4        Royal Blues  1997"
      ]
     },
     "execution_count": 21,
     "metadata": {},
     "output_type": "execute_result"
    }
   ],
   "source": [
    "h[h.year >1985]"
   ]
  },
  {
   "cell_type": "code",
   "execution_count": 24,
   "metadata": {
    "collapsed": false
   },
   "outputs": [
    {
     "data": {
      "text/html": [
       "<div>\n",
       "<table border=\"1\" class=\"dataframe\">\n",
       "  <thead>\n",
       "    <tr style=\"text-align: right;\">\n",
       "      <th></th>\n",
       "      <th>title</th>\n",
       "      <th>year</th>\n",
       "    </tr>\n",
       "  </thead>\n",
       "  <tbody>\n",
       "    <tr>\n",
       "      <th>3</th>\n",
       "      <td>Haebyeoneuro gada</td>\n",
       "      <td>2000</td>\n",
       "    </tr>\n",
       "    <tr>\n",
       "      <th>4</th>\n",
       "      <td>Royal Blues</td>\n",
       "      <td>1997</td>\n",
       "    </tr>\n",
       "  </tbody>\n",
       "</table>\n",
       "</div>"
      ],
      "text/plain": [
       "               title  year\n",
       "3  Haebyeoneuro gada  2000\n",
       "4        Royal Blues  1997"
      ]
     },
     "execution_count": 24,
     "metadata": {},
     "output_type": "execute_result"
    }
   ],
   "source": [
    "h[(h.year >1985) & (h.year <= 2002)]\n",
    "# if you want or: |\n",
    "#if you want and: &"
   ]
  },
  {
   "cell_type": "code",
   "execution_count": 30,
   "metadata": {
    "collapsed": false
   },
   "outputs": [
    {
     "data": {
      "text/html": [
       "<div>\n",
       "<table border=\"1\" class=\"dataframe\">\n",
       "  <thead>\n",
       "    <tr style=\"text-align: right;\">\n",
       "      <th></th>\n",
       "      <th>title</th>\n",
       "      <th>year</th>\n",
       "    </tr>\n",
       "  </thead>\n",
       "  <tbody>\n",
       "    <tr>\n",
       "      <th>173216</th>\n",
       "      <td>Macbeth</td>\n",
       "      <td>2012</td>\n",
       "    </tr>\n",
       "    <tr>\n",
       "      <th>28531</th>\n",
       "      <td>Macbeth</td>\n",
       "      <td>2013</td>\n",
       "    </tr>\n",
       "    <tr>\n",
       "      <th>206540</th>\n",
       "      <td>Macbeth</td>\n",
       "      <td>2014</td>\n",
       "    </tr>\n",
       "    <tr>\n",
       "      <th>73695</th>\n",
       "      <td>Macbeth</td>\n",
       "      <td>2015</td>\n",
       "    </tr>\n",
       "    <tr>\n",
       "      <th>145707</th>\n",
       "      <td>Macbeth</td>\n",
       "      <td>2017</td>\n",
       "    </tr>\n",
       "  </tbody>\n",
       "</table>\n",
       "</div>"
      ],
      "text/plain": [
       "          title  year\n",
       "173216  Macbeth  2012\n",
       "28531   Macbeth  2013\n",
       "206540  Macbeth  2014\n",
       "73695   Macbeth  2015\n",
       "145707  Macbeth  2017"
      ]
     },
     "execution_count": 30,
     "metadata": {},
     "output_type": "execute_result"
    }
   ],
   "source": [
    "t=titles\n",
    "t[t.title == 'Macbeth'].sort_values('year').tail()"
   ]
  },
  {
   "cell_type": "code",
   "execution_count": 33,
   "metadata": {
    "collapsed": false
   },
   "outputs": [
    {
     "data": {
      "text/plain": [
       "122124    1894\n",
       "152128    1898\n",
       "103519    1899\n",
       "158492    1900\n",
       "60061     1900\n",
       "14291     1900\n",
       "5727      1900\n",
       "20015     1900\n",
       "134996    1903\n",
       "103191    1905\n",
       "221577    1905\n",
       "47501     1906\n",
       "230348    1906\n",
       "59775     1906\n",
       "221637    1906\n",
       "229976    1906\n",
       "105551    1907\n",
       "2473      1907\n",
       "206995    1907\n",
       "130939    1907\n",
       "114712    1907\n",
       "193760    1908\n",
       "130081    1908\n",
       "89704     1908\n",
       "219938    1908\n",
       "212018    1908\n",
       "61017     1908\n",
       "146945    1909\n",
       "113049    1909\n",
       "185486    1909\n",
       "          ... \n",
       "207523    2020\n",
       "29952     2020\n",
       "126937    2020\n",
       "26842     2020\n",
       "51346     2020\n",
       "216603    2020\n",
       "104717    2020\n",
       "132995    2020\n",
       "3321      2020\n",
       "224989    2021\n",
       "54547     2021\n",
       "158743    2021\n",
       "30617     2021\n",
       "40323     2021\n",
       "22573     2021\n",
       "131200    2021\n",
       "84440     2021\n",
       "69140     2021\n",
       "152683    2021\n",
       "70215     2021\n",
       "115795    2022\n",
       "19358     2022\n",
       "137405    2022\n",
       "109408    2022\n",
       "189805    2022\n",
       "121050    2022\n",
       "6828      2024\n",
       "129319    2024\n",
       "152559    2025\n",
       "190121    2115\n",
       "Name: year, dtype: int64"
      ]
     },
     "execution_count": 33,
     "metadata": {},
     "output_type": "execute_result"
    }
   ],
   "source": [
    "t.year.sort_values()"
   ]
  },
  {
   "cell_type": "code",
   "execution_count": 34,
   "metadata": {
    "collapsed": false
   },
   "outputs": [
    {
     "data": {
      "text/html": [
       "<div>\n",
       "<table border=\"1\" class=\"dataframe\">\n",
       "  <thead>\n",
       "    <tr style=\"text-align: right;\">\n",
       "      <th></th>\n",
       "      <th>title</th>\n",
       "      <th>year</th>\n",
       "      <th>name</th>\n",
       "      <th>type</th>\n",
       "      <th>character</th>\n",
       "      <th>n</th>\n",
       "    </tr>\n",
       "  </thead>\n",
       "  <tbody>\n",
       "    <tr>\n",
       "      <th>0</th>\n",
       "      <td>Closet Monster</td>\n",
       "      <td>2015</td>\n",
       "      <td>Buffy #1</td>\n",
       "      <td>actor</td>\n",
       "      <td>Buffy 4</td>\n",
       "      <td>31.0</td>\n",
       "    </tr>\n",
       "    <tr>\n",
       "      <th>1</th>\n",
       "      <td>Suuri illusioni</td>\n",
       "      <td>1985</td>\n",
       "      <td>Homo $</td>\n",
       "      <td>actor</td>\n",
       "      <td>Guests</td>\n",
       "      <td>22.0</td>\n",
       "    </tr>\n",
       "    <tr>\n",
       "      <th>2</th>\n",
       "      <td>Battle of the Sexes</td>\n",
       "      <td>2017</td>\n",
       "      <td>$hutter</td>\n",
       "      <td>actor</td>\n",
       "      <td>Bobby Riggs Fan</td>\n",
       "      <td>10.0</td>\n",
       "    </tr>\n",
       "    <tr>\n",
       "      <th>3</th>\n",
       "      <td>Secret in Their Eyes</td>\n",
       "      <td>2015</td>\n",
       "      <td>$hutter</td>\n",
       "      <td>actor</td>\n",
       "      <td>2002 Dodger Fan</td>\n",
       "      <td>NaN</td>\n",
       "    </tr>\n",
       "    <tr>\n",
       "      <th>4</th>\n",
       "      <td>Steve Jobs</td>\n",
       "      <td>2015</td>\n",
       "      <td>$hutter</td>\n",
       "      <td>actor</td>\n",
       "      <td>1988 Opera House Patron</td>\n",
       "      <td>NaN</td>\n",
       "    </tr>\n",
       "    <tr>\n",
       "      <th>5</th>\n",
       "      <td>Straight Outta Compton</td>\n",
       "      <td>2015</td>\n",
       "      <td>$hutter</td>\n",
       "      <td>actor</td>\n",
       "      <td>Club Patron</td>\n",
       "      <td>NaN</td>\n",
       "    </tr>\n",
       "    <tr>\n",
       "      <th>6</th>\n",
       "      <td>Straight Outta Compton</td>\n",
       "      <td>2015</td>\n",
       "      <td>$hutter</td>\n",
       "      <td>actor</td>\n",
       "      <td>Dopeman</td>\n",
       "      <td>NaN</td>\n",
       "    </tr>\n",
       "    <tr>\n",
       "      <th>7</th>\n",
       "      <td>For Thy Love 2</td>\n",
       "      <td>2009</td>\n",
       "      <td>Bee Moe $lim</td>\n",
       "      <td>actor</td>\n",
       "      <td>Thug 1</td>\n",
       "      <td>NaN</td>\n",
       "    </tr>\n",
       "    <tr>\n",
       "      <th>8</th>\n",
       "      <td>Lapis, Ballpen at Diploma, a True to Life Journey</td>\n",
       "      <td>2014</td>\n",
       "      <td>Jori ' Danilo' Jurado Jr.</td>\n",
       "      <td>actor</td>\n",
       "      <td>Jaime (young)</td>\n",
       "      <td>9.0</td>\n",
       "    </tr>\n",
       "    <tr>\n",
       "      <th>9</th>\n",
       "      <td>Desire (III)</td>\n",
       "      <td>2014</td>\n",
       "      <td>Syaiful 'Ariffin</td>\n",
       "      <td>actor</td>\n",
       "      <td>Actor Playing Eteocles from 'Antigone'</td>\n",
       "      <td>NaN</td>\n",
       "    </tr>\n",
       "    <tr>\n",
       "      <th>10</th>\n",
       "      <td>When the Man Went South</td>\n",
       "      <td>2014</td>\n",
       "      <td>Taipaleti 'Atu'ake</td>\n",
       "      <td>actor</td>\n",
       "      <td>Two Palms - Ua'i Paame</td>\n",
       "      <td>8.0</td>\n",
       "    </tr>\n",
       "    <tr>\n",
       "      <th>11</th>\n",
       "      <td>Little Angel (Angelita)</td>\n",
       "      <td>2015</td>\n",
       "      <td>Michael 'babeepower' Viera</td>\n",
       "      <td>actor</td>\n",
       "      <td>Chico</td>\n",
       "      <td>9.0</td>\n",
       "    </tr>\n",
       "    <tr>\n",
       "      <th>12</th>\n",
       "      <td>Mixing Nia</td>\n",
       "      <td>1998</td>\n",
       "      <td>Michael 'babeepower' Viera</td>\n",
       "      <td>actor</td>\n",
       "      <td>Rapper</td>\n",
       "      <td>NaN</td>\n",
       "    </tr>\n",
       "    <tr>\n",
       "      <th>13</th>\n",
       "      <td>The Replacements</td>\n",
       "      <td>2000</td>\n",
       "      <td>Steven 'Bear'Boyd</td>\n",
       "      <td>actor</td>\n",
       "      <td>Defensive Tackle - Washington Sentinels</td>\n",
       "      <td>NaN</td>\n",
       "    </tr>\n",
       "    <tr>\n",
       "      <th>14</th>\n",
       "      <td>All Out Dysfunktion!</td>\n",
       "      <td>2016</td>\n",
       "      <td>Kirlew 'bliss' Vilbon</td>\n",
       "      <td>actor</td>\n",
       "      <td>Bliss</td>\n",
       "      <td>NaN</td>\n",
       "    </tr>\n",
       "    <tr>\n",
       "      <th>15</th>\n",
       "      <td>Gook</td>\n",
       "      <td>2017</td>\n",
       "      <td>Kirlew 'bliss' Vilbon</td>\n",
       "      <td>actor</td>\n",
       "      <td>Bliss</td>\n",
       "      <td>NaN</td>\n",
       "    </tr>\n",
       "    <tr>\n",
       "      <th>16</th>\n",
       "      <td>My Song for You</td>\n",
       "      <td>2010</td>\n",
       "      <td>George 'Bootsy' Thomas</td>\n",
       "      <td>actor</td>\n",
       "      <td>Cooley's Customer</td>\n",
       "      <td>16.0</td>\n",
       "    </tr>\n",
       "    <tr>\n",
       "      <th>17</th>\n",
       "      <td>My Song for You</td>\n",
       "      <td>2010</td>\n",
       "      <td>George 'Bootsy' Thomas</td>\n",
       "      <td>actor</td>\n",
       "      <td>Celebration Guest</td>\n",
       "      <td>16.0</td>\n",
       "    </tr>\n",
       "    <tr>\n",
       "      <th>18</th>\n",
       "      <td>Hustle Beach</td>\n",
       "      <td>2017</td>\n",
       "      <td>Pete 'Boretta' Torres</td>\n",
       "      <td>actor</td>\n",
       "      <td>Tony</td>\n",
       "      <td>NaN</td>\n",
       "    </tr>\n",
       "    <tr>\n",
       "      <th>19</th>\n",
       "      <td>Mariano Mison... NBI</td>\n",
       "      <td>1997</td>\n",
       "      <td>Joseph 'Byron' Sese</td>\n",
       "      <td>actor</td>\n",
       "      <td>Putik's Son</td>\n",
       "      <td>31.0</td>\n",
       "    </tr>\n",
       "    <tr>\n",
       "      <th>20</th>\n",
       "      <td>Natas es Satan</td>\n",
       "      <td>1977</td>\n",
       "      <td>Ramon 'Cartucho' Pena</td>\n",
       "      <td>actor</td>\n",
       "      <td>Nigth Club Owner</td>\n",
       "      <td>NaN</td>\n",
       "    </tr>\n",
       "    <tr>\n",
       "      <th>21</th>\n",
       "      <td>B-Girl</td>\n",
       "      <td>2009</td>\n",
       "      <td>Jesse 'Casper' Brown</td>\n",
       "      <td>actor</td>\n",
       "      <td>Battle Judge</td>\n",
       "      <td>25.0</td>\n",
       "    </tr>\n",
       "    <tr>\n",
       "      <th>22</th>\n",
       "      <td>Battle of the Year</td>\n",
       "      <td>2013</td>\n",
       "      <td>Jesse 'Casper' Brown</td>\n",
       "      <td>actor</td>\n",
       "      <td>Rebel</td>\n",
       "      <td>9.0</td>\n",
       "    </tr>\n",
       "    <tr>\n",
       "      <th>23</th>\n",
       "      <td>Honey 2</td>\n",
       "      <td>2011</td>\n",
       "      <td>Jesse 'Casper' Brown</td>\n",
       "      <td>actor</td>\n",
       "      <td>Freestyle Dancer</td>\n",
       "      <td>73.0</td>\n",
       "    </tr>\n",
       "    <tr>\n",
       "      <th>24</th>\n",
       "      <td>Kickin' It Old Skool</td>\n",
       "      <td>2007</td>\n",
       "      <td>Jesse 'Casper' Brown</td>\n",
       "      <td>actor</td>\n",
       "      <td>Cole</td>\n",
       "      <td>10.0</td>\n",
       "    </tr>\n",
       "    <tr>\n",
       "      <th>25</th>\n",
       "      <td>Step Up All In</td>\n",
       "      <td>2014</td>\n",
       "      <td>Jesse 'Casper' Brown</td>\n",
       "      <td>actor</td>\n",
       "      <td>Grim Knight Dancer</td>\n",
       "      <td>61.0</td>\n",
       "    </tr>\n",
       "    <tr>\n",
       "      <th>26</th>\n",
       "      <td>The LXD: The Secrets of the Ra</td>\n",
       "      <td>2011</td>\n",
       "      <td>Jesse 'Casper' Brown</td>\n",
       "      <td>actor</td>\n",
       "      <td>Fangz</td>\n",
       "      <td>NaN</td>\n",
       "    </tr>\n",
       "    <tr>\n",
       "      <th>27</th>\n",
       "      <td>Todo x Sara</td>\n",
       "      <td>2014</td>\n",
       "      <td>Gil 'Colibri'Viera</td>\n",
       "      <td>actor</td>\n",
       "      <td>Llavero</td>\n",
       "      <td>NaN</td>\n",
       "    </tr>\n",
       "    <tr>\n",
       "      <th>28</th>\n",
       "      <td>Barrio Gangsters</td>\n",
       "      <td>2009</td>\n",
       "      <td>Marcelino 'Dibujo' Torres</td>\n",
       "      <td>actor</td>\n",
       "      <td>Dibujo</td>\n",
       "      <td>NaN</td>\n",
       "    </tr>\n",
       "    <tr>\n",
       "      <th>29</th>\n",
       "      <td>Cornmeal, Gunpowder, Ham Hocks and Guitar Strings</td>\n",
       "      <td>2015</td>\n",
       "      <td>Donnie 'Dicky' Clemson</td>\n",
       "      <td>actor</td>\n",
       "      <td>Jeb Kinney</td>\n",
       "      <td>NaN</td>\n",
       "    </tr>\n",
       "    <tr>\n",
       "      <th>...</th>\n",
       "      <td>...</td>\n",
       "      <td>...</td>\n",
       "      <td>...</td>\n",
       "      <td>...</td>\n",
       "      <td>...</td>\n",
       "      <td>...</td>\n",
       "    </tr>\n",
       "    <tr>\n",
       "      <th>3698290</th>\n",
       "      <td>Askin kesisme noktasi</td>\n",
       "      <td>1990</td>\n",
       "      <td>Zuhal ?st?ntas</td>\n",
       "      <td>actress</td>\n",
       "      <td>Hira Ana</td>\n",
       "      <td>NaN</td>\n",
       "    </tr>\n",
       "    <tr>\n",
       "      <th>3698291</th>\n",
       "      <td>Dislanmis/Lekeli melek</td>\n",
       "      <td>1993</td>\n",
       "      <td>Zuhal ?st?ntas</td>\n",
       "      <td>actress</td>\n",
       "      <td>Fatma</td>\n",
       "      <td>NaN</td>\n",
       "    </tr>\n",
       "    <tr>\n",
       "      <th>3698292</th>\n",
       "      <td>Bhaag Milkha Bhaag</td>\n",
       "      <td>2013</td>\n",
       "      <td>Pr?ity ?upala</td>\n",
       "      <td>actress</td>\n",
       "      <td>Journalist (2013)</td>\n",
       "      <td>NaN</td>\n",
       "    </tr>\n",
       "    <tr>\n",
       "      <th>3698293</th>\n",
       "      <td>From Sydney with Love</td>\n",
       "      <td>2012</td>\n",
       "      <td>Pr?ity ?upala</td>\n",
       "      <td>actress</td>\n",
       "      <td>Shruti (2012)</td>\n",
       "      <td>NaN</td>\n",
       "    </tr>\n",
       "    <tr>\n",
       "      <th>3698294</th>\n",
       "      <td>Orange</td>\n",
       "      <td>2010</td>\n",
       "      <td>Pr?ity ?upala</td>\n",
       "      <td>actress</td>\n",
       "      <td>Usha (2010)</td>\n",
       "      <td>NaN</td>\n",
       "    </tr>\n",
       "    <tr>\n",
       "      <th>3698295</th>\n",
       "      <td>Sex and the City 2</td>\n",
       "      <td>2010</td>\n",
       "      <td>Pr?ity ?upala</td>\n",
       "      <td>actress</td>\n",
       "      <td>Shopper (2010)</td>\n",
       "      <td>NaN</td>\n",
       "    </tr>\n",
       "    <tr>\n",
       "      <th>3698296</th>\n",
       "      <td>Singh Is Kinng</td>\n",
       "      <td>2008</td>\n",
       "      <td>Pr?ity ?upala</td>\n",
       "      <td>actress</td>\n",
       "      <td>Puja (2008)</td>\n",
       "      <td>NaN</td>\n",
       "    </tr>\n",
       "    <tr>\n",
       "      <th>3698297</th>\n",
       "      <td>Thalaivaa</td>\n",
       "      <td>2013</td>\n",
       "      <td>Pr?ity ?upala</td>\n",
       "      <td>actress</td>\n",
       "      <td>Pooja (2013)</td>\n",
       "      <td>NaN</td>\n",
       "    </tr>\n",
       "    <tr>\n",
       "      <th>3698298</th>\n",
       "      <td>The Sky Has Fallen</td>\n",
       "      <td>2009</td>\n",
       "      <td>Pr?ity ?upala</td>\n",
       "      <td>actress</td>\n",
       "      <td>Skylar</td>\n",
       "      <td>NaN</td>\n",
       "    </tr>\n",
       "    <tr>\n",
       "      <th>3698299</th>\n",
       "      <td>Virsa</td>\n",
       "      <td>2010</td>\n",
       "      <td>Pr?ity ?upala</td>\n",
       "      <td>actress</td>\n",
       "      <td>Prema</td>\n",
       "      <td>NaN</td>\n",
       "    </tr>\n",
       "    <tr>\n",
       "      <th>3698300</th>\n",
       "      <td>Recep Ivedik 4</td>\n",
       "      <td>2014</td>\n",
       "      <td>Berna ??kaleler</td>\n",
       "      <td>actress</td>\n",
       "      <td>Simge</td>\n",
       "      <td>NaN</td>\n",
       "    </tr>\n",
       "    <tr>\n",
       "      <th>3698301</th>\n",
       "      <td>Gise Memuru</td>\n",
       "      <td>2010</td>\n",
       "      <td>Sevin? ??ok</td>\n",
       "      <td>actress</td>\n",
       "      <td>Afar Shouting Woman</td>\n",
       "      <td>18.0</td>\n",
       "    </tr>\n",
       "    <tr>\n",
       "      <th>3698302</th>\n",
       "      <td>Issiz Adam</td>\n",
       "      <td>2008</td>\n",
       "      <td>Sevin? ??ok</td>\n",
       "      <td>actress</td>\n",
       "      <td>Ece</td>\n",
       "      <td>NaN</td>\n",
       "    </tr>\n",
       "    <tr>\n",
       "      <th>3698303</th>\n",
       "      <td>Niceland (Population. 1.000.002)</td>\n",
       "      <td>2004</td>\n",
       "      <td>Hugr?n ?orfinnsd?ttir</td>\n",
       "      <td>actress</td>\n",
       "      <td>Diana</td>\n",
       "      <td>10.0</td>\n",
       "    </tr>\n",
       "    <tr>\n",
       "      <th>3698304</th>\n",
       "      <td>Eldfjall</td>\n",
       "      <td>2011</td>\n",
       "      <td>Katla M. ?orgeirsd?ttir</td>\n",
       "      <td>actress</td>\n",
       "      <td>Home Nurse</td>\n",
       "      <td>NaN</td>\n",
       "    </tr>\n",
       "    <tr>\n",
       "      <th>3698305</th>\n",
       "      <td>Svanurinn</td>\n",
       "      <td>2017</td>\n",
       "      <td>Katla M. ?orgeirsd?ttir</td>\n",
       "      <td>actress</td>\n",
       "      <td>?l?f</td>\n",
       "      <td>NaN</td>\n",
       "    </tr>\n",
       "    <tr>\n",
       "      <th>3698306</th>\n",
       "      <td>Nei er ekkert svar</td>\n",
       "      <td>1995</td>\n",
       "      <td>Gu?r?n B. ?orsteinsd?ttir</td>\n",
       "      <td>actress</td>\n",
       "      <td>Part?gestir</td>\n",
       "      <td>46.0</td>\n",
       "    </tr>\n",
       "    <tr>\n",
       "      <th>3698307</th>\n",
       "      <td>Agnes</td>\n",
       "      <td>1995</td>\n",
       "      <td>Ingibj?rg ?orsteinsd?ttir</td>\n",
       "      <td>actress</td>\n",
       "      <td>Kona</td>\n",
       "      <td>25.0</td>\n",
       "    </tr>\n",
       "    <tr>\n",
       "      <th>3698308</th>\n",
       "      <td>Beowulf &amp; Grendel</td>\n",
       "      <td>2005</td>\n",
       "      <td>Steinunn ?l?na ?orsteinsd?ttir</td>\n",
       "      <td>actress</td>\n",
       "      <td>Wealtheow</td>\n",
       "      <td>15.0</td>\n",
       "    </tr>\n",
       "    <tr>\n",
       "      <th>3698309</th>\n",
       "      <td>Dansinn</td>\n",
       "      <td>1998</td>\n",
       "      <td>Lilja Gu?r?n ?orvaldsd?ttir</td>\n",
       "      <td>actress</td>\n",
       "      <td>S?slumannafr?in</td>\n",
       "      <td>13.0</td>\n",
       "    </tr>\n",
       "    <tr>\n",
       "      <th>3698310</th>\n",
       "      <td>Foreldrar</td>\n",
       "      <td>2007</td>\n",
       "      <td>Lilja Gu?r?n ?orvaldsd?ttir</td>\n",
       "      <td>actress</td>\n",
       "      <td>Katrin Eldri</td>\n",
       "      <td>NaN</td>\n",
       "    </tr>\n",
       "    <tr>\n",
       "      <th>3698311</th>\n",
       "      <td>Rokland</td>\n",
       "      <td>2011</td>\n",
       "      <td>Lilja Gu?r?n ?orvaldsd?ttir</td>\n",
       "      <td>actress</td>\n",
       "      <td>A?albj?rg - Dagga's Mother</td>\n",
       "      <td>NaN</td>\n",
       "    </tr>\n",
       "    <tr>\n",
       "      <th>3698312</th>\n",
       "      <td>XL</td>\n",
       "      <td>2013</td>\n",
       "      <td>Lilja Gu?r?n ?orvaldsd?ttir</td>\n",
       "      <td>actress</td>\n",
       "      <td>Tengdamamma</td>\n",
       "      <td>NaN</td>\n",
       "    </tr>\n",
       "    <tr>\n",
       "      <th>3698313</th>\n",
       "      <td>Niceland (Population. 1.000.002)</td>\n",
       "      <td>2004</td>\n",
       "      <td>Steinunn ?orvaldsd?ttir</td>\n",
       "      <td>actress</td>\n",
       "      <td>Factory Worker</td>\n",
       "      <td>21.0</td>\n",
       "    </tr>\n",
       "    <tr>\n",
       "      <th>3698314</th>\n",
       "      <td>Stuttur Frakki</td>\n",
       "      <td>1993</td>\n",
       "      <td>Sveinbj?rg ??rhallsd?ttir</td>\n",
       "      <td>actress</td>\n",
       "      <td>Flugfreyja</td>\n",
       "      <td>24.0</td>\n",
       "    </tr>\n",
       "    <tr>\n",
       "      <th>3698315</th>\n",
       "      <td>Foxtrot</td>\n",
       "      <td>1988</td>\n",
       "      <td>Lilja ??risd?ttir</td>\n",
       "      <td>actress</td>\n",
       "      <td>D?ra</td>\n",
       "      <td>24.0</td>\n",
       "    </tr>\n",
       "    <tr>\n",
       "      <th>3698316</th>\n",
       "      <td>Niceland (Population. 1.000.002)</td>\n",
       "      <td>2004</td>\n",
       "      <td>Sigr??ur J?na ??risd?ttir</td>\n",
       "      <td>actress</td>\n",
       "      <td>Woman in Bus</td>\n",
       "      <td>26.0</td>\n",
       "    </tr>\n",
       "    <tr>\n",
       "      <th>3698317</th>\n",
       "      <td>Skammdegi</td>\n",
       "      <td>1985</td>\n",
       "      <td>Dalla ??r?ard?ttir</td>\n",
       "      <td>actress</td>\n",
       "      <td>Hj?krunarkona</td>\n",
       "      <td>9.0</td>\n",
       "    </tr>\n",
       "    <tr>\n",
       "      <th>3698318</th>\n",
       "      <td>U.S.S.S.S...</td>\n",
       "      <td>2003</td>\n",
       "      <td>Krist?n Andrea ??r?ard?ttir</td>\n",
       "      <td>actress</td>\n",
       "      <td>Afgr.dama ? bens?nst??</td>\n",
       "      <td>17.0</td>\n",
       "    </tr>\n",
       "    <tr>\n",
       "      <th>3698319</th>\n",
       "      <td>Bye Bye Blue Bird</td>\n",
       "      <td>1999</td>\n",
       "      <td>Rosa ? R?gvu</td>\n",
       "      <td>actress</td>\n",
       "      <td>Pensionatv?rtinde</td>\n",
       "      <td>NaN</td>\n",
       "    </tr>\n",
       "  </tbody>\n",
       "</table>\n",
       "<p>3698320 rows × 6 columns</p>\n",
       "</div>"
      ],
      "text/plain": [
       "                                                     title  year  \\\n",
       "0                                           Closet Monster  2015   \n",
       "1                                          Suuri illusioni  1985   \n",
       "2                                      Battle of the Sexes  2017   \n",
       "3                                     Secret in Their Eyes  2015   \n",
       "4                                               Steve Jobs  2015   \n",
       "5                                   Straight Outta Compton  2015   \n",
       "6                                   Straight Outta Compton  2015   \n",
       "7                                           For Thy Love 2  2009   \n",
       "8        Lapis, Ballpen at Diploma, a True to Life Journey  2014   \n",
       "9                                             Desire (III)  2014   \n",
       "10                                 When the Man Went South  2014   \n",
       "11                                 Little Angel (Angelita)  2015   \n",
       "12                                              Mixing Nia  1998   \n",
       "13                                        The Replacements  2000   \n",
       "14                                    All Out Dysfunktion!  2016   \n",
       "15                                                    Gook  2017   \n",
       "16                                         My Song for You  2010   \n",
       "17                                         My Song for You  2010   \n",
       "18                                            Hustle Beach  2017   \n",
       "19                                    Mariano Mison... NBI  1997   \n",
       "20                                          Natas es Satan  1977   \n",
       "21                                                  B-Girl  2009   \n",
       "22                                      Battle of the Year  2013   \n",
       "23                                                 Honey 2  2011   \n",
       "24                                    Kickin' It Old Skool  2007   \n",
       "25                                          Step Up All In  2014   \n",
       "26                          The LXD: The Secrets of the Ra  2011   \n",
       "27                                             Todo x Sara  2014   \n",
       "28                                        Barrio Gangsters  2009   \n",
       "29       Cornmeal, Gunpowder, Ham Hocks and Guitar Strings  2015   \n",
       "...                                                    ...   ...   \n",
       "3698290                              Askin kesisme noktasi  1990   \n",
       "3698291                             Dislanmis/Lekeli melek  1993   \n",
       "3698292                                 Bhaag Milkha Bhaag  2013   \n",
       "3698293                              From Sydney with Love  2012   \n",
       "3698294                                             Orange  2010   \n",
       "3698295                                 Sex and the City 2  2010   \n",
       "3698296                                     Singh Is Kinng  2008   \n",
       "3698297                                          Thalaivaa  2013   \n",
       "3698298                                 The Sky Has Fallen  2009   \n",
       "3698299                                              Virsa  2010   \n",
       "3698300                                     Recep Ivedik 4  2014   \n",
       "3698301                                        Gise Memuru  2010   \n",
       "3698302                                         Issiz Adam  2008   \n",
       "3698303                   Niceland (Population. 1.000.002)  2004   \n",
       "3698304                                           Eldfjall  2011   \n",
       "3698305                                          Svanurinn  2017   \n",
       "3698306                                 Nei er ekkert svar  1995   \n",
       "3698307                                              Agnes  1995   \n",
       "3698308                                  Beowulf & Grendel  2005   \n",
       "3698309                                            Dansinn  1998   \n",
       "3698310                                          Foreldrar  2007   \n",
       "3698311                                            Rokland  2011   \n",
       "3698312                                                 XL  2013   \n",
       "3698313                   Niceland (Population. 1.000.002)  2004   \n",
       "3698314                                     Stuttur Frakki  1993   \n",
       "3698315                                            Foxtrot  1988   \n",
       "3698316                   Niceland (Population. 1.000.002)  2004   \n",
       "3698317                                          Skammdegi  1985   \n",
       "3698318                                       U.S.S.S.S...  2003   \n",
       "3698319                                  Bye Bye Blue Bird  1999   \n",
       "\n",
       "                                   name     type  \\\n",
       "0                              Buffy #1    actor   \n",
       "1                                Homo $    actor   \n",
       "2                               $hutter    actor   \n",
       "3                               $hutter    actor   \n",
       "4                               $hutter    actor   \n",
       "5                               $hutter    actor   \n",
       "6                               $hutter    actor   \n",
       "7                          Bee Moe $lim    actor   \n",
       "8             Jori ' Danilo' Jurado Jr.    actor   \n",
       "9                      Syaiful 'Ariffin    actor   \n",
       "10                   Taipaleti 'Atu'ake    actor   \n",
       "11           Michael 'babeepower' Viera    actor   \n",
       "12           Michael 'babeepower' Viera    actor   \n",
       "13                    Steven 'Bear'Boyd    actor   \n",
       "14                Kirlew 'bliss' Vilbon    actor   \n",
       "15                Kirlew 'bliss' Vilbon    actor   \n",
       "16               George 'Bootsy' Thomas    actor   \n",
       "17               George 'Bootsy' Thomas    actor   \n",
       "18                Pete 'Boretta' Torres    actor   \n",
       "19                  Joseph 'Byron' Sese    actor   \n",
       "20                Ramon 'Cartucho' Pena    actor   \n",
       "21                 Jesse 'Casper' Brown    actor   \n",
       "22                 Jesse 'Casper' Brown    actor   \n",
       "23                 Jesse 'Casper' Brown    actor   \n",
       "24                 Jesse 'Casper' Brown    actor   \n",
       "25                 Jesse 'Casper' Brown    actor   \n",
       "26                 Jesse 'Casper' Brown    actor   \n",
       "27                   Gil 'Colibri'Viera    actor   \n",
       "28            Marcelino 'Dibujo' Torres    actor   \n",
       "29               Donnie 'Dicky' Clemson    actor   \n",
       "...                                 ...      ...   \n",
       "3698290                  Zuhal ?st?ntas  actress   \n",
       "3698291                  Zuhal ?st?ntas  actress   \n",
       "3698292                   Pr?ity ?upala  actress   \n",
       "3698293                   Pr?ity ?upala  actress   \n",
       "3698294                   Pr?ity ?upala  actress   \n",
       "3698295                   Pr?ity ?upala  actress   \n",
       "3698296                   Pr?ity ?upala  actress   \n",
       "3698297                   Pr?ity ?upala  actress   \n",
       "3698298                   Pr?ity ?upala  actress   \n",
       "3698299                   Pr?ity ?upala  actress   \n",
       "3698300                 Berna ??kaleler  actress   \n",
       "3698301                     Sevin? ??ok  actress   \n",
       "3698302                     Sevin? ??ok  actress   \n",
       "3698303           Hugr?n ?orfinnsd?ttir  actress   \n",
       "3698304         Katla M. ?orgeirsd?ttir  actress   \n",
       "3698305         Katla M. ?orgeirsd?ttir  actress   \n",
       "3698306       Gu?r?n B. ?orsteinsd?ttir  actress   \n",
       "3698307       Ingibj?rg ?orsteinsd?ttir  actress   \n",
       "3698308  Steinunn ?l?na ?orsteinsd?ttir  actress   \n",
       "3698309     Lilja Gu?r?n ?orvaldsd?ttir  actress   \n",
       "3698310     Lilja Gu?r?n ?orvaldsd?ttir  actress   \n",
       "3698311     Lilja Gu?r?n ?orvaldsd?ttir  actress   \n",
       "3698312     Lilja Gu?r?n ?orvaldsd?ttir  actress   \n",
       "3698313         Steinunn ?orvaldsd?ttir  actress   \n",
       "3698314       Sveinbj?rg ??rhallsd?ttir  actress   \n",
       "3698315               Lilja ??risd?ttir  actress   \n",
       "3698316       Sigr??ur J?na ??risd?ttir  actress   \n",
       "3698317              Dalla ??r?ard?ttir  actress   \n",
       "3698318     Krist?n Andrea ??r?ard?ttir  actress   \n",
       "3698319                    Rosa ? R?gvu  actress   \n",
       "\n",
       "                                       character     n  \n",
       "0                                        Buffy 4  31.0  \n",
       "1                                         Guests  22.0  \n",
       "2                                Bobby Riggs Fan  10.0  \n",
       "3                                2002 Dodger Fan   NaN  \n",
       "4                        1988 Opera House Patron   NaN  \n",
       "5                                    Club Patron   NaN  \n",
       "6                                        Dopeman   NaN  \n",
       "7                                         Thug 1   NaN  \n",
       "8                                  Jaime (young)   9.0  \n",
       "9         Actor Playing Eteocles from 'Antigone'   NaN  \n",
       "10                        Two Palms - Ua'i Paame   8.0  \n",
       "11                                         Chico   9.0  \n",
       "12                                        Rapper   NaN  \n",
       "13       Defensive Tackle - Washington Sentinels   NaN  \n",
       "14                                         Bliss   NaN  \n",
       "15                                         Bliss   NaN  \n",
       "16                             Cooley's Customer  16.0  \n",
       "17                             Celebration Guest  16.0  \n",
       "18                                          Tony   NaN  \n",
       "19                                   Putik's Son  31.0  \n",
       "20                              Nigth Club Owner   NaN  \n",
       "21                                  Battle Judge  25.0  \n",
       "22                                         Rebel   9.0  \n",
       "23                              Freestyle Dancer  73.0  \n",
       "24                                          Cole  10.0  \n",
       "25                            Grim Knight Dancer  61.0  \n",
       "26                                         Fangz   NaN  \n",
       "27                                       Llavero   NaN  \n",
       "28                                        Dibujo   NaN  \n",
       "29                                    Jeb Kinney   NaN  \n",
       "...                                          ...   ...  \n",
       "3698290                                 Hira Ana   NaN  \n",
       "3698291                                    Fatma   NaN  \n",
       "3698292                        Journalist (2013)   NaN  \n",
       "3698293                            Shruti (2012)   NaN  \n",
       "3698294                              Usha (2010)   NaN  \n",
       "3698295                           Shopper (2010)   NaN  \n",
       "3698296                              Puja (2008)   NaN  \n",
       "3698297                             Pooja (2013)   NaN  \n",
       "3698298                                   Skylar   NaN  \n",
       "3698299                                    Prema   NaN  \n",
       "3698300                                    Simge   NaN  \n",
       "3698301                      Afar Shouting Woman  18.0  \n",
       "3698302                                      Ece   NaN  \n",
       "3698303                                    Diana  10.0  \n",
       "3698304                               Home Nurse   NaN  \n",
       "3698305                                     ?l?f   NaN  \n",
       "3698306                              Part?gestir  46.0  \n",
       "3698307                                     Kona  25.0  \n",
       "3698308                                Wealtheow  15.0  \n",
       "3698309                          S?slumannafr?in  13.0  \n",
       "3698310                             Katrin Eldri   NaN  \n",
       "3698311               A?albj?rg - Dagga's Mother   NaN  \n",
       "3698312                              Tengdamamma   NaN  \n",
       "3698313                           Factory Worker  21.0  \n",
       "3698314                               Flugfreyja  24.0  \n",
       "3698315                                     D?ra  24.0  \n",
       "3698316                             Woman in Bus  26.0  \n",
       "3698317                            Hj?krunarkona   9.0  \n",
       "3698318                   Afgr.dama ? bens?nst??  17.0  \n",
       "3698319                        Pensionatv?rtinde   NaN  \n",
       "\n",
       "[3698320 rows x 6 columns]"
      ]
     },
     "execution_count": 34,
     "metadata": {},
     "output_type": "execute_result"
    }
   ],
   "source": [
    "cast"
   ]
  },
  {
   "cell_type": "code",
   "execution_count": 35,
   "metadata": {
    "collapsed": false
   },
   "outputs": [
    {
     "data": {
      "text/html": [
       "<div>\n",
       "<table border=\"1\" class=\"dataframe\">\n",
       "  <thead>\n",
       "    <tr style=\"text-align: right;\">\n",
       "      <th></th>\n",
       "      <th>title</th>\n",
       "      <th>year</th>\n",
       "      <th>name</th>\n",
       "      <th>type</th>\n",
       "      <th>character</th>\n",
       "      <th>n</th>\n",
       "    </tr>\n",
       "  </thead>\n",
       "  <tbody>\n",
       "    <tr>\n",
       "      <th>0</th>\n",
       "      <td>Closet Monster</td>\n",
       "      <td>2015</td>\n",
       "      <td>Buffy #1</td>\n",
       "      <td>actor</td>\n",
       "      <td>Buffy 4</td>\n",
       "      <td>31.0</td>\n",
       "    </tr>\n",
       "    <tr>\n",
       "      <th>1</th>\n",
       "      <td>Suuri illusioni</td>\n",
       "      <td>1985</td>\n",
       "      <td>Homo $</td>\n",
       "      <td>actor</td>\n",
       "      <td>Guests</td>\n",
       "      <td>22.0</td>\n",
       "    </tr>\n",
       "    <tr>\n",
       "      <th>2</th>\n",
       "      <td>Battle of the Sexes</td>\n",
       "      <td>2017</td>\n",
       "      <td>$hutter</td>\n",
       "      <td>actor</td>\n",
       "      <td>Bobby Riggs Fan</td>\n",
       "      <td>10.0</td>\n",
       "    </tr>\n",
       "  </tbody>\n",
       "</table>\n",
       "</div>"
      ],
      "text/plain": [
       "                 title  year      name   type        character     n\n",
       "0       Closet Monster  2015  Buffy #1  actor          Buffy 4  31.0\n",
       "1      Suuri illusioni  1985    Homo $  actor           Guests  22.0\n",
       "2  Battle of the Sexes  2017   $hutter  actor  Bobby Riggs Fan  10.0"
      ]
     },
     "execution_count": 35,
     "metadata": {},
     "output_type": "execute_result"
    }
   ],
   "source": [
    "h = cast.head()\n",
    "h = h[h.n.notnull()]\n",
    "h"
   ]
  },
  {
   "cell_type": "code",
   "execution_count": 36,
   "metadata": {
    "collapsed": false
   },
   "outputs": [
    {
     "data": {
      "text/html": [
       "<div>\n",
       "<table border=\"1\" class=\"dataframe\">\n",
       "  <thead>\n",
       "    <tr style=\"text-align: right;\">\n",
       "      <th></th>\n",
       "      <th>title</th>\n",
       "      <th>year</th>\n",
       "      <th>name</th>\n",
       "      <th>type</th>\n",
       "      <th>character</th>\n",
       "      <th>n</th>\n",
       "    </tr>\n",
       "  </thead>\n",
       "  <tbody>\n",
       "    <tr>\n",
       "      <th>3</th>\n",
       "      <td>Secret in Their Eyes</td>\n",
       "      <td>2015</td>\n",
       "      <td>$hutter</td>\n",
       "      <td>actor</td>\n",
       "      <td>2002 Dodger Fan</td>\n",
       "      <td>NaN</td>\n",
       "    </tr>\n",
       "    <tr>\n",
       "      <th>4</th>\n",
       "      <td>Steve Jobs</td>\n",
       "      <td>2015</td>\n",
       "      <td>$hutter</td>\n",
       "      <td>actor</td>\n",
       "      <td>1988 Opera House Patron</td>\n",
       "      <td>NaN</td>\n",
       "    </tr>\n",
       "  </tbody>\n",
       "</table>\n",
       "</div>"
      ],
      "text/plain": [
       "                  title  year     name   type                character   n\n",
       "3  Secret in Their Eyes  2015  $hutter  actor          2002 Dodger Fan NaN\n",
       "4            Steve Jobs  2015  $hutter  actor  1988 Opera House Patron NaN"
      ]
     },
     "execution_count": 36,
     "metadata": {},
     "output_type": "execute_result"
    }
   ],
   "source": [
    "h = cast.head()\n",
    "h = h[h.n.isnull()]\n",
    "h"
   ]
  },
  {
   "cell_type": "code",
   "execution_count": 38,
   "metadata": {
    "collapsed": false
   },
   "outputs": [
    {
     "data": {
      "text/plain": [
       "True"
      ]
     },
     "execution_count": 38,
     "metadata": {},
     "output_type": "execute_result"
    }
   ],
   "source": [
    "'Hamlet (II)'.startswith('Hamlet')"
   ]
  },
  {
   "cell_type": "code",
   "execution_count": 39,
   "metadata": {
    "collapsed": false
   },
   "outputs": [
    {
     "data": {
      "text/html": [
       "<div>\n",
       "<table border=\"1\" class=\"dataframe\">\n",
       "  <thead>\n",
       "    <tr style=\"text-align: right;\">\n",
       "      <th></th>\n",
       "      <th>title</th>\n",
       "      <th>year</th>\n",
       "      <th>name</th>\n",
       "      <th>type</th>\n",
       "      <th>character</th>\n",
       "      <th>n</th>\n",
       "    </tr>\n",
       "  </thead>\n",
       "  <tbody>\n",
       "    <tr>\n",
       "      <th>3</th>\n",
       "      <td>Secret in Their Eyes</td>\n",
       "      <td>2015</td>\n",
       "      <td>$hutter</td>\n",
       "      <td>actor</td>\n",
       "      <td>2002 Dodger Fan</td>\n",
       "      <td>NaN</td>\n",
       "    </tr>\n",
       "    <tr>\n",
       "      <th>4</th>\n",
       "      <td>Steve Jobs</td>\n",
       "      <td>2015</td>\n",
       "      <td>$hutter</td>\n",
       "      <td>actor</td>\n",
       "      <td>1988 Opera House Patron</td>\n",
       "      <td>NaN</td>\n",
       "    </tr>\n",
       "  </tbody>\n",
       "</table>\n",
       "</div>"
      ],
      "text/plain": [
       "                  title  year     name   type                character   n\n",
       "3  Secret in Their Eyes  2015  $hutter  actor          2002 Dodger Fan NaN\n",
       "4            Steve Jobs  2015  $hutter  actor  1988 Opera House Patron NaN"
      ]
     },
     "execution_count": 39,
     "metadata": {},
     "output_type": "execute_result"
    }
   ],
   "source": [
    "h"
   ]
  },
  {
   "cell_type": "code",
   "execution_count": 41,
   "metadata": {
    "collapsed": false
   },
   "outputs": [
    {
     "data": {
      "text/plain": [
       "3    20\n",
       "4    10\n",
       "Name: title, dtype: int64"
      ]
     },
     "execution_count": 41,
     "metadata": {},
     "output_type": "execute_result"
    }
   ],
   "source": [
    "h.title.str.len()"
   ]
  },
  {
   "cell_type": "code",
   "execution_count": null,
   "metadata": {
    "collapsed": true
   },
   "outputs": [],
   "source": [
    "c = titles\n",
    "c[c.title == 'Hamlet']"
   ]
  },
  {
   "cell_type": "code",
   "execution_count": 42,
   "metadata": {
    "collapsed": false
   },
   "outputs": [
    {
     "data": {
      "text/plain": [
       "2017    9592\n",
       "2016    9464\n",
       "2015    8554\n",
       "2014    8151\n",
       "2013    7773\n",
       "2012    7332\n",
       "2011    6922\n",
       "2010    6338\n",
       "2009    6066\n",
       "2008    5089\n",
       "2007    4404\n",
       "2006    4245\n",
       "2005    3990\n",
       "2004    3480\n",
       "2003    3153\n",
       "2002    2985\n",
       "2018    2945\n",
       "2001    2871\n",
       "2000    2740\n",
       "1999    2528\n",
       "1998    2415\n",
       "1997    2344\n",
       "1988    2343\n",
       "1990    2320\n",
       "1991    2275\n",
       "1989    2269\n",
       "1987    2248\n",
       "1970    2188\n",
       "1969    2187\n",
       "1992    2183\n",
       "        ... \n",
       "1930     824\n",
       "1924     802\n",
       "1946     791\n",
       "1943     770\n",
       "1929     756\n",
       "1923     742\n",
       "1944     733\n",
       "1945     651\n",
       "1914     559\n",
       "1913     247\n",
       "1912     111\n",
       "2019      79\n",
       "1911      53\n",
       "2020      31\n",
       "1910      23\n",
       "1909      15\n",
       "2021      11\n",
       "2022       6\n",
       "1908       6\n",
       "1906       5\n",
       "1900       5\n",
       "1907       5\n",
       "1905       2\n",
       "2024       2\n",
       "1894       1\n",
       "1903       1\n",
       "2115       1\n",
       "1899       1\n",
       "1898       1\n",
       "2025       1\n",
       "Name: year, dtype: int64"
      ]
     },
     "execution_count": 42,
     "metadata": {},
     "output_type": "execute_result"
    }
   ],
   "source": [
    "titles.year.value_counts()"
   ]
  },
  {
   "cell_type": "code",
   "execution_count": 45,
   "metadata": {
    "collapsed": false
   },
   "outputs": [
    {
     "data": {
      "text/plain": [
       "<matplotlib.axes._subplots.AxesSubplot at 0x10da84cf8>"
      ]
     },
     "execution_count": 45,
     "metadata": {},
     "output_type": "execute_result"
    },
    {
     "data": {
      "image/png": "[encoded data removed]",
      "text/plain": [
       "<matplotlib.figure.Figure at 0x10de274e0>"
      ]
     },
     "metadata": {},
     "output_type": "display_data"
    }
   ],
   "source": [
    "titles.year.value_counts().sort_index().plot()"
   ]
  },
  {
   "cell_type": "code",
   "execution_count": 47,
   "metadata": {
    "collapsed": false
   },
   "outputs": [
    {
     "data": {
      "text/html": [
       "<div>\n",
       "<table border=\"1\" class=\"dataframe\">\n",
       "  <thead>\n",
       "    <tr style=\"text-align: right;\">\n",
       "      <th></th>\n",
       "      <th>title</th>\n",
       "      <th>year</th>\n",
       "      <th>name</th>\n",
       "      <th>type</th>\n",
       "      <th>character</th>\n",
       "      <th>n</th>\n",
       "    </tr>\n",
       "  </thead>\n",
       "  <tbody>\n",
       "    <tr>\n",
       "      <th>969297</th>\n",
       "      <td>An American Werewolf in London</td>\n",
       "      <td>1981</td>\n",
       "      <td>Jim Henson</td>\n",
       "      <td>actor</td>\n",
       "      <td>Kermit the Frog</td>\n",
       "      <td>18.0</td>\n",
       "    </tr>\n",
       "    <tr>\n",
       "      <th>969298</th>\n",
       "      <td>Follow That Bird</td>\n",
       "      <td>1985</td>\n",
       "      <td>Jim Henson</td>\n",
       "      <td>actor</td>\n",
       "      <td>Kermit the Frog</td>\n",
       "      <td>2.0</td>\n",
       "    </tr>\n",
       "    <tr>\n",
       "      <th>969303</th>\n",
       "      <td>The Great Muppet Caper</td>\n",
       "      <td>1981</td>\n",
       "      <td>Jim Henson</td>\n",
       "      <td>actor</td>\n",
       "      <td>Kermit the Frog</td>\n",
       "      <td>1.0</td>\n",
       "    </tr>\n",
       "    <tr>\n",
       "      <th>969311</th>\n",
       "      <td>The Muppet Movie</td>\n",
       "      <td>1979</td>\n",
       "      <td>Jim Henson</td>\n",
       "      <td>actor</td>\n",
       "      <td>Kermit the Frog</td>\n",
       "      <td>1.0</td>\n",
       "    </tr>\n",
       "    <tr>\n",
       "      <th>969318</th>\n",
       "      <td>The Muppets Take Manhattan</td>\n",
       "      <td>1984</td>\n",
       "      <td>Jim Henson</td>\n",
       "      <td>actor</td>\n",
       "      <td>Kermit the Frog</td>\n",
       "      <td>1.0</td>\n",
       "    </tr>\n",
       "  </tbody>\n",
       "</table>\n",
       "</div>"
      ],
      "text/plain": [
       "                                 title  year        name   type  \\\n",
       "969297  An American Werewolf in London  1981  Jim Henson  actor   \n",
       "969298                Follow That Bird  1985  Jim Henson  actor   \n",
       "969303          The Great Muppet Caper  1981  Jim Henson  actor   \n",
       "969311                The Muppet Movie  1979  Jim Henson  actor   \n",
       "969318      The Muppets Take Manhattan  1984  Jim Henson  actor   \n",
       "\n",
       "              character     n  \n",
       "969297  Kermit the Frog  18.0  \n",
       "969298  Kermit the Frog   2.0  \n",
       "969303  Kermit the Frog   1.0  \n",
       "969311  Kermit the Frog   1.0  \n",
       "969318  Kermit the Frog   1.0  "
      ]
     },
     "execution_count": 47,
     "metadata": {},
     "output_type": "execute_result"
    }
   ],
   "source": [
    "c = cast\n",
    "c = c[c.character == 'Kermit the Frog']\n",
    "c.head()"
   ]
  },
  {
   "cell_type": "code",
   "execution_count": 48,
   "metadata": {
    "collapsed": false
   },
   "outputs": [
    {
     "data": {
      "text/plain": [
       "<matplotlib.axes._subplots.AxesSubplot at 0x10e8d5048>"
      ]
     },
     "execution_count": 48,
     "metadata": {},
     "output_type": "execute_result"
    },
    {
     "data": {
      "image/png": "[encoded data removed]",
      "text/plain": [
       "<matplotlib.figure.Figure at 0x10de45780>"
      ]
     },
     "metadata": {},
     "output_type": "display_data"
    }
   ],
   "source": [
    "c = cast\n",
    "c = c[c.character == 'Kermit the Frog']\n",
    "c.plot(x='year', y ='n', kind = 'scatter')"
   ]
  },
  {
   "cell_type": "code",
   "execution_count": null,
   "metadata": {
    "collapsed": true
   },
   "outputs": [],
   "source": []
  },
  {
   "cell_type": "code",
   "execution_count": null,
   "metadata": {
    "collapsed": true
   },
   "outputs": [],
   "source": []
  },
  {
   "cell_type": "code",
   "execution_count": null,
   "metadata": {
    "collapsed": true
   },
   "outputs": [],
   "source": []
  },
  {
   "cell_type": "code",
   "execution_count": null,
   "metadata": {
    "collapsed": true
   },
   "outputs": [],
   "source": []
  },
  {
   "cell_type": "code",
   "execution_count": null,
   "metadata": {
    "collapsed": true
   },
   "outputs": [],
   "source": []
  },
  {
   "cell_type": "code",
   "execution_count": 124,
   "metadata": {
    "collapsed": false
   },
   "outputs": [
    {
     "name": "stdout",
     "output_type": "stream",
     "text": [
      "CPU times: user 514 ms, sys: 8.98 ms, total: 523 ms\n",
      "Wall time: 517 ms\n"
     ]
    },
    {
     "data": {
      "text/html": [
       "<div>\n",
       "<table border=\"1\" class=\"dataframe\">\n",
       "  <thead>\n",
       "    <tr style=\"text-align: right;\">\n",
       "      <th></th>\n",
       "      <th>title</th>\n",
       "      <th>year</th>\n",
       "      <th>name</th>\n",
       "      <th>type</th>\n",
       "      <th>character</th>\n",
       "      <th>n</th>\n",
       "    </tr>\n",
       "  </thead>\n",
       "  <tbody>\n",
       "    <tr>\n",
       "      <th>256402</th>\n",
       "      <td>Sleuth</td>\n",
       "      <td>2007</td>\n",
       "      <td>Kenneth Branagh</td>\n",
       "      <td>actor</td>\n",
       "      <td>Other Man on T.V.</td>\n",
       "      <td>NaN</td>\n",
       "    </tr>\n",
       "    <tr>\n",
       "      <th>322215</th>\n",
       "      <td>Sleuth</td>\n",
       "      <td>1972</td>\n",
       "      <td>Michael Caine</td>\n",
       "      <td>actor</td>\n",
       "      <td>Milo Tindle</td>\n",
       "      <td>2.0</td>\n",
       "    </tr>\n",
       "    <tr>\n",
       "      <th>322216</th>\n",
       "      <td>Sleuth</td>\n",
       "      <td>2007</td>\n",
       "      <td>Michael Caine</td>\n",
       "      <td>actor</td>\n",
       "      <td>Andrew</td>\n",
       "      <td>1.0</td>\n",
       "    </tr>\n",
       "    <tr>\n",
       "      <th>368842</th>\n",
       "      <td>Sleuth</td>\n",
       "      <td>1972</td>\n",
       "      <td>Alec Cawthorne</td>\n",
       "      <td>actor</td>\n",
       "      <td>Inspector Doppler</td>\n",
       "      <td>3.0</td>\n",
       "    </tr>\n",
       "    <tr>\n",
       "      <th>368843</th>\n",
       "      <td>Sleuth</td>\n",
       "      <td>2007</td>\n",
       "      <td>Alec (II) Cawthorne</td>\n",
       "      <td>actor</td>\n",
       "      <td>Inspector Doppler</td>\n",
       "      <td>NaN</td>\n",
       "    </tr>\n",
       "    <tr>\n",
       "      <th>1275473</th>\n",
       "      <td>Sleuth</td>\n",
       "      <td>2007</td>\n",
       "      <td>Jude Law</td>\n",
       "      <td>actor</td>\n",
       "      <td>Milo</td>\n",
       "      <td>2.0</td>\n",
       "    </tr>\n",
       "    <tr>\n",
       "      <th>1428628</th>\n",
       "      <td>Sleuth</td>\n",
       "      <td>1972</td>\n",
       "      <td>Teddy Martin</td>\n",
       "      <td>actor</td>\n",
       "      <td>Police Constable Higgs</td>\n",
       "      <td>6.0</td>\n",
       "    </tr>\n",
       "    <tr>\n",
       "      <th>1445143</th>\n",
       "      <td>Sleuth</td>\n",
       "      <td>1972</td>\n",
       "      <td>John (II) Matthews</td>\n",
       "      <td>actor</td>\n",
       "      <td>Detective Sergeant Tarrant</td>\n",
       "      <td>4.0</td>\n",
       "    </tr>\n",
       "    <tr>\n",
       "      <th>1681820</th>\n",
       "      <td>Sleuth</td>\n",
       "      <td>1972</td>\n",
       "      <td>Laurence Olivier</td>\n",
       "      <td>actor</td>\n",
       "      <td>Andrew Wyke</td>\n",
       "      <td>1.0</td>\n",
       "    </tr>\n",
       "    <tr>\n",
       "      <th>1780854</th>\n",
       "      <td>Sleuth</td>\n",
       "      <td>2007</td>\n",
       "      <td>Harold Pinter</td>\n",
       "      <td>actor</td>\n",
       "      <td>Man on T.V.</td>\n",
       "      <td>3.0</td>\n",
       "    </tr>\n",
       "    <tr>\n",
       "      <th>2681106</th>\n",
       "      <td>Sleuth</td>\n",
       "      <td>2007</td>\n",
       "      <td>Eve (II) Channing</td>\n",
       "      <td>actress</td>\n",
       "      <td>Marguerite Wyke</td>\n",
       "      <td>NaN</td>\n",
       "    </tr>\n",
       "    <tr>\n",
       "      <th>2681107</th>\n",
       "      <td>Sleuth</td>\n",
       "      <td>1972</td>\n",
       "      <td>Eve (III) Channing</td>\n",
       "      <td>actress</td>\n",
       "      <td>Marguerite Wyke</td>\n",
       "      <td>5.0</td>\n",
       "    </tr>\n",
       "    <tr>\n",
       "      <th>3300233</th>\n",
       "      <td>Sleuth</td>\n",
       "      <td>2007</td>\n",
       "      <td>Carmel O'Sullivan</td>\n",
       "      <td>actress</td>\n",
       "      <td>Maggie</td>\n",
       "      <td>NaN</td>\n",
       "    </tr>\n",
       "  </tbody>\n",
       "</table>\n",
       "</div>"
      ],
      "text/plain": [
       "          title  year                 name     type  \\\n",
       "256402   Sleuth  2007      Kenneth Branagh    actor   \n",
       "322215   Sleuth  1972        Michael Caine    actor   \n",
       "322216   Sleuth  2007        Michael Caine    actor   \n",
       "368842   Sleuth  1972       Alec Cawthorne    actor   \n",
       "368843   Sleuth  2007  Alec (II) Cawthorne    actor   \n",
       "1275473  Sleuth  2007             Jude Law    actor   \n",
       "1428628  Sleuth  1972         Teddy Martin    actor   \n",
       "1445143  Sleuth  1972   John (II) Matthews    actor   \n",
       "1681820  Sleuth  1972     Laurence Olivier    actor   \n",
       "1780854  Sleuth  2007        Harold Pinter    actor   \n",
       "2681106  Sleuth  2007    Eve (II) Channing  actress   \n",
       "2681107  Sleuth  1972   Eve (III) Channing  actress   \n",
       "3300233  Sleuth  2007    Carmel O'Sullivan  actress   \n",
       "\n",
       "                          character    n  \n",
       "256402            Other Man on T.V.  NaN  \n",
       "322215                  Milo Tindle  2.0  \n",
       "322216                       Andrew  1.0  \n",
       "368842            Inspector Doppler  3.0  \n",
       "368843            Inspector Doppler  NaN  \n",
       "1275473                        Milo  2.0  \n",
       "1428628      Police Constable Higgs  6.0  \n",
       "1445143  Detective Sergeant Tarrant  4.0  \n",
       "1681820                 Andrew Wyke  1.0  \n",
       "1780854                 Man on T.V.  3.0  \n",
       "2681106             Marguerite Wyke  NaN  \n",
       "2681107             Marguerite Wyke  5.0  \n",
       "3300233                      Maggie  NaN  "
      ]
     },
     "execution_count": 124,
     "metadata": {},
     "output_type": "execute_result"
    }
   ],
   "source": [
    "%%time\n",
    "cast[cast.title == 'Sleuth']"
   ]
  },
  {
   "cell_type": "code",
   "execution_count": 128,
   "metadata": {
    "collapsed": false
   },
   "outputs": [
    {
     "data": {
      "text/html": [
       "<div>\n",
       "<table border=\"1\" class=\"dataframe\">\n",
       "  <thead>\n",
       "    <tr style=\"text-align: right;\">\n",
       "      <th></th>\n",
       "      <th>year</th>\n",
       "      <th>name</th>\n",
       "      <th>type</th>\n",
       "      <th>character</th>\n",
       "      <th>n</th>\n",
       "    </tr>\n",
       "    <tr>\n",
       "      <th>title</th>\n",
       "      <th></th>\n",
       "      <th></th>\n",
       "      <th></th>\n",
       "      <th></th>\n",
       "      <th></th>\n",
       "    </tr>\n",
       "  </thead>\n",
       "  <tbody>\n",
       "    <tr>\n",
       "      <th>Closet Monster</th>\n",
       "      <td>2015</td>\n",
       "      <td>Buffy #1</td>\n",
       "      <td>actor</td>\n",
       "      <td>Buffy 4</td>\n",
       "      <td>31.0</td>\n",
       "    </tr>\n",
       "    <tr>\n",
       "      <th>Suuri illusioni</th>\n",
       "      <td>1985</td>\n",
       "      <td>Homo $</td>\n",
       "      <td>actor</td>\n",
       "      <td>Guests</td>\n",
       "      <td>22.0</td>\n",
       "    </tr>\n",
       "    <tr>\n",
       "      <th>Battle of the Sexes</th>\n",
       "      <td>2017</td>\n",
       "      <td>$hutter</td>\n",
       "      <td>actor</td>\n",
       "      <td>Bobby Riggs Fan</td>\n",
       "      <td>10.0</td>\n",
       "    </tr>\n",
       "    <tr>\n",
       "      <th>Secret in Their Eyes</th>\n",
       "      <td>2015</td>\n",
       "      <td>$hutter</td>\n",
       "      <td>actor</td>\n",
       "      <td>2002 Dodger Fan</td>\n",
       "      <td>NaN</td>\n",
       "    </tr>\n",
       "    <tr>\n",
       "      <th>Steve Jobs</th>\n",
       "      <td>2015</td>\n",
       "      <td>$hutter</td>\n",
       "      <td>actor</td>\n",
       "      <td>1988 Opera House Patron</td>\n",
       "      <td>NaN</td>\n",
       "    </tr>\n",
       "  </tbody>\n",
       "</table>\n",
       "</div>"
      ],
      "text/plain": [
       "                      year      name   type                character     n\n",
       "title                                                                     \n",
       "Closet Monster        2015  Buffy #1  actor                  Buffy 4  31.0\n",
       "Suuri illusioni       1985    Homo $  actor                   Guests  22.0\n",
       "Battle of the Sexes   2017   $hutter  actor          Bobby Riggs Fan  10.0\n",
       "Secret in Their Eyes  2015   $hutter  actor          2002 Dodger Fan   NaN\n",
       "Steve Jobs            2015   $hutter  actor  1988 Opera House Patron   NaN"
      ]
     },
     "execution_count": 128,
     "metadata": {},
     "output_type": "execute_result"
    }
   ],
   "source": [
    "c = cast.set_index(['title'])\n",
    "c.head()"
   ]
  },
  {
   "cell_type": "code",
   "execution_count": 130,
   "metadata": {
    "collapsed": false
   },
   "outputs": [
    {
     "name": "stdout",
     "output_type": "stream",
     "text": [
      "CPU times: user 163 ms, sys: 3.42 ms, total: 166 ms\n",
      "Wall time: 164 ms\n"
     ]
    },
    {
     "data": {
      "text/html": [
       "<div>\n",
       "<table border=\"1\" class=\"dataframe\">\n",
       "  <thead>\n",
       "    <tr style=\"text-align: right;\">\n",
       "      <th></th>\n",
       "      <th>year</th>\n",
       "      <th>name</th>\n",
       "      <th>type</th>\n",
       "      <th>character</th>\n",
       "      <th>n</th>\n",
       "    </tr>\n",
       "    <tr>\n",
       "      <th>title</th>\n",
       "      <th></th>\n",
       "      <th></th>\n",
       "      <th></th>\n",
       "      <th></th>\n",
       "      <th></th>\n",
       "    </tr>\n",
       "  </thead>\n",
       "  <tbody>\n",
       "    <tr>\n",
       "      <th>Sleuth</th>\n",
       "      <td>2007</td>\n",
       "      <td>Kenneth Branagh</td>\n",
       "      <td>actor</td>\n",
       "      <td>Other Man on T.V.</td>\n",
       "      <td>NaN</td>\n",
       "    </tr>\n",
       "    <tr>\n",
       "      <th>Sleuth</th>\n",
       "      <td>1972</td>\n",
       "      <td>Michael Caine</td>\n",
       "      <td>actor</td>\n",
       "      <td>Milo Tindle</td>\n",
       "      <td>2.0</td>\n",
       "    </tr>\n",
       "    <tr>\n",
       "      <th>Sleuth</th>\n",
       "      <td>2007</td>\n",
       "      <td>Michael Caine</td>\n",
       "      <td>actor</td>\n",
       "      <td>Andrew</td>\n",
       "      <td>1.0</td>\n",
       "    </tr>\n",
       "    <tr>\n",
       "      <th>Sleuth</th>\n",
       "      <td>1972</td>\n",
       "      <td>Alec Cawthorne</td>\n",
       "      <td>actor</td>\n",
       "      <td>Inspector Doppler</td>\n",
       "      <td>3.0</td>\n",
       "    </tr>\n",
       "    <tr>\n",
       "      <th>Sleuth</th>\n",
       "      <td>2007</td>\n",
       "      <td>Alec (II) Cawthorne</td>\n",
       "      <td>actor</td>\n",
       "      <td>Inspector Doppler</td>\n",
       "      <td>NaN</td>\n",
       "    </tr>\n",
       "    <tr>\n",
       "      <th>Sleuth</th>\n",
       "      <td>2007</td>\n",
       "      <td>Jude Law</td>\n",
       "      <td>actor</td>\n",
       "      <td>Milo</td>\n",
       "      <td>2.0</td>\n",
       "    </tr>\n",
       "    <tr>\n",
       "      <th>Sleuth</th>\n",
       "      <td>1972</td>\n",
       "      <td>Teddy Martin</td>\n",
       "      <td>actor</td>\n",
       "      <td>Police Constable Higgs</td>\n",
       "      <td>6.0</td>\n",
       "    </tr>\n",
       "    <tr>\n",
       "      <th>Sleuth</th>\n",
       "      <td>1972</td>\n",
       "      <td>John (II) Matthews</td>\n",
       "      <td>actor</td>\n",
       "      <td>Detective Sergeant Tarrant</td>\n",
       "      <td>4.0</td>\n",
       "    </tr>\n",
       "    <tr>\n",
       "      <th>Sleuth</th>\n",
       "      <td>1972</td>\n",
       "      <td>Laurence Olivier</td>\n",
       "      <td>actor</td>\n",
       "      <td>Andrew Wyke</td>\n",
       "      <td>1.0</td>\n",
       "    </tr>\n",
       "    <tr>\n",
       "      <th>Sleuth</th>\n",
       "      <td>2007</td>\n",
       "      <td>Harold Pinter</td>\n",
       "      <td>actor</td>\n",
       "      <td>Man on T.V.</td>\n",
       "      <td>3.0</td>\n",
       "    </tr>\n",
       "    <tr>\n",
       "      <th>Sleuth</th>\n",
       "      <td>2007</td>\n",
       "      <td>Eve (II) Channing</td>\n",
       "      <td>actress</td>\n",
       "      <td>Marguerite Wyke</td>\n",
       "      <td>NaN</td>\n",
       "    </tr>\n",
       "    <tr>\n",
       "      <th>Sleuth</th>\n",
       "      <td>1972</td>\n",
       "      <td>Eve (III) Channing</td>\n",
       "      <td>actress</td>\n",
       "      <td>Marguerite Wyke</td>\n",
       "      <td>5.0</td>\n",
       "    </tr>\n",
       "    <tr>\n",
       "      <th>Sleuth</th>\n",
       "      <td>2007</td>\n",
       "      <td>Carmel O'Sullivan</td>\n",
       "      <td>actress</td>\n",
       "      <td>Maggie</td>\n",
       "      <td>NaN</td>\n",
       "    </tr>\n",
       "  </tbody>\n",
       "</table>\n",
       "</div>"
      ],
      "text/plain": [
       "        year                 name     type                   character    n\n",
       "title                                                                      \n",
       "Sleuth  2007      Kenneth Branagh    actor           Other Man on T.V.  NaN\n",
       "Sleuth  1972        Michael Caine    actor                 Milo Tindle  2.0\n",
       "Sleuth  2007        Michael Caine    actor                      Andrew  1.0\n",
       "Sleuth  1972       Alec Cawthorne    actor           Inspector Doppler  3.0\n",
       "Sleuth  2007  Alec (II) Cawthorne    actor           Inspector Doppler  NaN\n",
       "Sleuth  2007             Jude Law    actor                        Milo  2.0\n",
       "Sleuth  1972         Teddy Martin    actor      Police Constable Higgs  6.0\n",
       "Sleuth  1972   John (II) Matthews    actor  Detective Sergeant Tarrant  4.0\n",
       "Sleuth  1972     Laurence Olivier    actor                 Andrew Wyke  1.0\n",
       "Sleuth  2007        Harold Pinter    actor                 Man on T.V.  3.0\n",
       "Sleuth  2007    Eve (II) Channing  actress             Marguerite Wyke  NaN\n",
       "Sleuth  1972   Eve (III) Channing  actress             Marguerite Wyke  5.0\n",
       "Sleuth  2007    Carmel O'Sullivan  actress                      Maggie  NaN"
      ]
     },
     "execution_count": 130,
     "metadata": {},
     "output_type": "execute_result"
    }
   ],
   "source": [
    "%%time\n",
    "c.loc['Sleuth']"
   ]
  },
  {
   "cell_type": "code",
   "execution_count": 131,
   "metadata": {
    "collapsed": false
   },
   "outputs": [
    {
     "data": {
      "text/html": [
       "<div>\n",
       "<table border=\"1\" class=\"dataframe\">\n",
       "  <thead>\n",
       "    <tr style=\"text-align: right;\">\n",
       "      <th></th>\n",
       "      <th>year</th>\n",
       "      <th>name</th>\n",
       "      <th>type</th>\n",
       "      <th>character</th>\n",
       "      <th>n</th>\n",
       "    </tr>\n",
       "    <tr>\n",
       "      <th>title</th>\n",
       "      <th></th>\n",
       "      <th></th>\n",
       "      <th></th>\n",
       "      <th></th>\n",
       "      <th></th>\n",
       "    </tr>\n",
       "  </thead>\n",
       "  <tbody>\n",
       "    <tr>\n",
       "      <th>#1 Serial Killer</th>\n",
       "      <td>2013</td>\n",
       "      <td>Jinxia Ma</td>\n",
       "      <td>actress</td>\n",
       "      <td>Chinese Teacher</td>\n",
       "      <td>24.0</td>\n",
       "    </tr>\n",
       "    <tr>\n",
       "      <th>#1 Serial Killer</th>\n",
       "      <td>2013</td>\n",
       "      <td>Thomas Isao Morinaka</td>\n",
       "      <td>actor</td>\n",
       "      <td>Policeman #1</td>\n",
       "      <td>19.0</td>\n",
       "    </tr>\n",
       "    <tr>\n",
       "      <th>#1 Serial Killer</th>\n",
       "      <td>2013</td>\n",
       "      <td>Robert Cicchini</td>\n",
       "      <td>actor</td>\n",
       "      <td>Detective Phillips</td>\n",
       "      <td>9.0</td>\n",
       "    </tr>\n",
       "    <tr>\n",
       "      <th>#1 Serial Killer</th>\n",
       "      <td>2013</td>\n",
       "      <td>Thomas McCurdy</td>\n",
       "      <td>actor</td>\n",
       "      <td>Golf Club Victim</td>\n",
       "      <td>23.0</td>\n",
       "    </tr>\n",
       "    <tr>\n",
       "      <th>#1 Serial Killer</th>\n",
       "      <td>2013</td>\n",
       "      <td>Ellen (II) Ho</td>\n",
       "      <td>actress</td>\n",
       "      <td>Tiffany Wong</td>\n",
       "      <td>15.0</td>\n",
       "    </tr>\n",
       "  </tbody>\n",
       "</table>\n",
       "</div>"
      ],
      "text/plain": [
       "                  year                  name     type           character  \\\n",
       "title                                                                       \n",
       "#1 Serial Killer  2013             Jinxia Ma  actress     Chinese Teacher   \n",
       "#1 Serial Killer  2013  Thomas Isao Morinaka    actor        Policeman #1   \n",
       "#1 Serial Killer  2013       Robert Cicchini    actor  Detective Phillips   \n",
       "#1 Serial Killer  2013        Thomas McCurdy    actor    Golf Club Victim   \n",
       "#1 Serial Killer  2013         Ellen (II) Ho  actress        Tiffany Wong   \n",
       "\n",
       "                     n  \n",
       "title                   \n",
       "#1 Serial Killer  24.0  \n",
       "#1 Serial Killer  19.0  \n",
       "#1 Serial Killer   9.0  \n",
       "#1 Serial Killer  23.0  \n",
       "#1 Serial Killer  15.0  "
      ]
     },
     "execution_count": 131,
     "metadata": {},
     "output_type": "execute_result"
    }
   ],
   "source": [
    "c = cast.set_index(['title']).sort_index()\n",
    "c.head()"
   ]
  },
  {
   "cell_type": "code",
   "execution_count": 132,
   "metadata": {
    "collapsed": false
   },
   "outputs": [
    {
     "name": "stdout",
     "output_type": "stream",
     "text": [
      "CPU times: user 1.21 s, sys: 45.9 ms, total: 1.26 s\n",
      "Wall time: 1.26 s\n"
     ]
    },
    {
     "data": {
      "text/html": [
       "<div>\n",
       "<table border=\"1\" class=\"dataframe\">\n",
       "  <thead>\n",
       "    <tr style=\"text-align: right;\">\n",
       "      <th></th>\n",
       "      <th>year</th>\n",
       "      <th>name</th>\n",
       "      <th>type</th>\n",
       "      <th>character</th>\n",
       "      <th>n</th>\n",
       "    </tr>\n",
       "    <tr>\n",
       "      <th>title</th>\n",
       "      <th></th>\n",
       "      <th></th>\n",
       "      <th></th>\n",
       "      <th></th>\n",
       "      <th></th>\n",
       "    </tr>\n",
       "  </thead>\n",
       "  <tbody>\n",
       "    <tr>\n",
       "      <th>Sleuth</th>\n",
       "      <td>1972</td>\n",
       "      <td>Laurence Olivier</td>\n",
       "      <td>actor</td>\n",
       "      <td>Andrew Wyke</td>\n",
       "      <td>1.0</td>\n",
       "    </tr>\n",
       "    <tr>\n",
       "      <th>Sleuth</th>\n",
       "      <td>1972</td>\n",
       "      <td>Alec Cawthorne</td>\n",
       "      <td>actor</td>\n",
       "      <td>Inspector Doppler</td>\n",
       "      <td>3.0</td>\n",
       "    </tr>\n",
       "    <tr>\n",
       "      <th>Sleuth</th>\n",
       "      <td>2007</td>\n",
       "      <td>Alec (II) Cawthorne</td>\n",
       "      <td>actor</td>\n",
       "      <td>Inspector Doppler</td>\n",
       "      <td>NaN</td>\n",
       "    </tr>\n",
       "    <tr>\n",
       "      <th>Sleuth</th>\n",
       "      <td>1972</td>\n",
       "      <td>John (II) Matthews</td>\n",
       "      <td>actor</td>\n",
       "      <td>Detective Sergeant Tarrant</td>\n",
       "      <td>4.0</td>\n",
       "    </tr>\n",
       "    <tr>\n",
       "      <th>Sleuth</th>\n",
       "      <td>2007</td>\n",
       "      <td>Harold Pinter</td>\n",
       "      <td>actor</td>\n",
       "      <td>Man on T.V.</td>\n",
       "      <td>3.0</td>\n",
       "    </tr>\n",
       "    <tr>\n",
       "      <th>Sleuth</th>\n",
       "      <td>2007</td>\n",
       "      <td>Carmel O'Sullivan</td>\n",
       "      <td>actress</td>\n",
       "      <td>Maggie</td>\n",
       "      <td>NaN</td>\n",
       "    </tr>\n",
       "    <tr>\n",
       "      <th>Sleuth</th>\n",
       "      <td>2007</td>\n",
       "      <td>Jude Law</td>\n",
       "      <td>actor</td>\n",
       "      <td>Milo</td>\n",
       "      <td>2.0</td>\n",
       "    </tr>\n",
       "    <tr>\n",
       "      <th>Sleuth</th>\n",
       "      <td>2007</td>\n",
       "      <td>Michael Caine</td>\n",
       "      <td>actor</td>\n",
       "      <td>Andrew</td>\n",
       "      <td>1.0</td>\n",
       "    </tr>\n",
       "    <tr>\n",
       "      <th>Sleuth</th>\n",
       "      <td>2007</td>\n",
       "      <td>Kenneth Branagh</td>\n",
       "      <td>actor</td>\n",
       "      <td>Other Man on T.V.</td>\n",
       "      <td>NaN</td>\n",
       "    </tr>\n",
       "    <tr>\n",
       "      <th>Sleuth</th>\n",
       "      <td>2007</td>\n",
       "      <td>Eve (II) Channing</td>\n",
       "      <td>actress</td>\n",
       "      <td>Marguerite Wyke</td>\n",
       "      <td>NaN</td>\n",
       "    </tr>\n",
       "    <tr>\n",
       "      <th>Sleuth</th>\n",
       "      <td>1972</td>\n",
       "      <td>Michael Caine</td>\n",
       "      <td>actor</td>\n",
       "      <td>Milo Tindle</td>\n",
       "      <td>2.0</td>\n",
       "    </tr>\n",
       "    <tr>\n",
       "      <th>Sleuth</th>\n",
       "      <td>1972</td>\n",
       "      <td>Eve (III) Channing</td>\n",
       "      <td>actress</td>\n",
       "      <td>Marguerite Wyke</td>\n",
       "      <td>5.0</td>\n",
       "    </tr>\n",
       "    <tr>\n",
       "      <th>Sleuth</th>\n",
       "      <td>1972</td>\n",
       "      <td>Teddy Martin</td>\n",
       "      <td>actor</td>\n",
       "      <td>Police Constable Higgs</td>\n",
       "      <td>6.0</td>\n",
       "    </tr>\n",
       "  </tbody>\n",
       "</table>\n",
       "</div>"
      ],
      "text/plain": [
       "        year                 name     type                   character    n\n",
       "title                                                                      \n",
       "Sleuth  1972     Laurence Olivier    actor                 Andrew Wyke  1.0\n",
       "Sleuth  1972       Alec Cawthorne    actor           Inspector Doppler  3.0\n",
       "Sleuth  2007  Alec (II) Cawthorne    actor           Inspector Doppler  NaN\n",
       "Sleuth  1972   John (II) Matthews    actor  Detective Sergeant Tarrant  4.0\n",
       "Sleuth  2007        Harold Pinter    actor                 Man on T.V.  3.0\n",
       "Sleuth  2007    Carmel O'Sullivan  actress                      Maggie  NaN\n",
       "Sleuth  2007             Jude Law    actor                        Milo  2.0\n",
       "Sleuth  2007        Michael Caine    actor                      Andrew  1.0\n",
       "Sleuth  2007      Kenneth Branagh    actor           Other Man on T.V.  NaN\n",
       "Sleuth  2007    Eve (II) Channing  actress             Marguerite Wyke  NaN\n",
       "Sleuth  1972        Michael Caine    actor                 Milo Tindle  2.0\n",
       "Sleuth  1972   Eve (III) Channing  actress             Marguerite Wyke  5.0\n",
       "Sleuth  1972         Teddy Martin    actor      Police Constable Higgs  6.0"
      ]
     },
     "execution_count": 132,
     "metadata": {},
     "output_type": "execute_result"
    }
   ],
   "source": [
    "%%time\n",
    "c.loc['Sleuth']"
   ]
  },
  {
   "cell_type": "code",
   "execution_count": 133,
   "metadata": {
    "collapsed": false
   },
   "outputs": [
    {
     "name": "stdout",
     "output_type": "stream",
     "text": [
      "CPU times: user 596 µs, sys: 105 µs, total: 701 µs\n",
      "Wall time: 637 µs\n"
     ]
    },
    {
     "data": {
      "text/html": [
       "<div>\n",
       "<table border=\"1\" class=\"dataframe\">\n",
       "  <thead>\n",
       "    <tr style=\"text-align: right;\">\n",
       "      <th></th>\n",
       "      <th>year</th>\n",
       "      <th>name</th>\n",
       "      <th>type</th>\n",
       "      <th>character</th>\n",
       "      <th>n</th>\n",
       "    </tr>\n",
       "    <tr>\n",
       "      <th>title</th>\n",
       "      <th></th>\n",
       "      <th></th>\n",
       "      <th></th>\n",
       "      <th></th>\n",
       "      <th></th>\n",
       "    </tr>\n",
       "  </thead>\n",
       "  <tbody>\n",
       "    <tr>\n",
       "      <th>Sleuth</th>\n",
       "      <td>1972</td>\n",
       "      <td>Laurence Olivier</td>\n",
       "      <td>actor</td>\n",
       "      <td>Andrew Wyke</td>\n",
       "      <td>1.0</td>\n",
       "    </tr>\n",
       "    <tr>\n",
       "      <th>Sleuth</th>\n",
       "      <td>1972</td>\n",
       "      <td>Alec Cawthorne</td>\n",
       "      <td>actor</td>\n",
       "      <td>Inspector Doppler</td>\n",
       "      <td>3.0</td>\n",
       "    </tr>\n",
       "    <tr>\n",
       "      <th>Sleuth</th>\n",
       "      <td>2007</td>\n",
       "      <td>Alec (II) Cawthorne</td>\n",
       "      <td>actor</td>\n",
       "      <td>Inspector Doppler</td>\n",
       "      <td>NaN</td>\n",
       "    </tr>\n",
       "    <tr>\n",
       "      <th>Sleuth</th>\n",
       "      <td>1972</td>\n",
       "      <td>John (II) Matthews</td>\n",
       "      <td>actor</td>\n",
       "      <td>Detective Sergeant Tarrant</td>\n",
       "      <td>4.0</td>\n",
       "    </tr>\n",
       "    <tr>\n",
       "      <th>Sleuth</th>\n",
       "      <td>2007</td>\n",
       "      <td>Harold Pinter</td>\n",
       "      <td>actor</td>\n",
       "      <td>Man on T.V.</td>\n",
       "      <td>3.0</td>\n",
       "    </tr>\n",
       "    <tr>\n",
       "      <th>Sleuth</th>\n",
       "      <td>2007</td>\n",
       "      <td>Carmel O'Sullivan</td>\n",
       "      <td>actress</td>\n",
       "      <td>Maggie</td>\n",
       "      <td>NaN</td>\n",
       "    </tr>\n",
       "    <tr>\n",
       "      <th>Sleuth</th>\n",
       "      <td>2007</td>\n",
       "      <td>Jude Law</td>\n",
       "      <td>actor</td>\n",
       "      <td>Milo</td>\n",
       "      <td>2.0</td>\n",
       "    </tr>\n",
       "    <tr>\n",
       "      <th>Sleuth</th>\n",
       "      <td>2007</td>\n",
       "      <td>Michael Caine</td>\n",
       "      <td>actor</td>\n",
       "      <td>Andrew</td>\n",
       "      <td>1.0</td>\n",
       "    </tr>\n",
       "    <tr>\n",
       "      <th>Sleuth</th>\n",
       "      <td>2007</td>\n",
       "      <td>Kenneth Branagh</td>\n",
       "      <td>actor</td>\n",
       "      <td>Other Man on T.V.</td>\n",
       "      <td>NaN</td>\n",
       "    </tr>\n",
       "    <tr>\n",
       "      <th>Sleuth</th>\n",
       "      <td>2007</td>\n",
       "      <td>Eve (II) Channing</td>\n",
       "      <td>actress</td>\n",
       "      <td>Marguerite Wyke</td>\n",
       "      <td>NaN</td>\n",
       "    </tr>\n",
       "    <tr>\n",
       "      <th>Sleuth</th>\n",
       "      <td>1972</td>\n",
       "      <td>Michael Caine</td>\n",
       "      <td>actor</td>\n",
       "      <td>Milo Tindle</td>\n",
       "      <td>2.0</td>\n",
       "    </tr>\n",
       "    <tr>\n",
       "      <th>Sleuth</th>\n",
       "      <td>1972</td>\n",
       "      <td>Eve (III) Channing</td>\n",
       "      <td>actress</td>\n",
       "      <td>Marguerite Wyke</td>\n",
       "      <td>5.0</td>\n",
       "    </tr>\n",
       "    <tr>\n",
       "      <th>Sleuth</th>\n",
       "      <td>1972</td>\n",
       "      <td>Teddy Martin</td>\n",
       "      <td>actor</td>\n",
       "      <td>Police Constable Higgs</td>\n",
       "      <td>6.0</td>\n",
       "    </tr>\n",
       "  </tbody>\n",
       "</table>\n",
       "</div>"
      ],
      "text/plain": [
       "        year                 name     type                   character    n\n",
       "title                                                                      \n",
       "Sleuth  1972     Laurence Olivier    actor                 Andrew Wyke  1.0\n",
       "Sleuth  1972       Alec Cawthorne    actor           Inspector Doppler  3.0\n",
       "Sleuth  2007  Alec (II) Cawthorne    actor           Inspector Doppler  NaN\n",
       "Sleuth  1972   John (II) Matthews    actor  Detective Sergeant Tarrant  4.0\n",
       "Sleuth  2007        Harold Pinter    actor                 Man on T.V.  3.0\n",
       "Sleuth  2007    Carmel O'Sullivan  actress                      Maggie  NaN\n",
       "Sleuth  2007             Jude Law    actor                        Milo  2.0\n",
       "Sleuth  2007        Michael Caine    actor                      Andrew  1.0\n",
       "Sleuth  2007      Kenneth Branagh    actor           Other Man on T.V.  NaN\n",
       "Sleuth  2007    Eve (II) Channing  actress             Marguerite Wyke  NaN\n",
       "Sleuth  1972        Michael Caine    actor                 Milo Tindle  2.0\n",
       "Sleuth  1972   Eve (III) Channing  actress             Marguerite Wyke  5.0\n",
       "Sleuth  1972         Teddy Martin    actor      Police Constable Higgs  6.0"
      ]
     },
     "execution_count": 133,
     "metadata": {},
     "output_type": "execute_result"
    }
   ],
   "source": [
    "%%time\n",
    "c.loc['Sleuth']"
   ]
  },
  {
   "cell_type": "code",
   "execution_count": 135,
   "metadata": {
    "collapsed": false
   },
   "outputs": [
    {
     "data": {
      "text/html": [
       "<div>\n",
       "<table border=\"1\" class=\"dataframe\">\n",
       "  <thead>\n",
       "    <tr style=\"text-align: right;\">\n",
       "      <th></th>\n",
       "      <th></th>\n",
       "      <th>name</th>\n",
       "      <th>type</th>\n",
       "      <th>character</th>\n",
       "      <th>n</th>\n",
       "    </tr>\n",
       "    <tr>\n",
       "      <th>title</th>\n",
       "      <th>year</th>\n",
       "      <th></th>\n",
       "      <th></th>\n",
       "      <th></th>\n",
       "      <th></th>\n",
       "    </tr>\n",
       "  </thead>\n",
       "  <tbody>\n",
       "    <tr>\n",
       "      <th rowspan=\"20\" valign=\"top\">#1 Serial Killer</th>\n",
       "      <th>2013</th>\n",
       "      <td>Michael Alton</td>\n",
       "      <td>actor</td>\n",
       "      <td>Detective Roberts</td>\n",
       "      <td>17.0</td>\n",
       "    </tr>\n",
       "    <tr>\n",
       "      <th>2013</th>\n",
       "      <td>Aaron Aoki</td>\n",
       "      <td>actor</td>\n",
       "      <td>Plastic Bag Victim</td>\n",
       "      <td>21.0</td>\n",
       "    </tr>\n",
       "    <tr>\n",
       "      <th>2013</th>\n",
       "      <td>Zachary (X) Brown</td>\n",
       "      <td>actor</td>\n",
       "      <td>Africian American Teen</td>\n",
       "      <td>18.0</td>\n",
       "    </tr>\n",
       "    <tr>\n",
       "      <th>2013</th>\n",
       "      <td>Yvis Cannavale</td>\n",
       "      <td>actor</td>\n",
       "      <td>Homeless Man</td>\n",
       "      <td>25.0</td>\n",
       "    </tr>\n",
       "    <tr>\n",
       "      <th>2013</th>\n",
       "      <td>Patrick Chien</td>\n",
       "      <td>actor</td>\n",
       "      <td>Cleaver Victim</td>\n",
       "      <td>22.0</td>\n",
       "    </tr>\n",
       "    <tr>\n",
       "      <th>2013</th>\n",
       "      <td>Matthias Chrans</td>\n",
       "      <td>actor</td>\n",
       "      <td>Brian Bennett</td>\n",
       "      <td>13.0</td>\n",
       "    </tr>\n",
       "    <tr>\n",
       "      <th>2013</th>\n",
       "      <td>Robert Cicchini</td>\n",
       "      <td>actor</td>\n",
       "      <td>Detective Phillips</td>\n",
       "      <td>9.0</td>\n",
       "    </tr>\n",
       "    <tr>\n",
       "      <th>2013</th>\n",
       "      <td>Scott Eriksson</td>\n",
       "      <td>actor</td>\n",
       "      <td>Party Guest</td>\n",
       "      <td>NaN</td>\n",
       "    </tr>\n",
       "    <tr>\n",
       "      <th>2013</th>\n",
       "      <td>Rane Jameson</td>\n",
       "      <td>actor</td>\n",
       "      <td>Micah Betancourt</td>\n",
       "      <td>6.0</td>\n",
       "    </tr>\n",
       "    <tr>\n",
       "      <th>2013</th>\n",
       "      <td>Tzi Ma</td>\n",
       "      <td>actor</td>\n",
       "      <td>Mr. Chang</td>\n",
       "      <td>3.0</td>\n",
       "    </tr>\n",
       "    <tr>\n",
       "      <th>2013</th>\n",
       "      <td>Thomas McCurdy</td>\n",
       "      <td>actor</td>\n",
       "      <td>Golf Club Victim</td>\n",
       "      <td>23.0</td>\n",
       "    </tr>\n",
       "    <tr>\n",
       "      <th>2013</th>\n",
       "      <td>Thomas Isao Morinaka</td>\n",
       "      <td>actor</td>\n",
       "      <td>Policeman #1</td>\n",
       "      <td>19.0</td>\n",
       "    </tr>\n",
       "    <tr>\n",
       "      <th>2013</th>\n",
       "      <td>Parry Shen</td>\n",
       "      <td>actor</td>\n",
       "      <td>Murder Victim</td>\n",
       "      <td>NaN</td>\n",
       "    </tr>\n",
       "    <tr>\n",
       "      <th>2013</th>\n",
       "      <td>Eric (II) St. John</td>\n",
       "      <td>actor</td>\n",
       "      <td>Officer Williams</td>\n",
       "      <td>NaN</td>\n",
       "    </tr>\n",
       "    <tr>\n",
       "      <th>2013</th>\n",
       "      <td>Brian Takahashi</td>\n",
       "      <td>actor</td>\n",
       "      <td>Stabbing Victim</td>\n",
       "      <td>20.0</td>\n",
       "    </tr>\n",
       "    <tr>\n",
       "      <th>2013</th>\n",
       "      <td>Timothy Tau</td>\n",
       "      <td>actor</td>\n",
       "      <td>Police Officer</td>\n",
       "      <td>NaN</td>\n",
       "    </tr>\n",
       "    <tr>\n",
       "      <th>2013</th>\n",
       "      <td>Jason Tobin</td>\n",
       "      <td>actor</td>\n",
       "      <td>Eddy Tsai</td>\n",
       "      <td>1.0</td>\n",
       "    </tr>\n",
       "    <tr>\n",
       "      <th>2013</th>\n",
       "      <td>Jesse Wang</td>\n",
       "      <td>actor</td>\n",
       "      <td>Mr. Tsai</td>\n",
       "      <td>11.0</td>\n",
       "    </tr>\n",
       "    <tr>\n",
       "      <th>2013</th>\n",
       "      <td>Romina Bovolini</td>\n",
       "      <td>actress</td>\n",
       "      <td>Lisa Simpson</td>\n",
       "      <td>14.0</td>\n",
       "    </tr>\n",
       "    <tr>\n",
       "      <th>2013</th>\n",
       "      <td>Shoshana Bush</td>\n",
       "      <td>actress</td>\n",
       "      <td>Tricia Arnold</td>\n",
       "      <td>4.0</td>\n",
       "    </tr>\n",
       "  </tbody>\n",
       "</table>\n",
       "</div>"
      ],
      "text/plain": [
       "                                       name     type               character  \\\n",
       "title            year                                                          \n",
       "#1 Serial Killer 2013         Michael Alton    actor       Detective Roberts   \n",
       "                 2013            Aaron Aoki    actor      Plastic Bag Victim   \n",
       "                 2013     Zachary (X) Brown    actor  Africian American Teen   \n",
       "                 2013        Yvis Cannavale    actor            Homeless Man   \n",
       "                 2013         Patrick Chien    actor          Cleaver Victim   \n",
       "                 2013       Matthias Chrans    actor           Brian Bennett   \n",
       "                 2013       Robert Cicchini    actor      Detective Phillips   \n",
       "                 2013        Scott Eriksson    actor             Party Guest   \n",
       "                 2013          Rane Jameson    actor        Micah Betancourt   \n",
       "                 2013                Tzi Ma    actor               Mr. Chang   \n",
       "                 2013        Thomas McCurdy    actor        Golf Club Victim   \n",
       "                 2013  Thomas Isao Morinaka    actor            Policeman #1   \n",
       "                 2013            Parry Shen    actor           Murder Victim   \n",
       "                 2013    Eric (II) St. John    actor        Officer Williams   \n",
       "                 2013       Brian Takahashi    actor         Stabbing Victim   \n",
       "                 2013           Timothy Tau    actor          Police Officer   \n",
       "                 2013           Jason Tobin    actor               Eddy Tsai   \n",
       "                 2013            Jesse Wang    actor                Mr. Tsai   \n",
       "                 2013       Romina Bovolini  actress            Lisa Simpson   \n",
       "                 2013         Shoshana Bush  actress           Tricia Arnold   \n",
       "\n",
       "                          n  \n",
       "title            year        \n",
       "#1 Serial Killer 2013  17.0  \n",
       "                 2013  21.0  \n",
       "                 2013  18.0  \n",
       "                 2013  25.0  \n",
       "                 2013  22.0  \n",
       "                 2013  13.0  \n",
       "                 2013   9.0  \n",
       "                 2013   NaN  \n",
       "                 2013   6.0  \n",
       "                 2013   3.0  \n",
       "                 2013  23.0  \n",
       "                 2013  19.0  \n",
       "                 2013   NaN  \n",
       "                 2013   NaN  \n",
       "                 2013  20.0  \n",
       "                 2013   NaN  \n",
       "                 2013   1.0  \n",
       "                 2013  11.0  \n",
       "                 2013  14.0  \n",
       "                 2013   4.0  "
      ]
     },
     "execution_count": 135,
     "metadata": {},
     "output_type": "execute_result"
    }
   ],
   "source": [
    "c = cast.set_index(['title','year']).sort_index()\n",
    "c.head(20)"
   ]
  },
  {
   "cell_type": "code",
   "execution_count": 136,
   "metadata": {
    "collapsed": false
   },
   "outputs": [
    {
     "name": "stdout",
     "output_type": "stream",
     "text": [
      "CPU times: user 69.6 ms, sys: 14.9 ms, total: 84.5 ms\n",
      "Wall time: 82.1 ms\n"
     ]
    },
    {
     "data": {
      "text/html": [
       "<div>\n",
       "<table border=\"1\" class=\"dataframe\">\n",
       "  <thead>\n",
       "    <tr style=\"text-align: right;\">\n",
       "      <th></th>\n",
       "      <th>name</th>\n",
       "      <th>type</th>\n",
       "      <th>character</th>\n",
       "      <th>n</th>\n",
       "    </tr>\n",
       "    <tr>\n",
       "      <th>year</th>\n",
       "      <th></th>\n",
       "      <th></th>\n",
       "      <th></th>\n",
       "      <th></th>\n",
       "    </tr>\n",
       "  </thead>\n",
       "  <tbody>\n",
       "    <tr>\n",
       "      <th>1972</th>\n",
       "      <td>Michael Caine</td>\n",
       "      <td>actor</td>\n",
       "      <td>Milo Tindle</td>\n",
       "      <td>2.0</td>\n",
       "    </tr>\n",
       "    <tr>\n",
       "      <th>1972</th>\n",
       "      <td>Alec Cawthorne</td>\n",
       "      <td>actor</td>\n",
       "      <td>Inspector Doppler</td>\n",
       "      <td>3.0</td>\n",
       "    </tr>\n",
       "    <tr>\n",
       "      <th>1972</th>\n",
       "      <td>Teddy Martin</td>\n",
       "      <td>actor</td>\n",
       "      <td>Police Constable Higgs</td>\n",
       "      <td>6.0</td>\n",
       "    </tr>\n",
       "    <tr>\n",
       "      <th>1972</th>\n",
       "      <td>John (II) Matthews</td>\n",
       "      <td>actor</td>\n",
       "      <td>Detective Sergeant Tarrant</td>\n",
       "      <td>4.0</td>\n",
       "    </tr>\n",
       "    <tr>\n",
       "      <th>1972</th>\n",
       "      <td>Laurence Olivier</td>\n",
       "      <td>actor</td>\n",
       "      <td>Andrew Wyke</td>\n",
       "      <td>1.0</td>\n",
       "    </tr>\n",
       "    <tr>\n",
       "      <th>1972</th>\n",
       "      <td>Eve (III) Channing</td>\n",
       "      <td>actress</td>\n",
       "      <td>Marguerite Wyke</td>\n",
       "      <td>5.0</td>\n",
       "    </tr>\n",
       "  </tbody>\n",
       "</table>\n",
       "</div>"
      ],
      "text/plain": [
       "                    name     type                   character    n\n",
       "year                                                              \n",
       "1972       Michael Caine    actor                 Milo Tindle  2.0\n",
       "1972      Alec Cawthorne    actor           Inspector Doppler  3.0\n",
       "1972        Teddy Martin    actor      Police Constable Higgs  6.0\n",
       "1972  John (II) Matthews    actor  Detective Sergeant Tarrant  4.0\n",
       "1972    Laurence Olivier    actor                 Andrew Wyke  1.0\n",
       "1972  Eve (III) Channing  actress             Marguerite Wyke  5.0"
      ]
     },
     "execution_count": 136,
     "metadata": {},
     "output_type": "execute_result"
    }
   ],
   "source": [
    "%%time\n",
    "c.loc['Sleuth'].loc[1972]"
   ]
  },
  {
   "cell_type": "code",
   "execution_count": 139,
   "metadata": {
    "collapsed": false
   },
   "outputs": [
    {
     "name": "stdout",
     "output_type": "stream",
     "text": [
      "CPU times: user 25.7 ms, sys: 24 ms, total: 49.7 ms\n",
      "Wall time: 47.8 ms\n"
     ]
    },
    {
     "data": {
      "text/html": [
       "<div>\n",
       "<table border=\"1\" class=\"dataframe\">\n",
       "  <thead>\n",
       "    <tr style=\"text-align: right;\">\n",
       "      <th></th>\n",
       "      <th></th>\n",
       "      <th>name</th>\n",
       "      <th>type</th>\n",
       "      <th>character</th>\n",
       "      <th>n</th>\n",
       "    </tr>\n",
       "    <tr>\n",
       "      <th>title</th>\n",
       "      <th>year</th>\n",
       "      <th></th>\n",
       "      <th></th>\n",
       "      <th></th>\n",
       "      <th></th>\n",
       "    </tr>\n",
       "  </thead>\n",
       "  <tbody>\n",
       "    <tr>\n",
       "      <th rowspan=\"6\" valign=\"top\">Sleuth</th>\n",
       "      <th>1972</th>\n",
       "      <td>Michael Caine</td>\n",
       "      <td>actor</td>\n",
       "      <td>Milo Tindle</td>\n",
       "      <td>2.0</td>\n",
       "    </tr>\n",
       "    <tr>\n",
       "      <th>1972</th>\n",
       "      <td>Alec Cawthorne</td>\n",
       "      <td>actor</td>\n",
       "      <td>Inspector Doppler</td>\n",
       "      <td>3.0</td>\n",
       "    </tr>\n",
       "    <tr>\n",
       "      <th>1972</th>\n",
       "      <td>Teddy Martin</td>\n",
       "      <td>actor</td>\n",
       "      <td>Police Constable Higgs</td>\n",
       "      <td>6.0</td>\n",
       "    </tr>\n",
       "    <tr>\n",
       "      <th>1972</th>\n",
       "      <td>John (II) Matthews</td>\n",
       "      <td>actor</td>\n",
       "      <td>Detective Sergeant Tarrant</td>\n",
       "      <td>4.0</td>\n",
       "    </tr>\n",
       "    <tr>\n",
       "      <th>1972</th>\n",
       "      <td>Laurence Olivier</td>\n",
       "      <td>actor</td>\n",
       "      <td>Andrew Wyke</td>\n",
       "      <td>1.0</td>\n",
       "    </tr>\n",
       "    <tr>\n",
       "      <th>1972</th>\n",
       "      <td>Eve (III) Channing</td>\n",
       "      <td>actress</td>\n",
       "      <td>Marguerite Wyke</td>\n",
       "      <td>5.0</td>\n",
       "    </tr>\n",
       "  </tbody>\n",
       "</table>\n",
       "</div>"
      ],
      "text/plain": [
       "                           name     type                   character    n\n",
       "title  year                                                              \n",
       "Sleuth 1972       Michael Caine    actor                 Milo Tindle  2.0\n",
       "       1972      Alec Cawthorne    actor           Inspector Doppler  3.0\n",
       "       1972        Teddy Martin    actor      Police Constable Higgs  6.0\n",
       "       1972  John (II) Matthews    actor  Detective Sergeant Tarrant  4.0\n",
       "       1972    Laurence Olivier    actor                 Andrew Wyke  1.0\n",
       "       1972  Eve (III) Channing  actress             Marguerite Wyke  5.0"
      ]
     },
     "execution_count": 139,
     "metadata": {},
     "output_type": "execute_result"
    }
   ],
   "source": [
    "%%time\n",
    "c.loc[('Sleuth',1972)]"
   ]
  },
  {
   "cell_type": "code",
   "execution_count": 140,
   "metadata": {
    "collapsed": false
   },
   "outputs": [
    {
     "data": {
      "text/html": [
       "<div>\n",
       "<table border=\"1\" class=\"dataframe\">\n",
       "  <thead>\n",
       "    <tr style=\"text-align: right;\">\n",
       "      <th></th>\n",
       "      <th>year</th>\n",
       "      <th>name</th>\n",
       "      <th>type</th>\n",
       "      <th>character</th>\n",
       "      <th>n</th>\n",
       "    </tr>\n",
       "    <tr>\n",
       "      <th>title</th>\n",
       "      <th></th>\n",
       "      <th></th>\n",
       "      <th></th>\n",
       "      <th></th>\n",
       "      <th></th>\n",
       "    </tr>\n",
       "  </thead>\n",
       "  <tbody>\n",
       "    <tr>\n",
       "      <th>Sleuth</th>\n",
       "      <td>1972</td>\n",
       "      <td>Michael Caine</td>\n",
       "      <td>actor</td>\n",
       "      <td>Milo Tindle</td>\n",
       "      <td>2.0</td>\n",
       "    </tr>\n",
       "    <tr>\n",
       "      <th>Sleuth</th>\n",
       "      <td>1972</td>\n",
       "      <td>Alec Cawthorne</td>\n",
       "      <td>actor</td>\n",
       "      <td>Inspector Doppler</td>\n",
       "      <td>3.0</td>\n",
       "    </tr>\n",
       "    <tr>\n",
       "      <th>Sleuth</th>\n",
       "      <td>1972</td>\n",
       "      <td>Teddy Martin</td>\n",
       "      <td>actor</td>\n",
       "      <td>Police Constable Higgs</td>\n",
       "      <td>6.0</td>\n",
       "    </tr>\n",
       "    <tr>\n",
       "      <th>Sleuth</th>\n",
       "      <td>1972</td>\n",
       "      <td>John (II) Matthews</td>\n",
       "      <td>actor</td>\n",
       "      <td>Detective Sergeant Tarrant</td>\n",
       "      <td>4.0</td>\n",
       "    </tr>\n",
       "    <tr>\n",
       "      <th>Sleuth</th>\n",
       "      <td>1972</td>\n",
       "      <td>Laurence Olivier</td>\n",
       "      <td>actor</td>\n",
       "      <td>Andrew Wyke</td>\n",
       "      <td>1.0</td>\n",
       "    </tr>\n",
       "    <tr>\n",
       "      <th>Sleuth</th>\n",
       "      <td>1972</td>\n",
       "      <td>Eve (III) Channing</td>\n",
       "      <td>actress</td>\n",
       "      <td>Marguerite Wyke</td>\n",
       "      <td>5.0</td>\n",
       "    </tr>\n",
       "  </tbody>\n",
       "</table>\n",
       "</div>"
      ],
      "text/plain": [
       "        year                name     type                   character    n\n",
       "title                                                                     \n",
       "Sleuth  1972       Michael Caine    actor                 Milo Tindle  2.0\n",
       "Sleuth  1972      Alec Cawthorne    actor           Inspector Doppler  3.0\n",
       "Sleuth  1972        Teddy Martin    actor      Police Constable Higgs  6.0\n",
       "Sleuth  1972  John (II) Matthews    actor  Detective Sergeant Tarrant  4.0\n",
       "Sleuth  1972    Laurence Olivier    actor                 Andrew Wyke  1.0\n",
       "Sleuth  1972  Eve (III) Channing  actress             Marguerite Wyke  5.0"
      ]
     },
     "execution_count": 140,
     "metadata": {},
     "output_type": "execute_result"
    }
   ],
   "source": [
    "c.loc[('Sleuth',1972)].reset_index('year')"
   ]
  },
  {
   "cell_type": "code",
   "execution_count": 142,
   "metadata": {
    "collapsed": false
   },
   "outputs": [
    {
     "data": {
      "text/html": [
       "<div>\n",
       "<table border=\"1\" class=\"dataframe\">\n",
       "  <thead>\n",
       "    <tr style=\"text-align: right;\">\n",
       "      <th></th>\n",
       "      <th>title</th>\n",
       "      <th>year</th>\n",
       "      <th>name</th>\n",
       "      <th>type</th>\n",
       "      <th>character</th>\n",
       "      <th>n</th>\n",
       "    </tr>\n",
       "  </thead>\n",
       "  <tbody>\n",
       "    <tr>\n",
       "      <th>0</th>\n",
       "      <td>Sleuth</td>\n",
       "      <td>1972</td>\n",
       "      <td>Michael Caine</td>\n",
       "      <td>actor</td>\n",
       "      <td>Milo Tindle</td>\n",
       "      <td>2.0</td>\n",
       "    </tr>\n",
       "    <tr>\n",
       "      <th>1</th>\n",
       "      <td>Sleuth</td>\n",
       "      <td>1972</td>\n",
       "      <td>Alec Cawthorne</td>\n",
       "      <td>actor</td>\n",
       "      <td>Inspector Doppler</td>\n",
       "      <td>3.0</td>\n",
       "    </tr>\n",
       "    <tr>\n",
       "      <th>2</th>\n",
       "      <td>Sleuth</td>\n",
       "      <td>1972</td>\n",
       "      <td>Teddy Martin</td>\n",
       "      <td>actor</td>\n",
       "      <td>Police Constable Higgs</td>\n",
       "      <td>6.0</td>\n",
       "    </tr>\n",
       "    <tr>\n",
       "      <th>3</th>\n",
       "      <td>Sleuth</td>\n",
       "      <td>1972</td>\n",
       "      <td>John (II) Matthews</td>\n",
       "      <td>actor</td>\n",
       "      <td>Detective Sergeant Tarrant</td>\n",
       "      <td>4.0</td>\n",
       "    </tr>\n",
       "    <tr>\n",
       "      <th>4</th>\n",
       "      <td>Sleuth</td>\n",
       "      <td>1972</td>\n",
       "      <td>Laurence Olivier</td>\n",
       "      <td>actor</td>\n",
       "      <td>Andrew Wyke</td>\n",
       "      <td>1.0</td>\n",
       "    </tr>\n",
       "    <tr>\n",
       "      <th>5</th>\n",
       "      <td>Sleuth</td>\n",
       "      <td>1972</td>\n",
       "      <td>Eve (III) Channing</td>\n",
       "      <td>actress</td>\n",
       "      <td>Marguerite Wyke</td>\n",
       "      <td>5.0</td>\n",
       "    </tr>\n",
       "  </tbody>\n",
       "</table>\n",
       "</div>"
      ],
      "text/plain": [
       "    title  year                name     type                   character    n\n",
       "0  Sleuth  1972       Michael Caine    actor                 Milo Tindle  2.0\n",
       "1  Sleuth  1972      Alec Cawthorne    actor           Inspector Doppler  3.0\n",
       "2  Sleuth  1972        Teddy Martin    actor      Police Constable Higgs  6.0\n",
       "3  Sleuth  1972  John (II) Matthews    actor  Detective Sergeant Tarrant  4.0\n",
       "4  Sleuth  1972    Laurence Olivier    actor                 Andrew Wyke  1.0\n",
       "5  Sleuth  1972  Eve (III) Channing  actress             Marguerite Wyke  5.0"
      ]
     },
     "execution_count": 142,
     "metadata": {},
     "output_type": "execute_result"
    }
   ],
   "source": [
    "c.loc[('Sleuth',1972)].reset_index(['year','title'])"
   ]
  },
  {
   "cell_type": "code",
   "execution_count": null,
   "metadata": {
    "collapsed": true
   },
   "outputs": [],
   "source": []
  },
  {
   "cell_type": "code",
   "execution_count": 144,
   "metadata": {
    "collapsed": false
   },
   "outputs": [
    {
     "data": {
      "text/plain": [
       "title                               year  character               \n",
       "Batman & Robin                      1997  Batman                      1\n",
       "                                          Bruce Wayne                 1\n",
       "Burn After Reading                  2008  Harry Pfarrer               1\n",
       "Confessions of a Dangerous Mind     2002  Jim Byrd                    1\n",
       "Curdled                             1996  Seth Gecko                  1\n",
       "Fantastic Mr. Fox                   2009  Mr. Fox                     1\n",
       "From Dusk Till Dawn                 1996  Seth Gecko                  1\n",
       "Good Night, and Good Luck.          2005  Fred Friendly               1\n",
       "Gravity                             2013  Matt Kowalski               1\n",
       "Grizzly II: The Concert             1983  Ron                         1\n",
       "Hail, Caesar!                       2016  Baird Whitlock              1\n",
       "Intolerable Cruelty                 2003  Miles                       1\n",
       "Leatherheads                        2008  Dodge Connelly              1\n",
       "Michael Clayton                     2007  Michael Clayton             1\n",
       "Money Monster                       2016  Lee Gates                   1\n",
       "Morning Glory                       2010  Himself                     1\n",
       "O Brother, Where Art Thou?          2000  Everett                     1\n",
       "Ocean's Eleven                      2001  Danny Ocean                 1\n",
       "Ocean's Thirteen                    2007  Danny Ocean                 1\n",
       "Ocean's Twelve                      2004  Danny Ocean                 1\n",
       "One Fine Day                        1996  Jack Taylor                 1\n",
       "Out of Sight                        1998  Jack Foley                  1\n",
       "Return of the Killer Tomatoes!      1988  Matt Stevens                1\n",
       "Return to Horror High               1987  Oliver                      1\n",
       "Solaris                             2002  Chris Kelvin                1\n",
       "South Park: Bigger, Longer & Uncut  1999  Dr. Gouache                 1\n",
       "Spy Kids                            2001  Devlin                      1\n",
       "Spy Kids 3-D: Game Over             2003  Devlin                      1\n",
       "Syriana                             2005  Bob Barnes                  1\n",
       "The American                        2010  Edward                      1\n",
       "                                          Jack                        1\n",
       "The Book That Wrote Itself          1999  Himself                     1\n",
       "The Descendants                     2011  Matt King                   1\n",
       "The Good German                     2006  Jake Geismer                1\n",
       "The Harvest                         1992  Lip Syncing Transvestite    1\n",
       "The Ides of March                   2011  Governor Mike Morris        1\n",
       "The Limey                           1999  Himself                     1\n",
       "The Men Who Stare at Goats          2009  Lyn Cassady                 1\n",
       "The Monuments Men                   2014  Frank Stokes                1\n",
       "The Peacemaker                      1997  Lt. Col. Thomas Devoe       1\n",
       "The Perfect Storm                   2000  Billy Tyne                  1\n",
       "The Thin Red Line                   1998  Capt. Charles Bosche        1\n",
       "Three Kings                         1999  Archie Gates                1\n",
       "Tomorrowland                        2015  Frank Walker                1\n",
       "Unbecoming Age                      1992  Mac                         1\n",
       "Up in the Air                       2009  Ryan Bingham                1\n",
       "Welcome to Collinwood               2002  Jerzy                       1\n",
       "dtype: int64"
      ]
     },
     "execution_count": 144,
     "metadata": {},
     "output_type": "execute_result"
    }
   ],
   "source": [
    "c= cast\n",
    "c= c[c.name == 'George Clooney']\n",
    "c.groupby(['title', 'year', 'character']).size()"
   ]
  },
  {
   "cell_type": "code",
   "execution_count": 145,
   "metadata": {
    "collapsed": false
   },
   "outputs": [
    {
     "data": {
      "text/plain": [
       "year\n",
       "1983    1\n",
       "1987    1\n",
       "1988    1\n",
       "1992    2\n",
       "1996    3\n",
       "1997    3\n",
       "1998    2\n",
       "1999    4\n",
       "2000    2\n",
       "2001    2\n",
       "2002    3\n",
       "2003    2\n",
       "2004    1\n",
       "2005    2\n",
       "2006    1\n",
       "2007    2\n",
       "2008    2\n",
       "2009    3\n",
       "2010    3\n",
       "2011    2\n",
       "2013    1\n",
       "2014    1\n",
       "2015    1\n",
       "2016    2\n",
       "dtype: int64"
      ]
     },
     "execution_count": 145,
     "metadata": {},
     "output_type": "execute_result"
    }
   ],
   "source": [
    "c= cast\n",
    "c= c[c.name == 'George Clooney']\n",
    "c.groupby(['year']).size()"
   ]
  },
  {
   "cell_type": "code",
   "execution_count": 147,
   "metadata": {
    "collapsed": false
   },
   "outputs": [
    {
     "data": {
      "text/plain": [
       "<matplotlib.axes._subplots.AxesSubplot at 0x113ba49b0>"
      ]
     },
     "execution_count": 147,
     "metadata": {},
     "output_type": "execute_result"
    },
    {
     "data": {
      "image/png": "[encoded data removed]",
      "text/plain": [
       "<matplotlib.figure.Figure at 0x113bba0b8>"
      ]
     },
     "metadata": {},
     "output_type": "display_data"
    }
   ],
   "source": [
    "c= cast\n",
    "c= c[c.name == 'George Clooney']\n",
    "c.groupby(['year']).size().plot(ylim=0, style = \"*\")"
   ]
  },
  {
   "cell_type": "code",
   "execution_count": 148,
   "metadata": {
    "collapsed": false
   },
   "outputs": [
    {
     "data": {
      "text/plain": [
       "year\n",
       "1983     NaN\n",
       "1987    15.0\n",
       "1988     2.0\n",
       "1992    23.0\n",
       "1996     2.0\n",
       "1997     2.0\n",
       "1998    14.0\n",
       "1999    11.0\n",
       "2000     1.0\n",
       "2001    36.0\n",
       "2002    17.0\n",
       "2003    22.0\n",
       "2004     3.0\n",
       "2005    15.0\n",
       "2006     1.0\n",
       "2007     6.0\n",
       "2008     5.0\n",
       "2009     1.0\n",
       "2010     1.0\n",
       "2011     2.0\n",
       "2013     2.0\n",
       "2014     1.0\n",
       "2015     1.0\n",
       "2016     2.0\n",
       "Name: n, dtype: float64"
      ]
     },
     "execution_count": 148,
     "metadata": {},
     "output_type": "execute_result"
    }
   ],
   "source": [
    "c= cast\n",
    "c= c[c.name == 'George Clooney']\n",
    "c.groupby(['year']).n.max()"
   ]
  },
  {
   "cell_type": "code",
   "execution_count": 149,
   "metadata": {
    "collapsed": false
   },
   "outputs": [
    {
     "data": {
      "text/plain": [
       "year\n",
       "1983     NaN\n",
       "1987    15.0\n",
       "1988     2.0\n",
       "1992    23.0\n",
       "1996     2.0\n",
       "1997     2.0\n",
       "1998    14.0\n",
       "1999    11.0\n",
       "2000     1.0\n",
       "2001    36.0\n",
       "2002    17.0\n",
       "2003    22.0\n",
       "2004     3.0\n",
       "2005    15.0\n",
       "2006     1.0\n",
       "2007     6.0\n",
       "2008     5.0\n",
       "2009     1.0\n",
       "2010     1.0\n",
       "2011     2.0\n",
       "2013     2.0\n",
       "2014     1.0\n",
       "2015     1.0\n",
       "2016     2.0\n",
       "Name: n, dtype: float64"
      ]
     },
     "execution_count": 149,
     "metadata": {},
     "output_type": "execute_result"
    }
   ],
   "source": [
    "c= cast\n",
    "c= c[c.name == 'George Clooney']\n",
    "c.groupby(['year']).n.max()"
   ]
  },
  {
   "cell_type": "code",
   "execution_count": 150,
   "metadata": {
    "collapsed": false
   },
   "outputs": [
    {
     "data": {
      "text/plain": [
       "year\n",
       "1983    1\n",
       "1987    1\n",
       "1988    1\n",
       "1992    2\n",
       "1996    3\n",
       "1997    3\n",
       "1998    2\n",
       "1999    4\n",
       "2000    2\n",
       "2001    2\n",
       "2002    3\n",
       "2003    2\n",
       "2004    1\n",
       "2005    2\n",
       "2006    1\n",
       "2007    2\n",
       "2008    2\n",
       "2009    3\n",
       "2010    3\n",
       "2011    2\n",
       "2013    1\n",
       "2014    1\n",
       "2015    1\n",
       "2016    2\n",
       "dtype: int64"
      ]
     },
     "execution_count": 150,
     "metadata": {},
     "output_type": "execute_result"
    }
   ],
   "source": [
    "c= cast\n",
    "c= c[c.name == 'George Clooney']\n",
    "c.groupby(['year']).n.size()"
   ]
  },
  {
   "cell_type": "code",
   "execution_count": 152,
   "metadata": {
    "collapsed": false
   },
   "outputs": [
    {
     "data": {
      "text/plain": [
       "year\n",
       "1980    15.0\n",
       "1990    23.0\n",
       "2000    36.0\n",
       "2010     2.0\n",
       "Name: n, dtype: float64"
      ]
     },
     "execution_count": 152,
     "metadata": {},
     "output_type": "execute_result"
    }
   ],
   "source": [
    "c= cast\n",
    "c= c[c.name == 'George Clooney']\n",
    "c.groupby(c.year//10*10).n.max()"
   ]
  },
  {
   "cell_type": "code",
   "execution_count": null,
   "metadata": {
    "collapsed": true
   },
   "outputs": [],
   "source": []
  },
  {
   "cell_type": "code",
   "execution_count": null,
   "metadata": {
    "collapsed": true
   },
   "outputs": [],
   "source": []
  },
  {
   "cell_type": "code",
   "execution_count": null,
   "metadata": {
    "collapsed": true
   },
   "outputs": [],
   "source": []
  },
  {
   "cell_type": "code",
   "execution_count": null,
   "metadata": {
    "collapsed": true
   },
   "outputs": [],
   "source": []
  },
  {
   "cell_type": "code",
   "execution_count": null,
   "metadata": {
    "collapsed": true
   },
   "outputs": [],
   "source": []
  },
  {
   "cell_type": "code",
   "execution_count": null,
   "metadata": {
    "collapsed": true
   },
   "outputs": [],
   "source": []
  },
  {
   "cell_type": "code",
   "execution_count": null,
   "metadata": {
    "collapsed": true
   },
   "outputs": [],
   "source": []
  },
  {
   "cell_type": "code",
   "execution_count": null,
   "metadata": {
    "collapsed": true
   },
   "outputs": [],
   "source": []
  },
  {
   "cell_type": "code",
   "execution_count": null,
   "metadata": {
    "collapsed": true
   },
   "outputs": [],
   "source": []
  },
  {
   "cell_type": "code",
   "execution_count": null,
   "metadata": {
    "collapsed": true
   },
   "outputs": [],
   "source": []
  },
  {
   "cell_type": "code",
   "execution_count": null,
   "metadata": {
    "collapsed": true
   },
   "outputs": [],
   "source": []
  },
  {
   "cell_type": "code",
   "execution_count": null,
   "metadata": {
    "collapsed": true
   },
   "outputs": [],
   "source": []
  },
  {
   "cell_type": "code",
   "execution_count": null,
   "metadata": {
    "collapsed": true
   },
   "outputs": [],
   "source": []
  },
  {
   "cell_type": "code",
   "execution_count": null,
   "metadata": {
    "collapsed": true
   },
   "outputs": [],
   "source": []
  },
  {
   "cell_type": "code",
   "execution_count": null,
   "metadata": {
    "collapsed": true
   },
   "outputs": [],
   "source": []
  }
 ],
 "metadata": {
  "kernelspec": {
   "display_name": "Python 3",
   "language": "python",
   "name": "python3"
  },
  "language_info": {
   "codemirror_mode": {
    "name": "ipython",
    "version": 3
   },
   "file_extension": ".py",
   "mimetype": "text/x-python",
   "name": "python",
   "nbconvert_exporter": "python",
   "pygments_lexer": "ipython3",
   "version": "3.6.0"
  }
 },
 "nbformat": 4,
 "nbformat_minor": 0
}
